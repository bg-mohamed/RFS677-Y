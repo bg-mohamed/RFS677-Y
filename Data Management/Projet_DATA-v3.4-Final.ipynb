{
 "cells": [
  {
   "cell_type": "code",
   "execution_count": null,
   "metadata": {},
   "outputs": [],
   "source": [
    "#import des librairies\n",
    "import numpy as np\n",
    "import pandas as pd\n",
    "import matplotlib.pyplot as plt\n",
    "from pandas_profiling import ProfileReport\n",
    "import seaborn as sns\n",
    "import math \n",
    "import warnings\n",
    "from sklearn.model_selection import train_test_split\n",
    "from sklearn import preprocessing\n",
    "from sklearn.linear_model import LogisticRegression\n",
    "from sklearn import metrics\n",
    "from sklearn.metrics import classification_report\n",
    "from sklearn.metrics import confusion_matrix"
   ]
  },
  {
   "cell_type": "markdown",
   "metadata": {},
   "source": [
    "## INPUT"
   ]
  },
  {
   "cell_type": "code",
   "execution_count": null,
   "metadata": {},
   "outputs": [],
   "source": [
    "#Lecture du fichier CSV en notifiant le delimiteur comme étant point-virgule\n",
    "df = pd.read_csv(\"data/du-vert-pres-de-chez-moi.csv\", sep=';')"
   ]
  },
  {
   "cell_type": "code",
   "execution_count": null,
   "metadata": {},
   "outputs": [],
   "source": [
    "# L'utilisation de la mémoire est réduite\n",
    "df['Arrondissement'] = pd.to_numeric(df['Arrondissement'], downcast='signed')"
   ]
  },
  {
   "cell_type": "code",
   "execution_count": null,
   "metadata": {},
   "outputs": [],
   "source": [
    "df.head()"
   ]
  },
  {
   "cell_type": "code",
   "execution_count": null,
   "metadata": {},
   "outputs": [],
   "source": [
    "print(f\"La base fait {df.shape[0]} lignes et {df.shape[1]} colonnes\")"
   ]
  },
  {
   "cell_type": "markdown",
   "metadata": {},
   "source": [
    "## Preprocessing"
   ]
  },
  {
   "cell_type": "code",
   "execution_count": null,
   "metadata": {},
   "outputs": [],
   "source": [
    "#Suppression des zéros dans la colonne arrondissement\n",
    "\n",
    "df.drop(df.loc[df['Arrondissement']==0.0].index, inplace=True)"
   ]
  },
  {
   "cell_type": "code",
   "execution_count": null,
   "metadata": {},
   "outputs": [],
   "source": [
    "#Valeurs uniques\n",
    "\n",
    "Numero = pd.DataFrame(df['Numéro'].value_counts())\n",
    "\n",
    "Numero"
   ]
  },
  {
   "cell_type": "code",
   "execution_count": null,
   "metadata": {
    "scrolled": false
   },
   "outputs": [],
   "source": [
    "PotentialDoublons = Numero[Numero['Numéro'] > 1]\n",
    "PotentialDoublons"
   ]
  },
  {
   "cell_type": "code",
   "execution_count": null,
   "metadata": {},
   "outputs": [],
   "source": [
    "def samePlace(num1, num2,code):\n",
    "    dx = float(df[df['Numéro'] == code]['Geo Point'].iloc[num1].split(',')[0]) - float(df[df['Numéro'] == code]['Geo Point'].iloc[num2].split(',')[0])\n",
    "    dy = float(df[df['Numéro'] == code]['Geo Point'].iloc[num1].split(',')[1]) - float(df[df['Numéro'] == code]['Geo Point'].iloc[num2].split(',')[1])\n",
    "    if math.sqrt(dx**2 + dy**2) < 10**-3 : return True\n",
    "    return False"
   ]
  },
  {
   "cell_type": "code",
   "execution_count": null,
   "metadata": {},
   "outputs": [],
   "source": [
    "# Les lignes qui ont le même numéro et leur coordonnés sont identiques, ils sont considérés comme des doublons!\n",
    "for _,code in enumerate(PotentialDoublons.index):\n",
    "    num = PotentialDoublons['Numéro'].loc[code]\n",
    "    while(num > 1):\n",
    "        if samePlace(num - 1,num - 2,code):\n",
    "            if(df[df['Numéro'] == code]['Avancement du projet'].iloc[num - 2] == '-'): \n",
    "                df.drop(df[df['Numéro'] == code].index[num - 2], inplace=True)\n",
    "            else : \n",
    "                df.drop(df[df['Numéro'] == code].index[num - 2], inplace=True)\n",
    "        num -= 1"
   ]
  },
  {
   "cell_type": "code",
   "execution_count": null,
   "metadata": {
    "scrolled": true
   },
   "outputs": [],
   "source": [
    "df.sort_values(by = 'Arrondissement', inplace = True)"
   ]
  },
  {
   "cell_type": "code",
   "execution_count": null,
   "metadata": {},
   "outputs": [],
   "source": [
    "df.drop(['Geo Shape', 'Adresse', 'Numéro'],axis = 1, inplace=True)"
   ]
  },
  {
   "cell_type": "code",
   "execution_count": null,
   "metadata": {
    "scrolled": true
   },
   "outputs": [],
   "source": [
    "df.head()"
   ]
  },
  {
   "cell_type": "markdown",
   "metadata": {},
   "source": [
    "## Pandas profiling"
   ]
  },
  {
   "cell_type": "code",
   "execution_count": null,
   "metadata": {
    "scrolled": false
   },
   "outputs": [],
   "source": [
    "profile = ProfileReport(df, title=\"Du Vert près de Chez moi\")\n",
    "profile"
   ]
  },
  {
   "cell_type": "markdown",
   "metadata": {},
   "source": [
    "En analysant la corrélation V de Cramer, on peut déduire une forte corrélation entre les colonnes:\n",
    "\n",
    "   `[Proposition non réalisable]`  & `[Etat de la proposition]` : 0.7-0.8\n",
    "\n",
    "   `[Avancement du projet]` & `[Etat de la proposition]` : 0.7-0.8\n",
    " "
   ]
  },
  {
   "cell_type": "code",
   "execution_count": null,
   "metadata": {},
   "outputs": [],
   "source": [
    "df['Etat de la proposition'].value_counts().to_frame()"
   ]
  },
  {
   "cell_type": "markdown",
   "metadata": {},
   "source": [
    "# **<span style=\"color:#37a871\">Groupage des stats dans la même colonne ['Avancement du projet']</span>**\n",
    "\n",
    "Le groupage nous permettera de mieux visualiser le status des propositions, si elles ont été retenues ou pas, et le cas échéant l'état d'avancement."
   ]
  },
  {
   "cell_type": "code",
   "execution_count": null,
   "metadata": {},
   "outputs": [],
   "source": [
    "df.loc[df['Proposition non réalisable'] != '-', ['Avancement du projet']] = \"non retenu\""
   ]
  },
  {
   "cell_type": "markdown",
   "metadata": {},
   "source": [
    "### Propositions non réalisables techniquement"
   ]
  },
  {
   "cell_type": "code",
   "execution_count": null,
   "metadata": {
    "scrolled": false
   },
   "outputs": [],
   "source": [
    "#le dataframe dfnrt contiendra toutes les Propositions non réalisables techniquement\n",
    "dfnrt= df[df['Etat de la proposition'] == 'Propositions non réalisables techniquement']"
   ]
  },
  {
   "cell_type": "code",
   "execution_count": null,
   "metadata": {
    "scrolled": true
   },
   "outputs": [],
   "source": [
    "dfnrt"
   ]
  },
  {
   "cell_type": "code",
   "execution_count": null,
   "metadata": {
    "scrolled": true
   },
   "outputs": [],
   "source": [
    "print(f\"La base fait {dfnrt.shape[0]} lignes et {dfnrt.shape[1]} colonnes\")"
   ]
  },
  {
   "cell_type": "markdown",
   "metadata": {},
   "source": [
    "#### Relation & statistiques entre les modalités de la colonne ['Etat de la proposition'] & ['Avancement du projet'] <span style=\"color:red\"> avant processing </span>"
   ]
  },
  {
   "cell_type": "code",
   "execution_count": null,
   "metadata": {
    "scrolled": true
   },
   "outputs": [],
   "source": [
    "df.loc[:,['Etat de la proposition','Avancement du projet']].value_counts().to_frame()"
   ]
  },
  {
   "cell_type": "code",
   "execution_count": null,
   "metadata": {},
   "outputs": [],
   "source": [
    "#le dataframe dfr contiendra toutes les Propositions réalisables mais pas forcément retenues\n",
    "dfr = df.drop(dfnrt.index)\n",
    "dfr"
   ]
  },
  {
   "cell_type": "code",
   "execution_count": null,
   "metadata": {
    "scrolled": false
   },
   "outputs": [],
   "source": [
    "print(f\"La base fait {dfr.shape[0]} lignes et {dfr.shape[1]} colonnes\")"
   ]
  },
  {
   "cell_type": "markdown",
   "metadata": {},
   "source": [
    "#### Les modalités de la colonne ['Etat de la proposition'] correspondant à \"-\" dans la colonne ['Proposition non réalisable] :"
   ]
  },
  {
   "cell_type": "code",
   "execution_count": null,
   "metadata": {},
   "outputs": [],
   "source": [
    "pd.DataFrame(dfr[dfr['Proposition non réalisable'] == '-'][\"Etat de la proposition\"].value_counts())"
   ]
  },
  {
   "cell_type": "markdown",
   "metadata": {},
   "source": [
    "#### Groupage des propositions non réalisables/non retenues dans le groupe \"non retenu\" de la colonne ['Avancement du projet']"
   ]
  },
  {
   "cell_type": "code",
   "execution_count": null,
   "metadata": {
    "scrolled": true
   },
   "outputs": [],
   "source": [
    "df.loc[df[\"Etat de la proposition\"].str.contains(\"Propositions non réalisables techniquement|non retenue dans les 200\"),['Avancement du projet']] = 'non retenu'"
   ]
  },
  {
   "cell_type": "markdown",
   "metadata": {},
   "source": [
    "#### Groupage des modalités \"Réalisé\" et \"Programmé\" sous le groupe \"retenu\" dans la colonne ['Avancement du projet']"
   ]
  },
  {
   "cell_type": "code",
   "execution_count": null,
   "metadata": {},
   "outputs": [],
   "source": [
    "#Groupage des propositions réalisées/programmées en un grand groupe : \"retenu\"\n",
    "df.loc[df[\"Avancement du projet\"].str.contains(\"Réalisé\"),['Avancement du projet']] = 'retenu'"
   ]
  },
  {
   "cell_type": "code",
   "execution_count": null,
   "metadata": {},
   "outputs": [],
   "source": [
    "df.loc[df[\"Avancement du projet\"].str.contains(\"Programmé\"),['Avancement du projet']] = 'retenu'"
   ]
  },
  {
   "cell_type": "code",
   "execution_count": null,
   "metadata": {},
   "outputs": [],
   "source": [
    "retenu = df[df['Avancement du projet'].eq('retenu')]"
   ]
  },
  {
   "cell_type": "markdown",
   "metadata": {},
   "source": [
    "#### Groupage des modalités \"en cours d'études/De substitution/De validation\" sous le groupe \"en cours de validation\" dans la colonne ['Avancement du projet']"
   ]
  },
  {
   "cell_type": "code",
   "execution_count": null,
   "metadata": {},
   "outputs": [],
   "source": [
    "#Groupage des propositions En cours d'études/De substitution/De validation en un grand groupe : \"en cours de validation\"\n",
    "df.loc[df[\"Avancement du projet\"].str.contains(\"En cours d'études\"),['Avancement du projet']] = 'en cours de validation'"
   ]
  },
  {
   "cell_type": "code",
   "execution_count": null,
   "metadata": {},
   "outputs": [],
   "source": [
    "df.loc[df[\"Avancement du projet\"].str.contains(\"En cours de substitution / En cours de validation\"),['Avancement du projet']] = 'en cours de validation'"
   ]
  },
  {
   "cell_type": "code",
   "execution_count": null,
   "metadata": {},
   "outputs": [],
   "source": [
    "encours = df[df['Avancement du projet'].eq('en cours de validation')]"
   ]
  },
  {
   "cell_type": "code",
   "execution_count": null,
   "metadata": {
    "scrolled": true
   },
   "outputs": [],
   "source": [
    "df['Avancement du projet'].value_counts().to_frame()"
   ]
  },
  {
   "cell_type": "markdown",
   "metadata": {},
   "source": [
    "#### 3 groupes distincts à partir desquels on peut dresser les stats par Arrondissements"
   ]
  },
  {
   "cell_type": "markdown",
   "metadata": {},
   "source": [
    "#### Relation & statistiques entre les modalités de la colonne ['Etat de la proposition'] & ['Avancement du projet'] <span style=\"color:red\"> après processing </span>"
   ]
  },
  {
   "cell_type": "code",
   "execution_count": null,
   "metadata": {},
   "outputs": [],
   "source": [
    "df.loc[:,['Etat de la proposition','Avancement du projet']].value_counts().to_frame()"
   ]
  },
  {
   "cell_type": "markdown",
   "metadata": {},
   "source": [
    "# **<span style=\"color:#37a871\">Stats par Arrondissement de toutes les propositions</span>**"
   ]
  },
  {
   "cell_type": "code",
   "execution_count": null,
   "metadata": {},
   "outputs": [],
   "source": [
    "#Indexation par Arrondissement\n",
    "df=df.set_index('Arrondissement')"
   ]
  },
  {
   "cell_type": "code",
   "execution_count": null,
   "metadata": {},
   "outputs": [],
   "source": [
    "#Stats pourcentages par Arrondissements\n",
    "df['Avancement du projet'].groupby(df.index).value_counts(normalize=True).mul(100).round(decimals=0).to_frame()"
   ]
  },
  {
   "cell_type": "code",
   "execution_count": null,
   "metadata": {
    "scrolled": false
   },
   "outputs": [],
   "source": [
    "arr= list(range(75001,75021))\n",
    "lis = []\n",
    "for i in arr: \n",
    "    lis.append(pd.DataFrame(df[df.index == i]['Avancement du projet'].value_counts()).loc['retenu'][0])\n",
    "dd = pd.concat([pd.DataFrame(df.index.value_counts()),pd.concat([pd.DataFrame([df.loc[df.index ==i,['Avancement du projet']].value_counts().values[0]], index=[i], columns=['non retenue']) for i in range(75001,75021)])],axis=1)\n",
    "dd = pd.concat([dd,pd.DataFrame(lis,index=arr, columns=['retenue'])],axis=1)\n",
    "dd['En cours'] = dd['Arrondissement'] - dd['non retenue'] - dd['retenue']\n",
    "dd = dd.reset_index()\n",
    "dd.columns = ['Arrondissement','Propositions','non retenue','retenue','en cours']\n",
    "dd['retenue + non retenue'] = dd['non retenue'] + dd['retenue']\n",
    "dd"
   ]
  },
  {
   "cell_type": "code",
   "execution_count": null,
   "metadata": {
    "scrolled": true
   },
   "outputs": [],
   "source": [
    "sns.set_theme(style=\"whitegrid\")\n",
    "\n",
    "f, ax = plt.subplots(figsize=(20, 6))\n",
    "\n",
    "sns.set_color_codes(\"bright\")\n",
    "sns.barplot(x=\"Arrondissement\", y=\"Propositions\", data=dd,\n",
    "            label=\"en cours\", color=\"g\")\n",
    "\n",
    "\n",
    "sns.set_color_codes(\"bright\")\n",
    "sns.barplot(x=\"Arrondissement\", y=\"retenue + non retenue\", data=dd,\n",
    "            label=\"retenue\", color=\"orange\")\n",
    "\n",
    "\n",
    "sns.set_color_codes(\"bright\")\n",
    "sns.barplot(x=\"Arrondissement\", y=\"non retenue\", data=dd,\n",
    "            label=\"non retenue\", color='b')\n",
    "\n",
    "\n",
    "ax.legend(ncol=2, loc=\"upper left\", frameon=True)\n",
    "ax.set(xlim=(-0.5, 20), ylabel=\"\",\n",
    "       xlabel=\"Stats totales par arrondissement\")\n",
    "sns.despine(left=True, bottom=True)"
   ]
  },
  {
   "cell_type": "code",
   "execution_count": null,
   "metadata": {},
   "outputs": [],
   "source": [
    "#Pie chart de toutes les propositions présentes dans la base de données\n",
    "df['Avancement du projet'].value_counts().plot(kind='pie',ylabel='', title= 'Stats totales des propositions', autopct='%1.f%%', legend = False, figsize=(12,6), fontsize=12,explode = [0, 0.2, 0.2]);"
   ]
  },
  {
   "cell_type": "markdown",
   "metadata": {},
   "source": [
    "## **<span style=\"color:#37a871\">Stats des propositions retenues par Arrondissement</span>**"
   ]
  },
  {
   "cell_type": "code",
   "execution_count": null,
   "metadata": {
    "scrolled": true
   },
   "outputs": [],
   "source": [
    "# data to plot\n",
    "n_groups = 20\n",
    "retenue = dd['retenue']\n",
    "encours = dd['en cours']\n",
    "\n",
    "# create plot\n",
    "fig, ax = plt.subplots(figsize=(26,8), dpi=70)\n",
    "index = np.arange(n_groups)\n",
    "bar_width = 0.35\n",
    "opacity = 0.8\n",
    "\n",
    "rects1 = plt.bar(index, retenue, bar_width,\n",
    "alpha=opacity,\n",
    "color='b',\n",
    "label='Retenue')\n",
    "\n",
    "rects2 = plt.bar(index + bar_width, encours, bar_width,\n",
    "alpha=opacity,\n",
    "color='g',\n",
    "label='En cours de validation')\n",
    "\n",
    "plt.xlabel('Arrondissement', fontsize= 25)\n",
    "plt.ylabel('Nombre de propositions', fontsize=25)\n",
    "plt.title('Propositions par Arrondissement Retenue et en cours de validation', fontsize= 30)\n",
    "plt.xticks(index + bar_width, list(range(75001,75021)),fontsize= 18)\n",
    "plt.legend(fontsize=20)\n",
    "\n",
    "plt.tight_layout()\n",
    "plt.show();"
   ]
  },
  {
   "cell_type": "markdown",
   "metadata": {},
   "source": [
    "### Types de végétalisation"
   ]
  },
  {
   "cell_type": "code",
   "execution_count": null,
   "metadata": {},
   "outputs": [],
   "source": [
    "warnings.filterwarnings(\"ignore\", 'This pattern has match groups' )"
   ]
  },
  {
   "cell_type": "code",
   "execution_count": null,
   "metadata": {},
   "outputs": [],
   "source": [
    "#Toutes les propositions non retenues\n",
    "nonretenu= df[df['Avancement du projet'] == 'non retenu'].copy(deep=True)\n",
    "nonretenu"
   ]
  },
  {
   "cell_type": "code",
   "execution_count": null,
   "metadata": {
    "scrolled": true
   },
   "outputs": [],
   "source": [
    "retenu=retenu.copy(deep=True)\n",
    "\n",
    "retenu"
   ]
  },
  {
   "cell_type": "code",
   "execution_count": null,
   "metadata": {
    "scrolled": true
   },
   "outputs": [],
   "source": [
    "encours = df[df['Avancement du projet'].eq('en cours de validation')]\n",
    "encours=encours.copy(deep=True)\n",
    "encours"
   ]
  },
  {
   "cell_type": "code",
   "execution_count": null,
   "metadata": {},
   "outputs": [],
   "source": [
    "nonretenu['Type de végétalisation'] = nonretenu['Type de végétalisation'].str.lower()"
   ]
  },
  {
   "cell_type": "code",
   "execution_count": null,
   "metadata": {},
   "outputs": [],
   "source": [
    "retenu['Type de végétalisation'] = retenu['Type de végétalisation'].str.lower()"
   ]
  },
  {
   "cell_type": "code",
   "execution_count": null,
   "metadata": {},
   "outputs": [],
   "source": [
    "encours['Type de végétalisation'] = encours['Type de végétalisation'].str.lower()"
   ]
  },
  {
   "cell_type": "code",
   "execution_count": null,
   "metadata": {
    "scrolled": true
   },
   "outputs": [],
   "source": [
    "#Type de végétalisation des projets retenus\n",
    "retenu['Type de végétalisation'].value_counts().to_frame()"
   ]
  },
  {
   "cell_type": "code",
   "execution_count": null,
   "metadata": {},
   "outputs": [],
   "source": [
    "#Type de végétalisation des projets en cours\n",
    "encours['Type de végétalisation'].value_counts().to_frame()"
   ]
  },
  {
   "cell_type": "code",
   "execution_count": null,
   "metadata": {
    "scrolled": true
   },
   "outputs": [],
   "source": [
    "#Type de végétalisation des projets non retenus\n",
    "nonretenu['Type de végétalisation'].value_counts().to_frame()"
   ]
  },
  {
   "cell_type": "code",
   "execution_count": null,
   "metadata": {},
   "outputs": [],
   "source": [
    "#Vérification des NaN\n",
    "retenu['Type de végétalisation'].isnull().sum()"
   ]
  },
  {
   "cell_type": "code",
   "execution_count": null,
   "metadata": {
    "scrolled": true
   },
   "outputs": [],
   "source": [
    "encours['Type de végétalisation'].isnull().sum()"
   ]
  },
  {
   "cell_type": "code",
   "execution_count": null,
   "metadata": {
    "scrolled": true
   },
   "outputs": [],
   "source": [
    "nonretenu['Type de végétalisation'].isnull().sum()"
   ]
  },
  {
   "cell_type": "code",
   "execution_count": null,
   "metadata": {
    "scrolled": true
   },
   "outputs": [],
   "source": [
    "#Inspection des lignes en question\n",
    "pd.options.display.max_colwidth = 300\n",
    "nonretenu[nonretenu['Type de végétalisation'].isnull()]"
   ]
  },
  {
   "cell_type": "code",
   "execution_count": null,
   "metadata": {},
   "outputs": [],
   "source": [
    "nonretenu['Type de végétalisation']=nonretenu['Type de végétalisation'].replace(np.nan, 'Autres', regex=True)"
   ]
  },
  {
   "cell_type": "markdown",
   "metadata": {},
   "source": [
    "#### Groupage & harmonisation des modalités"
   ]
  },
  {
   "cell_type": "code",
   "execution_count": null,
   "metadata": {},
   "outputs": [],
   "source": [
    "#Modalité \"Pots/Bacs/Jardinière\"\n",
    "retenu.loc[retenu['Type de végétalisation'].str.contains(r'(^.*pot.*$)|(^.*fleur.*$)|(^.*jardinière.*$)'), ['Type de végétalisation']] = \"Pots/Bacs/Jardinière\"\n",
    "\n",
    "encours.loc[encours['Type de végétalisation'].str.contains(r'(^.*pot.*$)|(^.*fleur.*$)|(^.*jardinière.*$)'), ['Type de végétalisation']] = \"Pots/Bacs/Jardinière\"\n",
    "\n",
    "nonretenu.loc[nonretenu['Type de végétalisation'].str.contains(r'(^.*pot.*$)|(^.*fleur.*$)|(^.*jardinière.*$)'), ['Type de végétalisation']] = \"Pots/Bacs/Jardinière\""
   ]
  },
  {
   "cell_type": "code",
   "execution_count": null,
   "metadata": {},
   "outputs": [],
   "source": [
    "#Modalité \"Mur végétlisé\"\n",
    "retenu.loc[retenu['Type de végétalisation'].str.contains(r'(^.*mur.*$)'), ['Type de végétalisation']] = \"Mur végétalisé\"\n",
    "\n",
    "encours.loc[encours['Type de végétalisation'].str.contains(r'(^.*mur.*$)'), ['Type de végétalisation']] = \"Mur végétalisé\"\n",
    "\n",
    "nonretenu.loc[nonretenu['Type de végétalisation'].str.contains(r'(^.*mur.*$)'), ['Type de végétalisation']] = \"Mur végétalisé\""
   ]
  },
  {
   "cell_type": "code",
   "execution_count": null,
   "metadata": {},
   "outputs": [],
   "source": [
    "#Modalité \"Plantations d'arbres\"\n",
    "retenu.loc[retenu['Type de végétalisation'].str.contains(r'(^.*arbre.*$)' or r'(^.*plantation.*$)'or r'(^.*comestible*.$)'), ['Type de végétalisation']] = \"Plantations d'Arbres\"\n",
    "\n",
    "encours.loc[encours['Type de végétalisation'].str.contains(r'(^.*arbre.*$)' or r'(^.*plantation.*$)'or r'(^.*comestible*.$)'), ['Type de végétalisation']] = \"Plantations d'Arbres\"\n",
    "\n",
    "nonretenu.loc[nonretenu['Type de végétalisation'].str.contains(r'(^.*arbre.*$)' or r'(^.*plantation.*$)'or r'(^.*comestible*.$)'), ['Type de végétalisation']] = \"Plantations d'Arbres\""
   ]
  },
  {
   "cell_type": "code",
   "execution_count": null,
   "metadata": {},
   "outputs": [],
   "source": [
    "#Modalité \"Végétalisations\"\n",
    "retenu.loc[retenu['Type de végétalisation'].str.contains(r'(^.*verger.*$)|(^.*plante.*$)|(^.*esplanade.*$)|(^.*végétalisation.*$)'), ['Type de végétalisation']] = \"Végétalisations\"\n",
    "\n",
    "encours.loc[encours['Type de végétalisation'].str.contains(r'(^.*verger.*$)|(^.*plante.*$)|(^.*esplanade.*$)|(^.*végétalisation.*$)'), ['Type de végétalisation']] = \"Végétalisations\"\n",
    "\n",
    "nonretenu.loc[nonretenu['Type de végétalisation'].str.contains(r'(^.*verger.*$)|(^.*plante.*$)|(^.*esplanade.*$)|(^.*végétalisation.*$)'), ['Type de végétalisation']] = \"Végétalisations\""
   ]
  },
  {
   "cell_type": "code",
   "execution_count": null,
   "metadata": {},
   "outputs": [],
   "source": [
    "#Modalité \"Autres\"\n",
    "retenu.loc[retenu['Type de végétalisation'].str.contains(r'(^.*autre*.$)|(^.*proposition*.$)'), ['Type de végétalisation']] = \"Autres\"\n",
    "\n",
    "encours.loc[encours['Type de végétalisation'].str.contains(r'(^.*autre*.$)|(^.*proposition*.$)'), ['Type de végétalisation']] = \"Autres\"\n",
    "\n",
    "nonretenu.loc[nonretenu['Type de végétalisation'].str.contains(r'(^.*autre*.$)|(^.*proposition*.$)'), ['Type de végétalisation']] = \"Autres\""
   ]
  },
  {
   "cell_type": "code",
   "execution_count": null,
   "metadata": {
    "scrolled": true
   },
   "outputs": [],
   "source": [
    "retenu['Type de végétalisation'].value_counts().to_frame()"
   ]
  },
  {
   "cell_type": "code",
   "execution_count": null,
   "metadata": {},
   "outputs": [],
   "source": [
    "encours['Type de végétalisation'].value_counts().to_frame()"
   ]
  },
  {
   "cell_type": "code",
   "execution_count": null,
   "metadata": {},
   "outputs": [],
   "source": [
    "nonretenu['Type de végétalisation'].value_counts().to_frame()"
   ]
  },
  {
   "cell_type": "code",
   "execution_count": null,
   "metadata": {},
   "outputs": [],
   "source": [
    "#Type de végétalisation  retenus\n",
    "fig, ax = plt.subplots(figsize=(12,7), dpi=70)\n",
    "plt.xticks(rotation=35)\n",
    "retenu['Type de végétalisation'].hist(ax=ax,alpha=1,rwidth=0.5)\n",
    "plt.title(\"Types de végétalisation des propositions retenues\");"
   ]
  },
  {
   "cell_type": "code",
   "execution_count": null,
   "metadata": {},
   "outputs": [],
   "source": [
    "#Type de végétalisation  en cours\n",
    "fig, ax = plt.subplots(figsize=(12,7), dpi=70)\n",
    "plt.xticks(rotation=35)\n",
    "encours['Type de végétalisation'].hist(ax=ax,alpha=1,rwidth=0.5)\n",
    "plt.title(\"Type de végétalisation  des propositions en cours\");"
   ]
  },
  {
   "cell_type": "code",
   "execution_count": null,
   "metadata": {
    "scrolled": true
   },
   "outputs": [],
   "source": [
    "#Type de végétalisation  non retenues\n",
    "fig, ax = plt.subplots(figsize=(12,7), dpi=70)\n",
    "plt.xticks(rotation=35)\n",
    "nonretenu['Type de végétalisation'].hist(ax=ax,alpha=1,rwidth=0.5)\n",
    "plt.title(\"Type de végétalisation  des propositions non retenues\");"
   ]
  },
  {
   "cell_type": "markdown",
   "metadata": {},
   "source": [
    "### Stats des causes de refus des propositions"
   ]
  },
  {
   "cell_type": "code",
   "execution_count": null,
   "metadata": {},
   "outputs": [],
   "source": [
    "#Les causes du refus des propositions avec ordre décroissant\n",
    "nonretenu['Proposition non réalisable'].value_counts(ascending=False).to_frame()"
   ]
  },
  {
   "cell_type": "markdown",
   "metadata": {},
   "source": [
    "#### Harmonisation des causes de refus par mots clés"
   ]
  },
  {
   "cell_type": "code",
   "execution_count": null,
   "metadata": {},
   "outputs": [],
   "source": [
    "#Vérification des NaN/Lignes vides\n",
    "nonretenu[\"Proposition non réalisable\"].isna().sum()"
   ]
  },
  {
   "cell_type": "code",
   "execution_count": null,
   "metadata": {},
   "outputs": [],
   "source": [
    "#Inspection des lignes en question\n",
    "pd.options.display.max_colwidth = 300\n",
    "nonretenu[nonretenu['Proposition non réalisable'].isna()]['Commentaitre accompagnant la proposition'].to_frame()"
   ]
  },
  {
   "cell_type": "markdown",
   "metadata": {},
   "source": [
    "En lisant les commentaires, aucune classification claire ne peut être attribuée à ces 2 propositions"
   ]
  },
  {
   "cell_type": "code",
   "execution_count": null,
   "metadata": {},
   "outputs": [],
   "source": [
    "nonretenu['Proposition non réalisable']=nonretenu['Proposition non réalisable'].replace(np.nan, 'hors contexte', regex=True)"
   ]
  },
  {
   "cell_type": "code",
   "execution_count": null,
   "metadata": {},
   "outputs": [],
   "source": [
    "#Modalité \"Domaine privé\"\n",
    "nonretenu.loc[nonretenu['Proposition non réalisable'].str.contains(r'(^.*public*.$)'), ['Proposition non réalisable']] = \"Domaine privé\""
   ]
  },
  {
   "cell_type": "code",
   "execution_count": null,
   "metadata": {},
   "outputs": [],
   "source": [
    "#Modalité \"Hors contexte\"\n",
    "nonretenu.loc[nonretenu['Proposition non réalisable'].str.contains(r'(^.*sans rapport*.$)|(^.*grande ampleur*.$)'), ['Proposition non réalisable']] = \"Hors contexte\""
   ]
  },
  {
   "cell_type": "code",
   "execution_count": null,
   "metadata": {},
   "outputs": [],
   "source": [
    "#Modalité \"Réalisable mais non retenue\"\n",
    "nonretenu.loc[nonretenu['Proposition non réalisable']=='-']['Etat de la proposition'].value_counts()\n"
   ]
  },
  {
   "cell_type": "code",
   "execution_count": null,
   "metadata": {},
   "outputs": [],
   "source": [
    "nonretenu.loc[nonretenu['Proposition non réalisable'].str.contains(\"-\"), ['Proposition non réalisable']] = \"Réalisable mais non retenue\""
   ]
  },
  {
   "cell_type": "code",
   "execution_count": null,
   "metadata": {},
   "outputs": [],
   "source": [
    "#Modalité \"Espace inadéquat\"\n",
    "nonretenu.loc[~nonretenu['Proposition non réalisable'].str.contains(r'(Domaine privé)|(hors contexte)|(Réalisable mais non retenue)'), ['Proposition non réalisable']] = \"Espace inadéquat\""
   ]
  },
  {
   "cell_type": "code",
   "execution_count": null,
   "metadata": {},
   "outputs": [],
   "source": [
    "nonretenu['Proposition non réalisable'].value_counts().to_frame()"
   ]
  },
  {
   "cell_type": "code",
   "execution_count": null,
   "metadata": {
    "scrolled": true
   },
   "outputs": [],
   "source": [
    "#Stats des causes de refus par arrondissement\n",
    "nonretenu['Proposition non réalisable'].groupby(nonretenu.index).value_counts(normalize=True).mul(100).round(decimals=0).to_frame()"
   ]
  },
  {
   "cell_type": "markdown",
   "metadata": {},
   "source": [
    "## **<span style=\"color:#37a871\">Stats des causes de refus par Arrondissement</span>**"
   ]
  },
  {
   "cell_type": "code",
   "execution_count": null,
   "metadata": {},
   "outputs": [],
   "source": [
    "frame = nonretenu['Proposition non réalisable'].groupby(nonretenu.index).value_counts().to_frame().copy(deep=True)\n",
    "frame.columns = ['Times']\n",
    "frame.reset_index(inplace=True)\n",
    "frame = frame.pivot(index='Arrondissement', columns='Proposition non réalisable',values='Times').fillna(0)\n",
    "frame.reset_index(inplace=True)\n",
    "frame['Dom. Pr + Esp Inad'] = frame['Domaine privé'] + frame['Espace inadéquat']\n",
    "frame['Dom. Pr + Esp Inad + Réal Non Ret'] = frame['Dom. Pr + Esp Inad'] + frame['Réalisable mais non retenue']\n",
    "frame['Total'] = frame['Dom. Pr + Esp Inad + Réal Non Ret'] + frame['hors contexte']"
   ]
  },
  {
   "cell_type": "code",
   "execution_count": null,
   "metadata": {},
   "outputs": [],
   "source": [
    "sns.set_theme(style=\"whitegrid\")\n",
    "\n",
    "f, ax = plt.subplots(figsize=(20, 6))\n",
    "\n",
    "sns.set_color_codes(\"bright\")\n",
    "sns.barplot(x=\"Arrondissement\", y=\"Total\", data=frame,\n",
    "            label=\"hors contexte\", color=\"g\")\n",
    "\n",
    "\n",
    "sns.set_color_codes(\"bright\")\n",
    "sns.barplot(x=\"Arrondissement\", y=\"Dom. Pr + Esp Inad + Réal Non Ret\", data=frame,\n",
    "            label=\"Réalisable mais non retenue\", color=\"orange\")\n",
    "\n",
    "\n",
    "sns.set_color_codes(\"bright\")\n",
    "sns.barplot(x=\"Arrondissement\", y=\"Dom. Pr + Esp Inad\", data=frame,\n",
    "            label=\"Espace inadéquat\", color='b')\n",
    "\n",
    "sns.set_color_codes(\"bright\")\n",
    "sns.barplot(x=\"Arrondissement\", y=\"Domaine privé\", data=frame,\n",
    "            label=\"Domaine privé\", color='r')\n",
    "\n",
    "\n",
    "ax.legend(ncol=2, loc=\"upper left\", frameon=True)\n",
    "ax.set(xlim=(-0.5, 20), ylabel=\"\",\n",
    "       xlabel=\"Causes de refus par Arrondissement\")\n",
    "sns.despine(left=True, bottom=True)"
   ]
  },
  {
   "cell_type": "markdown",
   "metadata": {},
   "source": [
    "## <h1><center><span style=\"color:RED\"> Model prediction </span> </center></h1>"
   ]
  },
  {
   "cell_type": "code",
   "execution_count": null,
   "metadata": {},
   "outputs": [],
   "source": [
    "retenu.set_index(['Arrondissement'], inplace=True)"
   ]
  },
  {
   "cell_type": "code",
   "execution_count": null,
   "metadata": {},
   "outputs": [],
   "source": [
    "df = pd.concat([retenu, encours, nonretenu], axis=0)"
   ]
  },
  {
   "cell_type": "code",
   "execution_count": null,
   "metadata": {},
   "outputs": [],
   "source": [
    "#Réduction des types de modalités dans la colonne Target\n",
    "df.loc[df['Avancement du projet'].str.contains('en cours'), ['Avancement du projet']] = \"retenu\""
   ]
  },
  {
   "cell_type": "markdown",
   "metadata": {},
   "source": [
    "[![11.png](https://i.postimg.cc/DZ28mpZ6/11.png)](https://postimg.cc/sBNVNc5G)"
   ]
  },
  {
   "cell_type": "markdown",
   "metadata": {},
   "source": [
    "En comparant la corrélation V de Cramer dans les 2 DF:\n",
    "\n",
    "La variable `[Type de végétalisation]` présentant une corrélation < 0.4 avec les autres variables, on a donc supprimé cette dernière\n",
    "\n",
    "\n",
    "DF initiale: \n",
    "\n",
    "   `[Proposition non réalisable]`  & `[Etat de la proposition]` : 0.7-0.8\n",
    "   \n",
    "   `[Avancement du projet]` & `[Etat de la proposition]` : 0.7-0.8\n",
    "\n",
    "DF modifié: \n",
    "\n",
    "   `[Proposition non réalisable]`  & `[Etat de la proposition]` : 0.9\n",
    "   \n",
    "   `[Avancement du projet]` & `[Etat de la proposition]` : 0.9\n",
    "  \n",
    " "
   ]
  },
  {
   "cell_type": "code",
   "execution_count": null,
   "metadata": {},
   "outputs": [],
   "source": [
    "df.drop(columns=['Geo Point','Type de végétalisation'], axis=1, inplace=True)"
   ]
  },
  {
   "cell_type": "markdown",
   "metadata": {},
   "source": [
    "### Split de la base de données"
   ]
  },
  {
   "cell_type": "code",
   "execution_count": null,
   "metadata": {
    "scrolled": true
   },
   "outputs": [],
   "source": [
    "print(f\"La base fait {df.shape[0]} lignes et {df.shape[1]} colonnes\")"
   ]
  },
  {
   "cell_type": "code",
   "execution_count": null,
   "metadata": {},
   "outputs": [],
   "source": [
    "df.columns"
   ]
  },
  {
   "cell_type": "code",
   "execution_count": null,
   "metadata": {},
   "outputs": [],
   "source": [
    "#X étant la dataframe des variables d'entrainement & Y la dataframe de la variable target\n",
    "\n",
    "X_train = df[['Proposition non réalisable','Etat de la proposition','Commentaitre accompagnant la proposition']]\n",
    "Y_train = df[['Avancement du projet']]"
   ]
  },
  {
   "cell_type": "markdown",
   "metadata": {},
   "source": [
    "## Le split Train/Validation/Test :\n",
    "\n",
    "- train = 53% df \n",
    "- validation = 22% df \n",
    "- test = 25% df"
   ]
  },
  {
   "cell_type": "code",
   "execution_count": null,
   "metadata": {},
   "outputs": [],
   "source": [
    "X_train, X_test, Y_train, Y_test = train_test_split(X_train, Y_train, test_size=0.25, random_state=0)\n",
    "\n",
    "X_train, X_val, Y_train, Y_val = train_test_split(X_train, Y_train, test_size=0.3, random_state=0)"
   ]
  },
  {
   "cell_type": "code",
   "execution_count": null,
   "metadata": {},
   "outputs": [],
   "source": [
    "print(f\"Les bases X_train & Y_train font {X_train.shape[0]} & {Y_train.shape[0]} lignes et {X_train.shape[1]} & {Y_train.shape[1]} colonnes\")\n",
    "\n",
    "print(f\"Les bases X_val & Y_val font {X_val.shape[0]} & {Y_val.shape[0]} lignes et {X_val.shape[1]} & {Y_val.shape[1]} colonnes\")\n",
    "\n",
    "print(f\"Les bases X_test & Y_test font {X_test.shape[0]} & {Y_test.shape[0]} lignes et {X_test.shape[1]} & {Y_test.shape[1]} colonnes\")"
   ]
  },
  {
   "cell_type": "markdown",
   "metadata": {},
   "source": [
    "## Encoding des données"
   ]
  },
  {
   "cell_type": "code",
   "execution_count": null,
   "metadata": {},
   "outputs": [],
   "source": [
    "label_encoder = preprocessing.LabelEncoder()"
   ]
  },
  {
   "cell_type": "code",
   "execution_count": null,
   "metadata": {},
   "outputs": [],
   "source": [
    "X_train_encod=X_train.apply(label_encoder.fit_transform)\n",
    "Y_train_encod=Y_train.apply(label_encoder.fit_transform)\n",
    "X_val_encod=X_val.apply(label_encoder.fit_transform)\n",
    "Y_val_encod=Y_val.apply(label_encoder.fit_transform)\n",
    "X_test_encod=X_test.apply(label_encoder.fit_transform)\n",
    "Y_test_encod=Y_test.apply(label_encoder.fit_transform)"
   ]
  },
  {
   "cell_type": "markdown",
   "metadata": {},
   "source": [
    "Le `Label encoding` assigne par défaut 0 /1 suivant l'ordre alphabétique\n",
    "\n",
    "`0` = `non retenu`\n",
    "\n",
    "`1` = `retenu`"
   ]
  },
  {
   "cell_type": "markdown",
   "metadata": {},
   "source": [
    "### Train"
   ]
  },
  {
   "cell_type": "code",
   "execution_count": null,
   "metadata": {
    "scrolled": true
   },
   "outputs": [],
   "source": [
    "#Entrainement du modele \n",
    "logreg= LogisticRegression()\n",
    "LogisticRegression(solver='lbfgs', max_iter=10000)\n",
    "logreg.fit(X_train_encod,Y_train_encod.values.ravel()) #Y_train_encod = nparray"
   ]
  },
  {
   "cell_type": "markdown",
   "metadata": {},
   "source": [
    "### Validation"
   ]
  },
  {
   "cell_type": "code",
   "execution_count": null,
   "metadata": {},
   "outputs": [],
   "source": [
    "#Validation\n",
    "Y_pred_val=logreg.predict(X_val_encod)"
   ]
  },
  {
   "cell_type": "code",
   "execution_count": null,
   "metadata": {
    "scrolled": true
   },
   "outputs": [],
   "source": [
    "class_report_v = classification_report(Y_val_encod, Y_pred_val, output_dict=True,target_names=['Non retenu', 'Retenu'],zero_division=1)\n",
    "pd.DataFrame(class_report_v)"
   ]
  },
  {
   "cell_type": "markdown",
   "metadata": {},
   "source": [
    "### Test"
   ]
  },
  {
   "cell_type": "code",
   "execution_count": null,
   "metadata": {},
   "outputs": [],
   "source": [
    "Y_pred_test=logreg.predict(X_test_encod)"
   ]
  },
  {
   "cell_type": "code",
   "execution_count": null,
   "metadata": {
    "scrolled": true
   },
   "outputs": [],
   "source": [
    "#Rapport de prédiction du X_test\n",
    "class_report_t = classification_report(Y_test_encod, Y_pred_test,output_dict=True,target_names=['Non retenu', 'Retenu'], zero_division = 1)\n",
    "pd.DataFrame(class_report_t)"
   ]
  },
  {
   "cell_type": "markdown",
   "metadata": {},
   "source": [
    "`recall` : Nombre de classes trouvées par rapport aux nombres entiers de cette même classe.\n",
    "\n",
    "`precision` : Combien de classes ont été correctements classifiées\n",
    "\n",
    "`f1-score` : La moyenne harmonique entre precision & recall\n",
    "\n",
    "`support` : Le nombre d'occurences de la classe donnée dans le dataframe "
   ]
  },
  {
   "cell_type": "code",
   "execution_count": null,
   "metadata": {},
   "outputs": [],
   "source": [
    "warnings.filterwarnings(\"ignore\", 'FixedFormatter' )"
   ]
  },
  {
   "cell_type": "code",
   "execution_count": null,
   "metadata": {
    "scrolled": true
   },
   "outputs": [],
   "source": [
    "#Matrice de confusion normalizée par rapports aux prédictions\n",
    "cm = confusion_matrix(Y_test_encod, Y_pred_test)\n",
    "print(\"La matrice de confusion : \\n{}\".format(cm))\n",
    "fig = plt.figure()\n",
    "ax = fig.add_subplot(111)\n",
    "cax = ax.matshow(cm)\n",
    "labels = ['non retenu', 'retenu']\n",
    "plt.title('Matrice de confusion normalizée/predictions', loc='center', fontsize=15)\n",
    "fig.colorbar(cax)\n",
    "ax.set_xticklabels([''] + labels)\n",
    "ax.set_yticklabels([''] + labels)\n",
    "plt.xlabel('Predictions')\n",
    "plt.ylabel('Réelles')\n",
    "plt.show()"
   ]
  },
  {
   "cell_type": "code",
   "execution_count": null,
   "metadata": {},
   "outputs": [],
   "source": []
  }
 ],
 "metadata": {
  "kernelspec": {
   "display_name": "Python 3",
   "language": "python",
   "name": "python3"
  },
  "language_info": {
   "codemirror_mode": {
    "name": "ipython",
    "version": 3
   },
   "file_extension": ".py",
   "mimetype": "text/x-python",
   "name": "python",
   "nbconvert_exporter": "python",
   "pygments_lexer": "ipython3",
   "version": "3.8.5"
  }
 },
 "nbformat": 4,
 "nbformat_minor": 4
}
