{
 "cells": [
  {
   "cell_type": "markdown",
   "metadata": {},
   "source": [
    "# 1-*INPUT*"
   ]
  },
  {
   "cell_type": "markdown",
   "metadata": {},
   "source": [
    "La \"source\" des données à traiter est sous forme de fichiers .csv comportant la liste des\n",
    "trades de bitcoin ayant eu lieu sur différents exchanges de Cryptomonnaies. \n",
    "\n",
    "La premiere partie du programme consistera à importer les **11 fichiers .csv** présents dans le même dossier que le notebook à travers les commandes :\n",
    "\n",
    "`glob.glob(chemin des fichiers)` Cette fonction permet de lire tous les fichiers présents sous le chemin donné. \n",
    "\n",
    "\n",
    "`pd.read_csv(\"nom du fichier.csv\")` Cette fonction permettera de définir chaque df à partir des données dans le csv file.\n",
    "\n",
    "L'indexation par défaut se faisant de 0 à lignes-1, on utilisera la colonne 'timestamp' déjà incluse dans le fichier comme \n",
    "index avec les arguments de la commande pd.read_csv(`index_col='timestamp', parse_dates=True`)\n",
    "\n",
    "\n",
    "Dans la même boucle, et par soucis d'optimisation une partie de la manipulation des données se fait en amont: \n",
    "\n",
    "Les produit des prix & valeurs seront calculés et stockés dans la colonne `[PV]`\n",
    "\n",
    "Un resampling selon la fréquence pour calculer la somme horaire des PV et des volumes par la commande:\n",
    "`df.resample(frequency).agg({'PV':['sum'],'amount':['sum']}`  avec frequency (5 min, 30 min ou 60 min) comme argument de ré-échantillonage et des fonctions aggrégés qui seront appliqués sur la colonne 'PV' et 'amount'"
   ]
  },
  {
   "cell_type": "code",
   "execution_count": 1,
   "metadata": {},
   "outputs": [],
   "source": [
    "#import des librairies\n",
    "import pandas as pd\n",
    "import glob"
   ]
  },
  {
   "cell_type": "code",
   "execution_count": 2,
   "metadata": {},
   "outputs": [
    {
     "name": "stdout",
     "output_type": "stream",
     "text": [
      "Choisissez une fréquence de calcul: 5 min / 30 min / 60 min60 min\n"
     ]
    }
   ],
   "source": [
    "#Requete d'input pour choisir la fréquence de calcul des métriques\n",
    "frequency=input(\"Choisissez une fréquence de calcul: 5 min / 30 min / 60 min\")\n",
    "    \n",
    "#définition du chemin d'accès\n",
    "pattern = 'data/*.csv'\n",
    "csv_files = glob.glob(pattern)\n",
    "\n",
    "#définition de listes vides\n",
    "dataframes = []\n",
    "dfohlc = []\n",
    "dfstd = []\n",
    "\n",
    "#boucle qui combine: lecture, traitement et calcul des dataframes\n",
    "for csv in csv_files:\n",
    "    #Création d'un à partir fichier csv avec indexation selon la colonne 'timestamp'\n",
    "    df = pd.read_csv(csv, index_col='timestamp', parse_dates=True)\n",
    "    \n",
    "    #Création d'une colonne PV=Price*Amount\n",
    "    df['PV'] =df['price']*df['amount']\n",
    "    \n",
    "    #Création puis stockage d'un autre df avec ré-échantillonage pour avoir l'ohlc \n",
    "    df_ohlc=df['price'].resample(frequency).ohlc()\n",
    "    dfohlc.append(df_ohlc)\n",
    "    \n",
    "    #Création puis stockage d'un autre df avec ré-échantillonage  pour avoir l'écart type \n",
    "    df_std=df['price'].resample(frequency).std()\n",
    "    dfstd.append(pd.DataFrame(df_std))\n",
    "    \n",
    "    #Ré-échantillonage du df avec calcul des sommes des P*V et la somme des Amounts\n",
    "    df=df.resample(frequency).agg({'PV':['sum'],'amount':['sum']})\n",
    "    \n",
    "    #Créaction d'une colonne Pvwap=Somme des P*V/Somme des Amounts\n",
    "    df['Pvwap'] =df['PV', 'sum']/df['amount','sum']\n",
    "    \n",
    "    #Stockage de chaque df dans la liste des dataframes\n",
    "    dataframes.append(df)"
   ]
  },
  {
   "cell_type": "markdown",
   "metadata": {},
   "source": [
    "# 2-*MANIPULATION*"
   ]
  },
  {
   "cell_type": "code",
   "execution_count": 3,
   "metadata": {
    "scrolled": true
   },
   "outputs": [
    {
     "data": {
      "text/plain": [
       "MultiIndex([(    'PV', 'sum'),\n",
       "            ('amount', 'sum'),\n",
       "            ( 'Pvwap',    '')],\n",
       "           )"
      ]
     },
     "execution_count": 3,
     "metadata": {},
     "output_type": "execute_result"
    }
   ],
   "source": [
    "dataframes[0].columns"
   ]
  },
  {
   "cell_type": "markdown",
   "metadata": {},
   "source": [
    "Maintenant qu'une partie de la manipulation des données est déjà faite, il serait judicieux de \n",
    "\n",
    "tester la présence de valeurs manquantes et choisir quelle méthode appliquer pour les traiter.\n",
    "\n",
    "En utilisant la fonction `.isna().sum()` qui affichera la somme des NaN par df"
   ]
  },
  {
   "cell_type": "code",
   "execution_count": 4,
   "metadata": {},
   "outputs": [
    {
     "name": "stdout",
     "output_type": "stream",
     "text": [
      "PV      sum    0\n",
      "amount  sum    0\n",
      "Pvwap          1\n",
      "dtype: int64\n",
      "PV      sum    0\n",
      "amount  sum    0\n",
      "Pvwap          0\n",
      "dtype: int64\n",
      "PV      sum    0\n",
      "amount  sum    0\n",
      "Pvwap          0\n",
      "dtype: int64\n",
      "PV      sum    0\n",
      "amount  sum    0\n",
      "Pvwap          0\n",
      "dtype: int64\n",
      "PV      sum    0\n",
      "amount  sum    0\n",
      "Pvwap          0\n",
      "dtype: int64\n",
      "PV      sum    0\n",
      "amount  sum    0\n",
      "Pvwap          0\n",
      "dtype: int64\n",
      "PV      sum    0\n",
      "amount  sum    0\n",
      "Pvwap          0\n",
      "dtype: int64\n",
      "PV      sum    0\n",
      "amount  sum    0\n",
      "Pvwap          0\n",
      "dtype: int64\n",
      "PV      sum    0\n",
      "amount  sum    0\n",
      "Pvwap          0\n",
      "dtype: int64\n",
      "PV      sum    0\n",
      "amount  sum    0\n",
      "Pvwap          0\n",
      "dtype: int64\n",
      "PV      sum    0\n",
      "amount  sum    0\n",
      "Pvwap          0\n",
      "dtype: int64\n"
     ]
    }
   ],
   "source": [
    "#Boucle de parcours de la liste dataframes pour test les valeurs manquantes\n",
    "for x in dataframes:\n",
    "    print(x.isna().sum())"
   ]
  },
  {
   "cell_type": "markdown",
   "metadata": {},
   "source": [
    "Notons la présence de valeurs manquantes dans les dataframes sont dûes à l'absence de transactions à un intervalle de temps donné.\n",
    "\n",
    "En assimilant le fait, que le prix n'ayant pas changé par rapport à l'intervalle précédent, on peut considérer la méthode `.fillna(method='ffill')` qui copiera les valeurs précédentes."
   ]
  },
  {
   "cell_type": "code",
   "execution_count": 5,
   "metadata": {
    "scrolled": true
   },
   "outputs": [],
   "source": [
    "#application de la méthode forwardfill sur le dataframe contenant des NaN\n",
    "for x in dataframes:\n",
    "    x=x.fillna(method='ffill')\n"
   ]
  },
  {
   "cell_type": "markdown",
   "metadata": {},
   "source": [
    "# 3-*CALCUL*"
   ]
  },
  {
   "attachments": {
    "PWVAP.png": {
     "image/png": "[encoded data removed]"
    }
   },
   "cell_type": "markdown",
   "metadata": {},
   "source": [
    "Le Volume weighted average price horaires du bitcoin se calculera avec cette formule:\n",
    "\n",
    "![PWVAP.png](attachment:PWVAP.png)"
   ]
  },
  {
   "cell_type": "markdown",
   "metadata": {},
   "source": [
    "Etant donné qu'on a déjà calculé le Pvwap lors de la boucle initiale ainsi que les valeurs OHLC, il ne reste plus qu'à présenter le dataframe final."
   ]
  },
  {
   "cell_type": "markdown",
   "metadata": {},
   "source": [
    "### Le dataframe final présentera les Pvwap des 11 exchanges et l'index horaire."
   ]
  },
  {
   "cell_type": "markdown",
   "metadata": {},
   "source": [
    "Pour cela on utilisera la fonction `pd.concat` à qui on passera en argument une liste de compréhension `[x[('Pvwap', '')] for x in` \n",
    "\n",
    "`dataframes]` qui prendra que la colonne des Pvwap suivant l'axe des colonnes `axis=1`\n",
    "\n",
    "Pour la bonne lecture des données, les Pvwap seront renommés avec le code de leur exchange avec`df.columns `.\n",
    "\n",
    "Et finalement, une colonne `[global_Pvwap]` sera ajoutée qui présentera les Pvwap horaires globaux et qui sera égale à, pour \n",
    "\n",
    "une heure donnée, la somme de tous les P*V divisée par la somme de tous les amounts.\n"
   ]
  },
  {
   "cell_type": "code",
   "execution_count": 12,
   "metadata": {},
   "outputs": [],
   "source": [
    "#Concatenation des 11 colonnes Pvwap dans un df \n",
    "dff=pd.concat([x[('Pvwap', '')] for x in dataframes],axis=1)\n",
    "\n",
    "#Renommer chaque colonne par son exchange\n",
    "dff.columns=['bfly_Pvwap','bfnx_Pvwap','bnus_Pvwap','btrx_Pvwap','cbse_Pvwap','gmni_Pvwap','itbi_Pvwap','krkn_Pvwap','lmax_Pvwap','okcn_Pvwap','stmp_Pvwap']\n",
    "\n",
    "#Calcul du Pvwap global\n",
    "for x in dataframes:\n",
    "    dff['global_Pvwap']=x[('PV', 'sum')].sum()/x[('amount', 'sum')].sum()\n",
    "    "
   ]
  },
  {
   "cell_type": "markdown",
   "metadata": {},
   "source": [
    "# 4-*Dataframe final*"
   ]
  },
  {
   "cell_type": "code",
   "execution_count": 13,
   "metadata": {
    "scrolled": true
   },
   "outputs": [
    {
     "data": {
      "text/html": [
       "<div>\n",
       "<style scoped>\n",
       "    .dataframe tbody tr th:only-of-type {\n",
       "        vertical-align: middle;\n",
       "    }\n",
       "\n",
       "    .dataframe tbody tr th {\n",
       "        vertical-align: top;\n",
       "    }\n",
       "\n",
       "    .dataframe thead th {\n",
       "        text-align: right;\n",
       "    }\n",
       "</style>\n",
       "<table border=\"1\" class=\"dataframe\">\n",
       "  <thead>\n",
       "    <tr style=\"text-align: right;\">\n",
       "      <th></th>\n",
       "      <th>bfly_Pvwap</th>\n",
       "      <th>bfnx_Pvwap</th>\n",
       "      <th>bnus_Pvwap</th>\n",
       "      <th>btrx_Pvwap</th>\n",
       "      <th>cbse_Pvwap</th>\n",
       "      <th>gmni_Pvwap</th>\n",
       "      <th>itbi_Pvwap</th>\n",
       "      <th>krkn_Pvwap</th>\n",
       "      <th>lmax_Pvwap</th>\n",
       "      <th>okcn_Pvwap</th>\n",
       "      <th>stmp_Pvwap</th>\n",
       "      <th>global_Pvwap</th>\n",
       "    </tr>\n",
       "    <tr>\n",
       "      <th>timestamp</th>\n",
       "      <th></th>\n",
       "      <th></th>\n",
       "      <th></th>\n",
       "      <th></th>\n",
       "      <th></th>\n",
       "      <th></th>\n",
       "      <th></th>\n",
       "      <th></th>\n",
       "      <th></th>\n",
       "      <th></th>\n",
       "      <th></th>\n",
       "      <th></th>\n",
       "    </tr>\n",
       "  </thead>\n",
       "  <tbody>\n",
       "    <tr>\n",
       "      <th>2021-02-24 00:00:00</th>\n",
       "      <td>48006.990396</td>\n",
       "      <td>47778.970482</td>\n",
       "      <td>47846.763010</td>\n",
       "      <td>47861.252787</td>\n",
       "      <td>47945.341624</td>\n",
       "      <td>47981.711507</td>\n",
       "      <td>47772.255562</td>\n",
       "      <td>47698.307100</td>\n",
       "      <td>47880.958914</td>\n",
       "      <td>47954.733900</td>\n",
       "      <td>47944.262770</td>\n",
       "      <td>49869.866475</td>\n",
       "    </tr>\n",
       "    <tr>\n",
       "      <th>2021-02-24 01:00:00</th>\n",
       "      <td>49607.923645</td>\n",
       "      <td>49441.592938</td>\n",
       "      <td>49196.187346</td>\n",
       "      <td>49343.265805</td>\n",
       "      <td>49317.201370</td>\n",
       "      <td>49458.079101</td>\n",
       "      <td>49509.699420</td>\n",
       "      <td>49179.026877</td>\n",
       "      <td>49250.834067</td>\n",
       "      <td>49422.816196</td>\n",
       "      <td>49220.299732</td>\n",
       "      <td>49869.866475</td>\n",
       "    </tr>\n",
       "    <tr>\n",
       "      <th>2021-02-24 02:00:00</th>\n",
       "      <td>50196.677303</td>\n",
       "      <td>50237.005036</td>\n",
       "      <td>50200.414314</td>\n",
       "      <td>50264.128120</td>\n",
       "      <td>50248.894775</td>\n",
       "      <td>50268.259968</td>\n",
       "      <td>50260.294897</td>\n",
       "      <td>50214.502350</td>\n",
       "      <td>50227.852912</td>\n",
       "      <td>50218.786802</td>\n",
       "      <td>50283.555918</td>\n",
       "      <td>49869.866475</td>\n",
       "    </tr>\n",
       "    <tr>\n",
       "      <th>2021-02-24 03:00:00</th>\n",
       "      <td>50948.000000</td>\n",
       "      <td>50608.443325</td>\n",
       "      <td>50523.291435</td>\n",
       "      <td>50528.684300</td>\n",
       "      <td>50498.142558</td>\n",
       "      <td>50494.398639</td>\n",
       "      <td>50533.802903</td>\n",
       "      <td>50537.044841</td>\n",
       "      <td>50458.462794</td>\n",
       "      <td>50435.243773</td>\n",
       "      <td>50472.637817</td>\n",
       "      <td>49869.866475</td>\n",
       "    </tr>\n",
       "    <tr>\n",
       "      <th>2021-02-24 04:00:00</th>\n",
       "      <td>50892.806229</td>\n",
       "      <td>50889.743300</td>\n",
       "      <td>50900.796481</td>\n",
       "      <td>50914.284328</td>\n",
       "      <td>50942.646520</td>\n",
       "      <td>50934.953286</td>\n",
       "      <td>51019.753640</td>\n",
       "      <td>50917.060833</td>\n",
       "      <td>50851.638004</td>\n",
       "      <td>51023.204299</td>\n",
       "      <td>50987.941708</td>\n",
       "      <td>49869.866475</td>\n",
       "    </tr>\n",
       "    <tr>\n",
       "      <th>2021-02-24 05:00:00</th>\n",
       "      <td>NaN</td>\n",
       "      <td>50344.152274</td>\n",
       "      <td>50383.987434</td>\n",
       "      <td>50537.358940</td>\n",
       "      <td>50513.989242</td>\n",
       "      <td>50528.602570</td>\n",
       "      <td>50416.281591</td>\n",
       "      <td>50421.092041</td>\n",
       "      <td>50473.959563</td>\n",
       "      <td>50399.457611</td>\n",
       "      <td>50440.124897</td>\n",
       "      <td>49869.866475</td>\n",
       "    </tr>\n",
       "    <tr>\n",
       "      <th>2021-02-24 06:00:00</th>\n",
       "      <td>49978.511632</td>\n",
       "      <td>49713.514206</td>\n",
       "      <td>50046.486487</td>\n",
       "      <td>50033.771901</td>\n",
       "      <td>49982.465002</td>\n",
       "      <td>49935.135891</td>\n",
       "      <td>49907.747367</td>\n",
       "      <td>49916.108053</td>\n",
       "      <td>50061.808328</td>\n",
       "      <td>49940.207735</td>\n",
       "      <td>49939.781897</td>\n",
       "      <td>49869.866475</td>\n",
       "    </tr>\n",
       "    <tr>\n",
       "      <th>2021-02-24 07:00:00</th>\n",
       "      <td>49680.100000</td>\n",
       "      <td>49899.138736</td>\n",
       "      <td>49861.581152</td>\n",
       "      <td>50032.963471</td>\n",
       "      <td>49959.624169</td>\n",
       "      <td>50034.858944</td>\n",
       "      <td>49944.963422</td>\n",
       "      <td>49994.271641</td>\n",
       "      <td>49996.280196</td>\n",
       "      <td>50030.400520</td>\n",
       "      <td>49974.235438</td>\n",
       "      <td>49869.866475</td>\n",
       "    </tr>\n",
       "    <tr>\n",
       "      <th>2021-02-24 08:00:00</th>\n",
       "      <td>50144.205464</td>\n",
       "      <td>50629.718533</td>\n",
       "      <td>50559.886413</td>\n",
       "      <td>50587.218865</td>\n",
       "      <td>50541.090694</td>\n",
       "      <td>50476.882959</td>\n",
       "      <td>50600.265267</td>\n",
       "      <td>50545.216768</td>\n",
       "      <td>50552.860398</td>\n",
       "      <td>50482.659430</td>\n",
       "      <td>50594.394449</td>\n",
       "      <td>49869.866475</td>\n",
       "    </tr>\n",
       "    <tr>\n",
       "      <th>2021-02-24 09:00:00</th>\n",
       "      <td>50884.023714</td>\n",
       "      <td>50887.439443</td>\n",
       "      <td>50842.080628</td>\n",
       "      <td>50947.529893</td>\n",
       "      <td>50901.001611</td>\n",
       "      <td>50901.639070</td>\n",
       "      <td>51014.427564</td>\n",
       "      <td>50987.736822</td>\n",
       "      <td>50934.152165</td>\n",
       "      <td>51005.570586</td>\n",
       "      <td>50902.708746</td>\n",
       "      <td>49869.866475</td>\n",
       "    </tr>\n",
       "    <tr>\n",
       "      <th>2021-02-24 10:00:00</th>\n",
       "      <td>50536.602041</td>\n",
       "      <td>50480.384254</td>\n",
       "      <td>50515.867452</td>\n",
       "      <td>50665.392921</td>\n",
       "      <td>50523.886721</td>\n",
       "      <td>50494.324252</td>\n",
       "      <td>50588.054390</td>\n",
       "      <td>50643.536208</td>\n",
       "      <td>50514.769692</td>\n",
       "      <td>50564.539463</td>\n",
       "      <td>50590.393464</td>\n",
       "      <td>49869.866475</td>\n",
       "    </tr>\n",
       "    <tr>\n",
       "      <th>2021-02-24 11:00:00</th>\n",
       "      <td>50474.184698</td>\n",
       "      <td>50494.052136</td>\n",
       "      <td>50475.338733</td>\n",
       "      <td>50556.416640</td>\n",
       "      <td>50498.455216</td>\n",
       "      <td>50446.875139</td>\n",
       "      <td>50500.795390</td>\n",
       "      <td>50523.501578</td>\n",
       "      <td>50505.688077</td>\n",
       "      <td>50556.759305</td>\n",
       "      <td>50480.338478</td>\n",
       "      <td>49869.866475</td>\n",
       "    </tr>\n",
       "    <tr>\n",
       "      <th>2021-02-24 12:00:00</th>\n",
       "      <td>51228.616364</td>\n",
       "      <td>50976.883072</td>\n",
       "      <td>50870.863408</td>\n",
       "      <td>50907.729530</td>\n",
       "      <td>50935.790979</td>\n",
       "      <td>50932.913060</td>\n",
       "      <td>50956.067366</td>\n",
       "      <td>50864.097845</td>\n",
       "      <td>50918.641498</td>\n",
       "      <td>50921.934715</td>\n",
       "      <td>50947.570599</td>\n",
       "      <td>49869.866475</td>\n",
       "    </tr>\n",
       "    <tr>\n",
       "      <th>2021-02-24 13:00:00</th>\n",
       "      <td>49681.734856</td>\n",
       "      <td>49701.256411</td>\n",
       "      <td>49783.077635</td>\n",
       "      <td>49839.742131</td>\n",
       "      <td>49811.472119</td>\n",
       "      <td>49750.219364</td>\n",
       "      <td>49790.028432</td>\n",
       "      <td>49743.211946</td>\n",
       "      <td>49827.035500</td>\n",
       "      <td>49953.170583</td>\n",
       "      <td>49893.768540</td>\n",
       "      <td>49869.866475</td>\n",
       "    </tr>\n",
       "    <tr>\n",
       "      <th>2021-02-24 14:00:00</th>\n",
       "      <td>49266.087850</td>\n",
       "      <td>49233.188583</td>\n",
       "      <td>49251.723838</td>\n",
       "      <td>49311.928912</td>\n",
       "      <td>49293.346463</td>\n",
       "      <td>49282.042100</td>\n",
       "      <td>49260.066525</td>\n",
       "      <td>49223.085281</td>\n",
       "      <td>49274.408306</td>\n",
       "      <td>49345.871820</td>\n",
       "      <td>49236.200293</td>\n",
       "      <td>49869.866475</td>\n",
       "    </tr>\n",
       "    <tr>\n",
       "      <th>2021-02-24 15:00:00</th>\n",
       "      <td>48785.145928</td>\n",
       "      <td>49011.131584</td>\n",
       "      <td>49258.306863</td>\n",
       "      <td>49280.555708</td>\n",
       "      <td>49224.856517</td>\n",
       "      <td>49249.513262</td>\n",
       "      <td>49062.979123</td>\n",
       "      <td>49217.787308</td>\n",
       "      <td>49324.913761</td>\n",
       "      <td>49288.106394</td>\n",
       "      <td>49221.752536</td>\n",
       "      <td>49869.866475</td>\n",
       "    </tr>\n",
       "    <tr>\n",
       "      <th>2021-02-24 16:00:00</th>\n",
       "      <td>49645.483600</td>\n",
       "      <td>49734.684912</td>\n",
       "      <td>49765.878311</td>\n",
       "      <td>49805.936932</td>\n",
       "      <td>49748.948299</td>\n",
       "      <td>49720.094217</td>\n",
       "      <td>49749.262596</td>\n",
       "      <td>49749.960860</td>\n",
       "      <td>49755.518204</td>\n",
       "      <td>49824.679690</td>\n",
       "      <td>49757.699345</td>\n",
       "      <td>49869.866475</td>\n",
       "    </tr>\n",
       "    <tr>\n",
       "      <th>2021-02-24 17:00:00</th>\n",
       "      <td>49714.249704</td>\n",
       "      <td>49788.338504</td>\n",
       "      <td>49808.544722</td>\n",
       "      <td>49786.375155</td>\n",
       "      <td>49813.534998</td>\n",
       "      <td>49843.673337</td>\n",
       "      <td>49815.871953</td>\n",
       "      <td>49842.350098</td>\n",
       "      <td>49845.112441</td>\n",
       "      <td>49817.802710</td>\n",
       "      <td>49847.050543</td>\n",
       "      <td>49869.866475</td>\n",
       "    </tr>\n",
       "    <tr>\n",
       "      <th>2021-02-24 18:00:00</th>\n",
       "      <td>49602.439024</td>\n",
       "      <td>49795.622560</td>\n",
       "      <td>49795.325779</td>\n",
       "      <td>49797.741514</td>\n",
       "      <td>49790.606855</td>\n",
       "      <td>49796.550879</td>\n",
       "      <td>49791.772547</td>\n",
       "      <td>49813.098122</td>\n",
       "      <td>49796.547791</td>\n",
       "      <td>49797.709996</td>\n",
       "      <td>49838.075835</td>\n",
       "      <td>49869.866475</td>\n",
       "    </tr>\n",
       "    <tr>\n",
       "      <th>2021-02-24 19:00:00</th>\n",
       "      <td>49191.600563</td>\n",
       "      <td>49214.864132</td>\n",
       "      <td>49355.109623</td>\n",
       "      <td>49257.819346</td>\n",
       "      <td>49259.860732</td>\n",
       "      <td>49204.725466</td>\n",
       "      <td>49411.327848</td>\n",
       "      <td>49230.388097</td>\n",
       "      <td>49317.071732</td>\n",
       "      <td>49343.114456</td>\n",
       "      <td>49337.141714</td>\n",
       "      <td>49869.866475</td>\n",
       "    </tr>\n",
       "    <tr>\n",
       "      <th>2021-02-24 20:00:00</th>\n",
       "      <td>48991.421225</td>\n",
       "      <td>48895.911947</td>\n",
       "      <td>48906.476335</td>\n",
       "      <td>48907.006080</td>\n",
       "      <td>48922.873467</td>\n",
       "      <td>48952.988324</td>\n",
       "      <td>48880.346896</td>\n",
       "      <td>48964.871226</td>\n",
       "      <td>48952.608092</td>\n",
       "      <td>48851.209268</td>\n",
       "      <td>48927.907365</td>\n",
       "      <td>49869.866475</td>\n",
       "    </tr>\n",
       "    <tr>\n",
       "      <th>2021-02-24 21:00:00</th>\n",
       "      <td>48404.532367</td>\n",
       "      <td>48440.911774</td>\n",
       "      <td>48485.980606</td>\n",
       "      <td>48486.392268</td>\n",
       "      <td>48476.878211</td>\n",
       "      <td>48526.697204</td>\n",
       "      <td>48526.432824</td>\n",
       "      <td>48499.380608</td>\n",
       "      <td>48518.462038</td>\n",
       "      <td>48451.587572</td>\n",
       "      <td>48509.784282</td>\n",
       "      <td>49869.866475</td>\n",
       "    </tr>\n",
       "    <tr>\n",
       "      <th>2021-02-24 22:00:00</th>\n",
       "      <td>48270.598647</td>\n",
       "      <td>48531.103989</td>\n",
       "      <td>48549.925443</td>\n",
       "      <td>48566.458228</td>\n",
       "      <td>48579.180689</td>\n",
       "      <td>48650.565402</td>\n",
       "      <td>48497.261357</td>\n",
       "      <td>48540.346388</td>\n",
       "      <td>48645.530586</td>\n",
       "      <td>48543.495588</td>\n",
       "      <td>48580.633397</td>\n",
       "      <td>49869.866475</td>\n",
       "    </tr>\n",
       "    <tr>\n",
       "      <th>2021-02-24 23:00:00</th>\n",
       "      <td>49610.564199</td>\n",
       "      <td>49385.749440</td>\n",
       "      <td>49399.630134</td>\n",
       "      <td>49488.224862</td>\n",
       "      <td>49428.972903</td>\n",
       "      <td>49457.500518</td>\n",
       "      <td>49493.097791</td>\n",
       "      <td>49459.905292</td>\n",
       "      <td>49423.471087</td>\n",
       "      <td>49568.860668</td>\n",
       "      <td>49504.553952</td>\n",
       "      <td>49869.866475</td>\n",
       "    </tr>\n",
       "  </tbody>\n",
       "</table>\n",
       "</div>"
      ],
      "text/plain": [
       "                       bfly_Pvwap    bfnx_Pvwap    bnus_Pvwap    btrx_Pvwap  \\\n",
       "timestamp                                                                     \n",
       "2021-02-24 00:00:00  48006.990396  47778.970482  47846.763010  47861.252787   \n",
       "2021-02-24 01:00:00  49607.923645  49441.592938  49196.187346  49343.265805   \n",
       "2021-02-24 02:00:00  50196.677303  50237.005036  50200.414314  50264.128120   \n",
       "2021-02-24 03:00:00  50948.000000  50608.443325  50523.291435  50528.684300   \n",
       "2021-02-24 04:00:00  50892.806229  50889.743300  50900.796481  50914.284328   \n",
       "2021-02-24 05:00:00           NaN  50344.152274  50383.987434  50537.358940   \n",
       "2021-02-24 06:00:00  49978.511632  49713.514206  50046.486487  50033.771901   \n",
       "2021-02-24 07:00:00  49680.100000  49899.138736  49861.581152  50032.963471   \n",
       "2021-02-24 08:00:00  50144.205464  50629.718533  50559.886413  50587.218865   \n",
       "2021-02-24 09:00:00  50884.023714  50887.439443  50842.080628  50947.529893   \n",
       "2021-02-24 10:00:00  50536.602041  50480.384254  50515.867452  50665.392921   \n",
       "2021-02-24 11:00:00  50474.184698  50494.052136  50475.338733  50556.416640   \n",
       "2021-02-24 12:00:00  51228.616364  50976.883072  50870.863408  50907.729530   \n",
       "2021-02-24 13:00:00  49681.734856  49701.256411  49783.077635  49839.742131   \n",
       "2021-02-24 14:00:00  49266.087850  49233.188583  49251.723838  49311.928912   \n",
       "2021-02-24 15:00:00  48785.145928  49011.131584  49258.306863  49280.555708   \n",
       "2021-02-24 16:00:00  49645.483600  49734.684912  49765.878311  49805.936932   \n",
       "2021-02-24 17:00:00  49714.249704  49788.338504  49808.544722  49786.375155   \n",
       "2021-02-24 18:00:00  49602.439024  49795.622560  49795.325779  49797.741514   \n",
       "2021-02-24 19:00:00  49191.600563  49214.864132  49355.109623  49257.819346   \n",
       "2021-02-24 20:00:00  48991.421225  48895.911947  48906.476335  48907.006080   \n",
       "2021-02-24 21:00:00  48404.532367  48440.911774  48485.980606  48486.392268   \n",
       "2021-02-24 22:00:00  48270.598647  48531.103989  48549.925443  48566.458228   \n",
       "2021-02-24 23:00:00  49610.564199  49385.749440  49399.630134  49488.224862   \n",
       "\n",
       "                       cbse_Pvwap    gmni_Pvwap    itbi_Pvwap    krkn_Pvwap  \\\n",
       "timestamp                                                                     \n",
       "2021-02-24 00:00:00  47945.341624  47981.711507  47772.255562  47698.307100   \n",
       "2021-02-24 01:00:00  49317.201370  49458.079101  49509.699420  49179.026877   \n",
       "2021-02-24 02:00:00  50248.894775  50268.259968  50260.294897  50214.502350   \n",
       "2021-02-24 03:00:00  50498.142558  50494.398639  50533.802903  50537.044841   \n",
       "2021-02-24 04:00:00  50942.646520  50934.953286  51019.753640  50917.060833   \n",
       "2021-02-24 05:00:00  50513.989242  50528.602570  50416.281591  50421.092041   \n",
       "2021-02-24 06:00:00  49982.465002  49935.135891  49907.747367  49916.108053   \n",
       "2021-02-24 07:00:00  49959.624169  50034.858944  49944.963422  49994.271641   \n",
       "2021-02-24 08:00:00  50541.090694  50476.882959  50600.265267  50545.216768   \n",
       "2021-02-24 09:00:00  50901.001611  50901.639070  51014.427564  50987.736822   \n",
       "2021-02-24 10:00:00  50523.886721  50494.324252  50588.054390  50643.536208   \n",
       "2021-02-24 11:00:00  50498.455216  50446.875139  50500.795390  50523.501578   \n",
       "2021-02-24 12:00:00  50935.790979  50932.913060  50956.067366  50864.097845   \n",
       "2021-02-24 13:00:00  49811.472119  49750.219364  49790.028432  49743.211946   \n",
       "2021-02-24 14:00:00  49293.346463  49282.042100  49260.066525  49223.085281   \n",
       "2021-02-24 15:00:00  49224.856517  49249.513262  49062.979123  49217.787308   \n",
       "2021-02-24 16:00:00  49748.948299  49720.094217  49749.262596  49749.960860   \n",
       "2021-02-24 17:00:00  49813.534998  49843.673337  49815.871953  49842.350098   \n",
       "2021-02-24 18:00:00  49790.606855  49796.550879  49791.772547  49813.098122   \n",
       "2021-02-24 19:00:00  49259.860732  49204.725466  49411.327848  49230.388097   \n",
       "2021-02-24 20:00:00  48922.873467  48952.988324  48880.346896  48964.871226   \n",
       "2021-02-24 21:00:00  48476.878211  48526.697204  48526.432824  48499.380608   \n",
       "2021-02-24 22:00:00  48579.180689  48650.565402  48497.261357  48540.346388   \n",
       "2021-02-24 23:00:00  49428.972903  49457.500518  49493.097791  49459.905292   \n",
       "\n",
       "                       lmax_Pvwap    okcn_Pvwap    stmp_Pvwap  global_Pvwap  \n",
       "timestamp                                                                    \n",
       "2021-02-24 00:00:00  47880.958914  47954.733900  47944.262770  49869.866475  \n",
       "2021-02-24 01:00:00  49250.834067  49422.816196  49220.299732  49869.866475  \n",
       "2021-02-24 02:00:00  50227.852912  50218.786802  50283.555918  49869.866475  \n",
       "2021-02-24 03:00:00  50458.462794  50435.243773  50472.637817  49869.866475  \n",
       "2021-02-24 04:00:00  50851.638004  51023.204299  50987.941708  49869.866475  \n",
       "2021-02-24 05:00:00  50473.959563  50399.457611  50440.124897  49869.866475  \n",
       "2021-02-24 06:00:00  50061.808328  49940.207735  49939.781897  49869.866475  \n",
       "2021-02-24 07:00:00  49996.280196  50030.400520  49974.235438  49869.866475  \n",
       "2021-02-24 08:00:00  50552.860398  50482.659430  50594.394449  49869.866475  \n",
       "2021-02-24 09:00:00  50934.152165  51005.570586  50902.708746  49869.866475  \n",
       "2021-02-24 10:00:00  50514.769692  50564.539463  50590.393464  49869.866475  \n",
       "2021-02-24 11:00:00  50505.688077  50556.759305  50480.338478  49869.866475  \n",
       "2021-02-24 12:00:00  50918.641498  50921.934715  50947.570599  49869.866475  \n",
       "2021-02-24 13:00:00  49827.035500  49953.170583  49893.768540  49869.866475  \n",
       "2021-02-24 14:00:00  49274.408306  49345.871820  49236.200293  49869.866475  \n",
       "2021-02-24 15:00:00  49324.913761  49288.106394  49221.752536  49869.866475  \n",
       "2021-02-24 16:00:00  49755.518204  49824.679690  49757.699345  49869.866475  \n",
       "2021-02-24 17:00:00  49845.112441  49817.802710  49847.050543  49869.866475  \n",
       "2021-02-24 18:00:00  49796.547791  49797.709996  49838.075835  49869.866475  \n",
       "2021-02-24 19:00:00  49317.071732  49343.114456  49337.141714  49869.866475  \n",
       "2021-02-24 20:00:00  48952.608092  48851.209268  48927.907365  49869.866475  \n",
       "2021-02-24 21:00:00  48518.462038  48451.587572  48509.784282  49869.866475  \n",
       "2021-02-24 22:00:00  48645.530586  48543.495588  48580.633397  49869.866475  \n",
       "2021-02-24 23:00:00  49423.471087  49568.860668  49504.553952  49869.866475  "
      ]
     },
     "execution_count": 13,
     "metadata": {},
     "output_type": "execute_result"
    }
   ],
   "source": [
    "dff"
   ]
  },
  {
   "cell_type": "markdown",
   "metadata": {},
   "source": [
    "#### 4-a Export du dataframe vers un fichier csv"
   ]
  },
  {
   "cell_type": "code",
   "execution_count": null,
   "metadata": {},
   "outputs": [],
   "source": [
    "dff.to_csv(r'export_data\\dataframe_final.csv')"
   ]
  },
  {
   "cell_type": "markdown",
   "metadata": {},
   "source": [
    "# 5-*Calculs optionnels*"
   ]
  },
  {
   "cell_type": "markdown",
   "metadata": {},
   "source": [
    "#### 5-a Standard deviation ou écart type"
   ]
  },
  {
   "cell_type": "code",
   "execution_count": null,
   "metadata": {
    "scrolled": true
   },
   "outputs": [],
   "source": [
    "#Concatenation des dataframes\n",
    "dff_std=pd.concat([x for x in dfstd],axis=1)\n",
    "dff_std.columns=['bfly_std','bfnx_std','bnus_std','btrx_std','cbse_std','gmni_std','itbi_std','krkn_std','lmax_std','okcn_std','stmp_std']\n",
    "\n",
    "#Test des valeurs manquantes\n",
    "dff_std.isna().sum()"
   ]
  },
  {
   "cell_type": "markdown",
   "metadata": {},
   "source": [
    "L'écart type du premier exchange présente 3 valeurs manquantes, plusieurs méthodes existent pour traiter les valeurs manquantes des écarts types. \n",
    "\n",
    "L'utilisation de la moyenne quotidienne comme substitut des valeurs manquantes sera utilisée pour ne pas fausser la dispersion journalière des écarts types."
   ]
  },
  {
   "cell_type": "code",
   "execution_count": null,
   "metadata": {},
   "outputs": [],
   "source": [
    "#Remplacement des valeurs manquantes par la moyenne quotidienne\n",
    "dff_std=dff_std.fillna(dff_std['bfly_std'].mean())"
   ]
  },
  {
   "cell_type": "markdown",
   "metadata": {},
   "source": [
    "##### Dataframe avec écart type"
   ]
  },
  {
   "cell_type": "code",
   "execution_count": null,
   "metadata": {
    "scrolled": false
   },
   "outputs": [],
   "source": [
    "dff_std"
   ]
  },
  {
   "cell_type": "code",
   "execution_count": null,
   "metadata": {},
   "outputs": [],
   "source": [
    "#Export du dataframe avec écart type\n",
    "\n",
    "dff_std.to_csv(r'export_data\\dff_std.csv')"
   ]
  },
  {
   "cell_type": "markdown",
   "metadata": {},
   "source": [
    "#### 5-b OHLC (Open High Low Close values)"
   ]
  },
  {
   "cell_type": "code",
   "execution_count": null,
   "metadata": {},
   "outputs": [],
   "source": [
    "#Concatenation des dataframes stockés dans la liste dfohlc\n",
    "dff_ohlc=pd.concat([x for x in dfohlc],axis=1)"
   ]
  },
  {
   "cell_type": "code",
   "execution_count": null,
   "metadata": {},
   "outputs": [],
   "source": [
    "#Test des valeurs manquantes\n",
    "dff_ohlc.isna().sum()"
   ]
  },
  {
   "cell_type": "markdown",
   "metadata": {},
   "source": [
    "Les valeurs manquantes étant générées par l'absence de transactions dans l'exchange \"bfly\" entre 05h et 06h, le prix n'ayant pas changé par rapport à l'heure précédente, on peut reconsidérer la méthode `.fillna(method='ffill')`"
   ]
  },
  {
   "cell_type": "code",
   "execution_count": null,
   "metadata": {},
   "outputs": [],
   "source": [
    "#application de la méthode forwardfill sur le dataframe contenant des NaN\n",
    "dff_ohlc=dff_ohlc.fillna(method='ffill')\n",
    "dff_ohlc"
   ]
  },
  {
   "cell_type": "code",
   "execution_count": null,
   "metadata": {},
   "outputs": [],
   "source": [
    "#Export du dataframe avec OHLC\n",
    "dff_ohlc.to_csv(r'export_data\\dff_ohlc.csv')"
   ]
  },
  {
   "cell_type": "markdown",
   "metadata": {},
   "source": [
    "#### 5-c Volume weighted median price"
   ]
  },
  {
   "cell_type": "markdown",
   "metadata": {},
   "source": [
    "à part les codes issus de la fonction weighted median, il existe des librairies python qui traite la weighted median,\n",
    "\n",
    "parmi ces librairies: `Weightedstats`\n",
    "\n",
    "qui inclue 4 fonctions (`mean`, `weighted_mean`, `median`, `weighted_median`) qui prennent des listes en arguments\n",
    "\n",
    "ainsi que 2 fonctions (`numpy_weighted_mean`, `numpy weighted_median`) qui prennent des listes ou Numpy array en arguments."
   ]
  },
  {
   "cell_type": "code",
   "execution_count": null,
   "metadata": {},
   "outputs": [],
   "source": []
  }
 ],
 "metadata": {
  "kernelspec": {
   "display_name": "Python 3",
   "language": "python",
   "name": "python3"
  },
  "language_info": {
   "codemirror_mode": {
    "name": "ipython",
    "version": 3
   },
   "file_extension": ".py",
   "mimetype": "text/x-python",
   "name": "python",
   "nbconvert_exporter": "python",
   "pygments_lexer": "ipython3",
   "version": "3.8.5"
  }
 },
 "nbformat": 4,
 "nbformat_minor": 4
}
