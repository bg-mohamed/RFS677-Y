{
 "cells": [
  {
   "cell_type": "markdown",
   "metadata": {},
   "source": [
    "# 1.<span style=\"color:red\"> Import des librairies </span>"
   ]
  },
  {
   "cell_type": "code",
   "execution_count": null,
   "metadata": {
    "cell_id": "00000-2479e7c3-4f1e-4439-a773-2887d7d13b2c",
    "deepnote_cell_type": "code",
    "deepnote_to_be_reexecuted": false,
    "execution_millis": 4,
    "execution_start": 1625857755785,
    "source_hash": "45313c55"
   },
   "outputs": [],
   "source": [
    "import pandas as pd \n",
    "import numpy as np \n",
    "import matplotlib.pyplot as plt\n",
    "from pandas.plotting import lag_plot\n",
    "import pycountry\n",
    "import plotly.express as px\n",
    "import altair as alt\n",
    "import seaborn as sns\n",
    "import statsmodels.stats.api as sms\n",
    "import statsmodels.api as sm\n",
    "from statsmodels.tsa.stattools import kpss\n",
    "from scipy import stats\n",
    "import scipy\n",
    "import statsmodels\n",
    "import sklearn\n",
    "from sklearn.metrics import mean_squared_error\n",
    "import statsmodels.stats.diagnostic as sms\n",
    "import statsmodels.formula.api as smf\n",
    "from statsmodels.stats.diagnostic import acorr_breusch_godfrey\n",
    "from statsmodels.stats.diagnostic import het_breuschpagan\n",
    "from statsmodels.tsa.seasonal import seasonal_decompose\n",
    "from statsmodels.graphics.tsaplots import plot_acf\n",
    "from statsmodels.graphics.tsaplots import plot_pacf\n",
    "from sklearn.model_selection import train_test_split\n",
    "from statsmodels.tsa.ar_model import AutoReg, ar_select_order\n",
    "import statsmodels.tsa.api as smt\n",
    "from statsmodels.tsa.arima_process import ArmaProcess\n",
    "from statsmodels.regression.linear_model import yule_walker\n",
    "from statsmodels.tsa.stattools import adfuller\n",
    "from statsmodels.tsa.statespace.sarimax import SARIMAXResults\n",
    "from statsmodels.tsa.arima.model import ARIMA\n",
    "from pmdarima.arima import auto_arima\n",
    "from statsmodels.tsa.api import VAR\n",
    "from statsmodels.tools.eval_measures import rmse, aic\n",
    "import arch\n",
    "from arch.unitroot import engle_granger\n",
    "from xgboost import XGBRegressor\n",
    "from sklearn.metrics import mean_absolute_error\n",
    "import time\n",
    "import warnings\n",
    "import random\n",
    "warnings.filterwarnings('ignore')\n",
    "\n",
    "print (\"%-20s %s\"% (\"numpy\", np.__version__))\n",
    "print (\"%-20s %s\"% (\"pandas\", pd.__version__))\n",
    "print (\"%-20s %s\"% (\"statsmodels\", statsmodels.__version__))\n",
    "print (\"%-20s %s\"% (\"scipy\", scipy.__version__))\n",
    "print (\"%-20s %s\"% (\"sklearn\", sklearn.__version__))\n",
    "\n",
    "pd.set_option('max_colwidth', 1000)"
   ]
  },
  {
   "cell_type": "markdown",
   "metadata": {},
   "source": [
    "# 2.<span style=\"color:red\"> Lectures des données </span>"
   ]
  },
  {
   "cell_type": "markdown",
   "metadata": {
    "cell_id": "00001-811d1ad0-1cca-44a7-912b-4b3c65ed1ee2",
    "deepnote_cell_type": "markdown"
   },
   "source": [
    " - ### 2.1 <span style=\"color:blue\">  Metadata du continent Européen</span>"
   ]
  },
  {
   "cell_type": "code",
   "execution_count": null,
   "metadata": {
    "cell_id": "00002-761e58d4-7caf-44cb-9d4b-e8ecac19e2a0",
    "deepnote_cell_type": "code",
    "deepnote_to_be_reexecuted": false,
    "execution_millis": 1,
    "execution_start": 1625857755796,
    "source_hash": "f1790bf0"
   },
   "outputs": [],
   "source": [
    "df_meta = pd.read_csv(\"data/continents2.csv\", header = 0, usecols=[0,5])\n",
    "df_meta = df_meta.loc[df_meta[\"region\"] == \"Europe\"]"
   ]
  },
  {
   "cell_type": "markdown",
   "metadata": {
    "cell_id": "00001-811d1ad0-1cca-44a7-912b-4b3c65ed1ee2",
    "deepnote_cell_type": "markdown"
   },
   "source": [
    " - ### 2.2 <span style=\"color:blue\"> Cas confirmés de Covid-19 dans le monde </span>"
   ]
  },
  {
   "cell_type": "code",
   "execution_count": null,
   "metadata": {
    "cell_id": "00006-62ec3488-c21a-451b-9167-74123feeccf8",
    "deepnote_cell_type": "code",
    "deepnote_to_be_reexecuted": false,
    "execution_millis": 43,
    "execution_start": 1625857755806,
    "source_hash": "99311df"
   },
   "outputs": [],
   "source": [
    "df_cases = pd.read_csv(\"data/CONVENIENT_global_confirmed_cases.csv\")"
   ]
  },
  {
   "cell_type": "markdown",
   "metadata": {
    "cell_id": "00001-811d1ad0-1cca-44a7-912b-4b3c65ed1ee2",
    "deepnote_cell_type": "markdown"
   },
   "source": [
    " - ### 2.3 <span style=\"color:blue\"> Décès liés au Covid-19 dans le monde </span>"
   ]
  },
  {
   "cell_type": "code",
   "execution_count": null,
   "metadata": {
    "cell_id": "00008-6b9b0d9e-7de6-4042-bebf-02f3ced4598c",
    "deepnote_cell_type": "code",
    "deepnote_to_be_reexecuted": false,
    "execution_millis": 33,
    "execution_start": 1625857755853,
    "scrolled": true,
    "source_hash": "c8d4beb9"
   },
   "outputs": [],
   "source": [
    "df_deaths = pd.read_csv(\"data/CONVENIENT_global_deaths.csv\")"
   ]
  },
  {
   "cell_type": "markdown",
   "metadata": {
    "cell_id": "00001-811d1ad0-1cca-44a7-912b-4b3c65ed1ee2",
    "deepnote_cell_type": "markdown"
   },
   "source": [
    " - ### 2.4 <span style=\"color:blue\"> Population mondiale en 2020 </span>"
   ]
  },
  {
   "cell_type": "markdown",
   "metadata": {},
   "source": [
    "**Metadonnées open source disponibles sur** \n",
    "https://population.un.org/wpp/Download/Standard/CSV/"
   ]
  },
  {
   "cell_type": "code",
   "execution_count": null,
   "metadata": {},
   "outputs": [],
   "source": [
    "pop = pd.read_csv(\"data/population_by_country_2020.csv\")"
   ]
  },
  {
   "cell_type": "markdown",
   "metadata": {
    "cell_id": "00001-811d1ad0-1cca-44a7-912b-4b3c65ed1ee2",
    "deepnote_cell_type": "markdown"
   },
   "source": [
    " - ### 2.5 <span style=\"color:blue\"> Nombre de morts dans le monde (Raw file) </span>"
   ]
  },
  {
   "cell_type": "markdown",
   "metadata": {},
   "source": [
    "**Ce fichier sera utilisé pour la country visualisation des nombres de morts**"
   ]
  },
  {
   "cell_type": "code",
   "execution_count": null,
   "metadata": {},
   "outputs": [],
   "source": [
    "df_d = pd.read_csv('data/RAW_global_deaths.csv')"
   ]
  },
  {
   "cell_type": "markdown",
   "metadata": {},
   "source": [
    "# 3.<span style=\"color:red\"> EDA & Preprocessing </span>"
   ]
  },
  {
   "cell_type": "markdown",
   "metadata": {
    "cell_id": "00001-811d1ad0-1cca-44a7-912b-4b3c65ed1ee2",
    "deepnote_cell_type": "markdown"
   },
   "source": [
    " - ### 3.1 <span style=\"color:blue\"> Extraction des données du continent Européen </span>"
   ]
  },
  {
   "cell_type": "code",
   "execution_count": null,
   "metadata": {
    "cell_id": "00010-666a2e85-b3cb-4ab9-a5b0-bd1cf6c79b72",
    "deepnote_cell_type": "code",
    "deepnote_to_be_reexecuted": false,
    "execution_millis": 1,
    "execution_start": 1625857755924,
    "source_hash": "301c8964"
   },
   "outputs": [],
   "source": [
    "df_cases.drop('United Kingdom',axis=1, inplace = True)\n",
    "df_cases.drop('France',axis=1, inplace = True) \n",
    "df_cases.drop('Netherlands',axis=1, inplace = True)\n",
    "df_cases.columns = [i.replace('United Kingdom.6','Gibraltar') for i in df_cases.columns]\n",
    "df_cases.columns = [i.replace('United Kingdom.7','Isle of Man') for i in df_cases.columns]\n",
    "df_cases.columns = [i.replace('United Kingdom.11','United Kingdom')for i in df_cases.columns]\n",
    "df_cases.columns = [i.replace('France.11','France')for i in df_cases.columns]\n",
    "df_cases.columns = [i.replace('Czechia','Czech republic')for i in df_cases.columns]\n",
    "df_cases.columns = [i.replace('Netherlands.4','Netherlands')for i in df_cases.columns]\n",
    "\n",
    "#---------#\n",
    "df_deaths.drop('United Kingdom',axis=1, inplace = True)\n",
    "df_deaths.drop('France',axis=1, inplace = True)\n",
    "df_deaths.drop('Netherlands',axis=1, inplace = True)\n",
    "df_deaths.columns = [i.replace('United Kingdom.6','Gibraltar') for i in df_deaths.columns]\n",
    "df_deaths.columns = [i.replace('United Kingdom.7','Isle of Man') for i in df_deaths.columns]\n",
    "df_deaths.columns = [i.replace('United Kingdom.11','United Kingdom')for i in df_deaths.columns]\n",
    "df_deaths.columns = [i.replace('France.11','France')for i in df_deaths.columns]\n",
    "df_deaths.columns = [i.replace('Czechia','Czech republic')for i in df_deaths.columns]\n",
    "df_deaths.columns = [i.replace('Netherlands.4','Netherlands')for i in df_deaths.columns]"
   ]
  },
  {
   "cell_type": "code",
   "execution_count": null,
   "metadata": {
    "cell_id": "00013-869016a8-90df-49b5-8f5f-4c4b2063b408",
    "deepnote_cell_type": "code",
    "deepnote_to_be_reexecuted": false,
    "execution_millis": 4,
    "execution_start": 1625857756011,
    "source_hash": "f57607ff"
   },
   "outputs": [],
   "source": [
    "#--------#Denmark Data aggregation\n",
    "df_cases['Denmark'] = df_cases[['Denmark','Denmark.1','Denmark.2']].sum(axis=1)\n",
    "df_deaths['Denmark'] = df_deaths[['Denmark','Denmark.1','Denmark.2']].sum(axis=1)"
   ]
  },
  {
   "cell_type": "code",
   "execution_count": null,
   "metadata": {
    "cell_id": "00009-4a72f719-d504-4b52-9032-10d6bd0d186f",
    "deepnote_cell_type": "code",
    "deepnote_to_be_reexecuted": false,
    "execution_millis": 0,
    "execution_start": 1625857755925,
    "source_hash": "9f07b733",
    "tags": []
   },
   "outputs": [],
   "source": [
    "#Dropping first line\n",
    "df_cases.drop (0, inplace = True)\n",
    "df_deaths.drop (0, inplace = True)"
   ]
  },
  {
   "cell_type": "markdown",
   "metadata": {
    "cell_id": "00001-811d1ad0-1cca-44a7-912b-4b3c65ed1ee2",
    "deepnote_cell_type": "markdown"
   },
   "source": [
    " - ### 3.2 <span style=\"color:blue\"> Indexation par format: datetime </span>"
   ]
  },
  {
   "cell_type": "code",
   "execution_count": null,
   "metadata": {
    "cell_id": "00010-a002d1e6-3a1b-4ca7-ba8e-2014875a030a",
    "deepnote_cell_type": "code",
    "deepnote_to_be_reexecuted": false,
    "execution_millis": 0,
    "execution_start": 1625857755926,
    "source_hash": "291a381d",
    "tags": []
   },
   "outputs": [],
   "source": [
    "#1st column rename\n",
    "df_cases.rename(columns={\"Country/Region\": \"Date\"}, inplace= True)\n",
    "df_deaths.rename(columns={\"Country/Region\": \"Date\"}, inplace= True)"
   ]
  },
  {
   "cell_type": "code",
   "execution_count": null,
   "metadata": {},
   "outputs": [],
   "source": [
    "df_cases.head()"
   ]
  },
  {
   "cell_type": "code",
   "execution_count": null,
   "metadata": {
    "cell_id": "00011-ca4077e8-ceb7-40c3-93e4-657ccfe1d909",
    "deepnote_cell_type": "code",
    "deepnote_to_be_reexecuted": false,
    "execution_millis": 76,
    "execution_start": 1625857755930,
    "source_hash": "250d5d73"
   },
   "outputs": [],
   "source": [
    "#--------#Setting Datetime index\n",
    "df_cases.set_index(df_cases[\"Date\"], inplace = True,)\n",
    "df_deaths.set_index(df_cases[\"Date\"], inplace = True,)\n",
    "df_cases.drop (\"Date\",  axis = 1, inplace = True)\n",
    "df_deaths.drop (\"Date\",  axis = 1, inplace = True)\n",
    "\n",
    "#--------#Datetime format index\n",
    "df_cases.index = pd.to_datetime(df_cases.index)\n",
    "df_deaths.index = pd.to_datetime(df_deaths.index)\n",
    "\n",
    "#--------#Setting Index Frequency to \"Day\"\n",
    "df_cases.index.freq = \"D\"\n",
    "df_deaths.index.freq = \"D\"\n",
    "\n",
    "#--------#Memory usage reduction\n",
    "df_cases = df_cases.astype(np.float32)\n",
    "df_deaths = df_deaths.astype(np.float32)"
   ]
  },
  {
   "cell_type": "code",
   "execution_count": null,
   "metadata": {
    "cell_id": "00014-d641da18-00f8-457b-bf91-8db31e2baeb1",
    "deepnote_cell_type": "code",
    "deepnote_to_be_reexecuted": false,
    "execution_millis": 6,
    "execution_start": 1625857756017,
    "source_hash": "2c441381"
   },
   "outputs": [],
   "source": [
    "#--------#List of analyzed countries\n",
    "EUROPE = [ 'Albania', 'Andorra', 'Austria', 'Belarus', 'Belgium', 'Bosnia and Herzegovina', 'Bulgaria', 'Croatia',\n",
    " 'Czech republic', 'Denmark', 'Estonia', 'Finland', 'France', 'Germany', 'Gibraltar', 'Greece', 'Holy See', 'Hungary',\n",
    " 'Iceland', 'Ireland', 'Isle of Man', 'Italy', 'Latvia', 'Liechtenstein', 'Lithuania', 'Luxembourg',\n",
    " 'Malta', 'Moldova', 'Monaco', 'Montenegro', 'Netherlands', 'North Macedonia', 'Norway', 'Poland', 'Portugal',\n",
    " 'Romania', 'Russia', 'San Marino', 'Serbia', 'Slovakia', 'Slovenia', 'Spain', 'Sweden', 'Switzerland', 'Ukraine',\n",
    " 'United Kingdom']"
   ]
  },
  {
   "cell_type": "code",
   "execution_count": null,
   "metadata": {
    "cell_id": "00022-a99a9f29-655b-4891-8042-38a8de7ce649",
    "deepnote_cell_type": "code",
    "deepnote_to_be_reexecuted": false,
    "execution_millis": 1,
    "execution_start": 1625857756158,
    "source_hash": "3b8d9788",
    "tags": []
   },
   "outputs": [],
   "source": [
    "#--------#Update of the dataframes\n",
    "df_cases= df_cases[EUROPE]\n",
    "df_deaths=df_deaths[EUROPE]"
   ]
  },
  {
   "cell_type": "markdown",
   "metadata": {
    "cell_id": "00001-811d1ad0-1cca-44a7-912b-4b3c65ed1ee2",
    "deepnote_cell_type": "markdown"
   },
   "source": [
    " - ### 3.3 <span style=\"color:blue\"> Extraction de la population du continent Européen </span>"
   ]
  },
  {
   "cell_type": "code",
   "execution_count": null,
   "metadata": {
    "scrolled": true
   },
   "outputs": [],
   "source": [
    "#--------#European countries population on 2020\n",
    "pop.rename(columns={\"Country (or dependency)\": \"Country\", \"Population (2020)\":\"Population\"}, inplace= True)\n",
    "pop.set_index(pop[\"Country\"], inplace = True,)\n",
    "pop = pd.DataFrame(pop['Population'], columns=[\"Population\"])\n",
    "pop.index = [i.replace('Czech Republic (Czechia)','Czech republic')for i in pop.index]\n",
    "pop = pop[pop.index.isin(EUROPE)]\n",
    "pop.sort_index(ascending = True, inplace=True)\n",
    "pop.head()"
   ]
  },
  {
   "cell_type": "markdown",
   "metadata": {
    "cell_id": "00001-811d1ad0-1cca-44a7-912b-4b3c65ed1ee2",
    "deepnote_cell_type": "markdown"
   },
   "source": [
    " - ### 3.4 <span style=\"color:blue\"> Arrangement du raw file Nombre de morts dans le monde </span>"
   ]
  },
  {
   "cell_type": "code",
   "execution_count": null,
   "metadata": {
    "cell_id": "00017-81d1c4a7-dcd1-406b-9de1-fa776459c06c",
    "deepnote_cell_type": "code",
    "deepnote_to_be_reexecuted": false,
    "execution_millis": 13,
    "execution_start": 1625857756065,
    "scrolled": true,
    "source_hash": "6ee93b0e",
    "tags": []
   },
   "outputs": [],
   "source": [
    "df_d.loc[df_d.loc[:,'Province/State'] == 'Isle of Man',['Country/Region']] = 'Isle of Man'\n",
    "df_d.loc[df_d.loc[:,'Province/State'] == 'Gibraltar',['Country/Region']] = 'Gibraltar'\n",
    "df_d.loc[df_d.loc[:,'Country/Region'] == 'Czechia',['Country/Region']] = 'Czech republic'\n",
    "df_d = df_d[df_d.loc[:,'Country/Region'].isin(EUROPE) & (df_d.loc[:,'Province/State'].isna() | df_d.loc[:,'Province/State'].eq('Isle of Man') | df_d.loc[:,'Province/State'].eq('Gibraltar'))]\n",
    "df_d = df_d[['Country/Region','Lat','Long','6/22/21']]\n",
    "df_d.columns = ['Country','Lat','Long','Total']\n",
    "df_d.set_index(\"Country\", inplace=True)\n",
    "df_d.head()"
   ]
  },
  {
   "cell_type": "markdown",
   "metadata": {
    "cell_id": "00001-811d1ad0-1cca-44a7-912b-4b3c65ed1ee2",
    "deepnote_cell_type": "markdown"
   },
   "source": [
    " - ### 3.5 <span style=\"color:blue\"> Stats descriptives </span>"
   ]
  },
  {
   "cell_type": "markdown",
   "metadata": {},
   "source": [
    "**Vérification des Nan**"
   ]
  },
  {
   "cell_type": "code",
   "execution_count": null,
   "metadata": {},
   "outputs": [],
   "source": [
    "df_cases.isna().sum()"
   ]
  },
  {
   "cell_type": "code",
   "execution_count": null,
   "metadata": {},
   "outputs": [],
   "source": [
    "df_deaths.isna().sum()"
   ]
  },
  {
   "cell_type": "code",
   "execution_count": null,
   "metadata": {},
   "outputs": [],
   "source": [
    "df_d.isna().sum()"
   ]
  },
  {
   "cell_type": "markdown",
   "metadata": {},
   "source": [
    "**Count/Mean/STD/Min/25%/50%/75%/Max**"
   ]
  },
  {
   "cell_type": "code",
   "execution_count": null,
   "metadata": {
    "cell_id": "00023-e34a5d60-435d-4175-a6ee-a0434ee2c52c",
    "deepnote_cell_type": "code",
    "deepnote_to_be_reexecuted": false,
    "execution_millis": 123,
    "execution_start": 1625857756160,
    "scrolled": true,
    "source_hash": "26e8904b"
   },
   "outputs": [],
   "source": [
    "df_cases.describe().T"
   ]
  },
  {
   "cell_type": "code",
   "execution_count": null,
   "metadata": {
    "cell_id": "00024-0a52141a-b068-4f91-8a12-fafdf6ee052c",
    "deepnote_cell_type": "code",
    "deepnote_to_be_reexecuted": false,
    "execution_millis": 148,
    "execution_start": 1625857756277,
    "scrolled": true,
    "source_hash": "ec4da660"
   },
   "outputs": [],
   "source": [
    "df_deaths.describe().T"
   ]
  },
  {
   "cell_type": "markdown",
   "metadata": {
    "cell_id": "00001-811d1ad0-1cca-44a7-912b-4b3c65ed1ee2",
    "deepnote_cell_type": "markdown"
   },
   "source": [
    " - ### 3.6 <span style=\"color:blue\"> Traitement des outliers </span>"
   ]
  },
  {
   "cell_type": "markdown",
   "metadata": {},
   "source": [
    "- **Les valeurs négatives dans les cas confirmés** sont dûes à des corrections de doublons antérieurs PCR/Antigénique sur la même personne dans la même journée. Plusieurs articles et communiqués officiels expliquent ces changements.\n",
    "\n",
    "- **Les valeurs négatives des décès** sont dûes aux corrections ultérieures aux rapports d'autopsies qui confirment ou infirment la cause de la mort par le COV-19\n",
    "\n",
    "\n",
    "\n",
    "https://www.santepubliquefrance.fr/les-actualites/2021/des-indicateurs-plus-precis-pour-le-suivi-des-cas-confirmes-de-covid-19"
   ]
  },
  {
   "cell_type": "markdown",
   "metadata": {},
   "source": [
    "<u>**Outliers des nombres de Cas**</u>"
   ]
  },
  {
   "cell_type": "code",
   "execution_count": null,
   "metadata": {},
   "outputs": [],
   "source": [
    "negative_cases = df_cases.loc[:,(df_cases.lt(0).any())]"
   ]
  },
  {
   "cell_type": "code",
   "execution_count": null,
   "metadata": {},
   "outputs": [],
   "source": [
    "for i in negative_cases.lt(0).sum().index:\n",
    "    print(i)\n",
    "    print(negative_cases[i][(negative_cases[[i]] < 0).all(1)])\n",
    "   "
   ]
  },
  {
   "cell_type": "code",
   "execution_count": null,
   "metadata": {},
   "outputs": [],
   "source": [
    "df_cases[\"Czech republic\"].loc[\"2021-03-22\"] = round(df_cases[\"Czech republic\"].loc[\"2021-03-15\":\"2021-03-21\"].mean(axis=0),0)\n",
    "#-------#\n",
    "df_cases[\"Denmark\"].loc[\"2021-03-24\"] = round(df_cases[\"Denmark\"].loc[\"2021-03-17\":\"2021-03-23\"].mean(axis=0),0)\n",
    "#-------#\n",
    "df_cases[\"Finland\"].loc[\"2020-07-15\":\"2020-07-16\"] = round(df_cases[\"Finland\"].loc[\"2020-07-08\":\"2020-07-14\"].mean(axis=0),0)\n",
    "#-------#\n",
    "df_cases[\"France\"].loc[\"2020-04-04\"] = round(df_cases[\"France\"].loc[\"2020-04-01\":\"2020-04-30\"].mean(axis=0),0)\n",
    "df_cases[\"France\"].loc[\"2020-04-07\"] = round(df_cases[\"France\"].loc[\"2020-04-01\":\"2020-04-30\"].mean(axis=0),0)\n",
    "df_cases[\"France\"].loc[\"2020-04-23\"] = round(df_cases[\"France\"].loc[\"2020-04-01\":\"2020-04-30\"].mean(axis=0),0)\n",
    "df_cases[\"France\"].loc[\"2020-04-29\"] = round(df_cases[\"France\"].loc[\"2020-04-01\":\"2020-04-30\"].mean(axis=0),0)\n",
    "\n",
    "df_cases[\"France\"].loc[\"2020-05-24\"] = round(df_cases[\"France\"].loc[\"2020-05-17\":\"2020-05-23\"].mean(axis=0),0)\n",
    "\n",
    "df_cases[\"France\"].loc[\"2020-06-02\"] = round(df_cases[\"France\"].loc[\"2020-06-01\":\"2020-06-30\"].mean(axis=0),0)\n",
    "df_cases[\"France\"].loc[\"2020-06-03\"] = round(df_cases[\"France\"].loc[\"2020-06-01\":\"2020-06-30\"].mean(axis=0),0)\n",
    "df_cases[\"France\"].loc[\"2020-06-28\"] = round(df_cases[\"France\"].loc[\"2020-06-01\":\"2020-06-30\"].mean(axis=0),0)\n",
    "\n",
    "df_cases[\"France\"].loc[\"2020-11-04\"] = round(df_cases[\"France\"].loc[\"2020-11-01\":\"2020-11-30\"].mean(axis=0),0)\n",
    "\n",
    "df_cases[\"France\"].loc[\"2021-02-04\"] = round(df_cases[\"France\"].loc[\"2021-01-28\":\"2021-02-03\"].mean(axis=0),0)\n",
    "\n",
    "df_cases[\"France\"].loc[\"2021-04-03\"] = round(df_cases[\"France\"].loc[\"2021-04-01\":\"2021-04-30\"].mean(axis=0),0)\n",
    "df_cases[\"France\"].loc[\"2021-04-07\"] = round(df_cases[\"France\"].loc[\"2021-04-01\":\"2021-04-30\"].mean(axis=0),0)\n",
    "df_cases[\"France\"].loc[\"2021-04-09\"] = round(df_cases[\"France\"].loc[\"2021-04-01\":\"2021-04-30\"].mean(axis=0),0)\n",
    "df_cases[\"France\"].loc[\"2021-04-10\"] = round(df_cases[\"France\"].loc[\"2021-04-01\":\"2021-04-30\"].mean(axis=0),0)\n",
    "\n",
    "df_cases[\"France\"].loc[\"2021-05-20\"] = round(df_cases[\"France\"].loc[\"2021-02-01\":\"2021-04-30\"].mean(axis=0),0)\n",
    "\n",
    "df_cases[\"France\"].loc[\"2021-06-21\"] = round(df_cases[\"France\"].loc[\"2021-06-14\":\"2021-06-20\"].mean(axis=0),0)\n",
    "#-------#\n",
    "df_cases[\"Gibraltar\"].loc[\"2020-05-13\"] = round(df_cases[\"Gibraltar\"].loc[\"2020-05-07\":\"2020-05-13\"].median(axis=0),0)\n",
    "df_cases[\"Gibraltar\"].loc[\"2021-04-23\"] = round(df_cases[\"Gibraltar\"].loc[\"2021-04-16\":\"2021-04-22\"].median(axis=0),0)\n",
    "df_cases[\"Gibraltar\"].loc[\"2021-05-24\"] = round(df_cases[\"Gibraltar\"].loc[\"2021-05-17\":\"2021-05-23\"].median(axis=0),0)\n",
    "#-------#\n",
    "df_cases[\"Iceland\"].loc[\"2021-02-08\"] = round(df_cases[\"Iceland\"].loc[\"2021-02-01\":\"2021-02-07\"].mean(axis=0),0)\n",
    "#-------#\n",
    "df_cases[\"Italy\"].loc[\"2020-06-19\"] = round(df_cases[\"Italy\"].loc[\"2020-06-12\":\"2020-06-18\"].mean(axis=0),0)\n",
    "#-------#\n",
    "df_cases[\"Luxembourg\"].loc[\"2020-08-28\"] = round(df_cases[\"Luxembourg\"].loc[\"2020-08-21\":\"2020-08-27\"].mean(axis=0),0)\n",
    "#-------#\n",
    "df_cases[\"Malta\"].loc[\"2020-08-16\"] = round(df_cases[\"Malta\"].loc[\"2020-08-09\":\"2020-08-15\"].mean(axis=0),0)\n",
    "#-------#\n",
    "df_cases[\"Monaco\"].loc[\"2020-09-02\"] = round(df_cases[\"Monaco\"].loc[\"2020-08-26\":\"2020-09-01\"].mean(axis=0),0)\n",
    "#-------#\n",
    "df_cases[\"Portugal\"].loc[\"2020-05-02\"] = round(df_cases[\"Portugal\"].loc[\"2020-08-26\":\"2020-09-01\"].mean(axis=0),0)\n",
    "#-------#\n",
    "df_cases[\"San Marino\"].loc[\"2020-05-10\"] = round(df_cases[\"San Marino\"].loc[\"2020-05-03\":\"2020-05-09\"].mean(axis=0),0)\n",
    "df_cases[\"San Marino\"].loc[\"2020-09-05\"] = round(df_cases[\"San Marino\"].loc[\"2020-08-26\":\"2020-09-01\"].mean(axis=0),0)\n",
    "#-------#\n",
    "df_cases[\"Spain\"].loc[\"2020-04-24\"] = round(df_cases[\"Spain\"].loc[\"2020-04-17\":\"2020-04-23\"].mean(axis=0),0)\n",
    "df_cases[\"Spain\"].loc[\"2020-05-25\"] = round(df_cases[\"Spain\"].loc[\"2020-05-18\":\"2020-05-24\"].mean(axis=0),0)\n",
    "df_cases[\"Spain\"].loc[\"2021-03-02\"] = round(df_cases[\"Spain\"].loc[\"2021-02-01\":\"2021-02-28\"].mean(axis=0),0)\n",
    "#-------#\n",
    "df_cases[\"United Kingdom\"].loc[\"2021-04-09\"] = round(df_cases[\"United Kingdom\"].loc[\"2021-04-02\":\"2021-04-08\"].mean(axis=0),0)\n",
    "df_cases[\"United Kingdom\"].loc[\"2021-05-18\"] = round(df_cases[\"United Kingdom\"].loc[\"2021-05-11\":\"2021-05-17\"].mean(axis=0),0)\n"
   ]
  },
  {
   "cell_type": "code",
   "execution_count": null,
   "metadata": {},
   "outputs": [],
   "source": [
    "df_cases.loc[:,(df_cases.lt(0).any())]"
   ]
  },
  {
   "cell_type": "markdown",
   "metadata": {},
   "source": [
    "<u>**Outliers des nombres de Morts**</u>"
   ]
  },
  {
   "cell_type": "code",
   "execution_count": null,
   "metadata": {},
   "outputs": [],
   "source": [
    "negative_deaths = df_deaths.loc[:,(df_deaths.lt(0).any())]"
   ]
  },
  {
   "cell_type": "code",
   "execution_count": null,
   "metadata": {},
   "outputs": [],
   "source": [
    "for i in negative_deaths.lt(0).sum().index:\n",
    "    print(i)\n",
    "    print(negative_deaths[i][(negative_deaths[[i]] < 0).all(1)])"
   ]
  },
  {
   "cell_type": "code",
   "execution_count": null,
   "metadata": {},
   "outputs": [],
   "source": [
    "df_deaths[\"Austria\"].loc[\"2020-07-21\"] = round(df_deaths[\"Austria\"].loc[\"2020-07-14\":\"2020-07-20\"].mean(axis=0),0)\n",
    "df_deaths[\"Austria\"].loc[\"2020-10-11\"] = round(df_deaths[\"Austria\"].loc[\"2020-10-04\":\"2020-10-10\"].mean(axis=0),0)\n",
    "#-------#\n",
    "df_deaths[\"Belgium\"].loc[\"2020-08-26\"] = round(df_deaths[\"Belgium\"].loc[\"2020-08-19\":\"2020-08-25\"].mean(axis=0),0)\n",
    "#-------#\n",
    "df_deaths[\"Bosnia and Herzegovina\"].loc[\"2020-12-28\"] = round(df_deaths[\"Bosnia and Herzegovina\"].loc[\"2020-12-21\":\"2020-12-27\"].mean(axis=0),0)\n",
    "#-------#\n",
    "df_deaths[\"Czech republic\"].loc[\"2020-05-18\"] = round(df_deaths[\"Czech republic\"].loc[\"2020-05-11\":\"2020-05-17\"].mean(axis=0),0)\n",
    "df_deaths[\"Czech republic\"].loc[\"2020-06-11\"] = round(df_deaths[\"Czech republic\"].loc[\"2020-06-04\":\"2020-06-10\"].mean(axis=0),0)\n",
    "df_deaths[\"Czech republic\"].loc[\"2020-06-13\"] = round(df_deaths[\"Czech republic\"].loc[\"2020-06-06\":\"2020-06-12\"].mean(axis=0),0)\n",
    "df_deaths[\"Czech republic\"].loc[\"2020-06-28\"] = round(df_deaths[\"Czech republic\"].loc[\"2020-06-21\":\"2020-06-27\"].mean(axis=0),0)\n",
    "df_deaths[\"Czech republic\"].loc[\"2020-07-04\"] = round(df_deaths[\"Czech republic\"].loc[\"2020-06-28\":\"2020-07-03\"].mean(axis=0),0)\n",
    "df_deaths[\"Czech republic\"].loc[\"2020-07-05\"] = round(df_deaths[\"Czech republic\"].loc[\"2020-06-29\":\"2020-07-04\"].mean(axis=0),0)\n",
    "df_deaths[\"Czech republic\"].loc[\"2020-08-04\"] = round(df_deaths[\"Czech republic\"].loc[\"2020-07-28\":\"2020-08-03\"].mean(axis=0),0)\n",
    "df_deaths[\"Czech republic\"].loc[\"2020-08-07\"] = round(df_deaths[\"Czech republic\"].loc[\"2020-07-31\":\"2020-08-06\"].mean(axis=0),0)\n",
    "#-------#\n",
    "df_deaths[\"Denmark\"].loc[\"2020-05-12\"] = round(df_deaths[\"Denmark\"].loc[\"2020-05-05\":\"2020-05-11\"].mean(axis=0),0)\n",
    "#-------#\n",
    "df_deaths[\"Estonia\"].loc[\"2020-08-02\"] = round(df_deaths[\"Estonia\"].loc[\"2020-07-26\":\"2020-08-01\"].mean(axis=0),0)\n",
    "#-------#\n",
    "df_deaths[\"Finland\"].loc[\"2020-04-06\"] = round(df_deaths[\"Finland\"].loc[\"2020-03-30\":\"2020-04-05\"].mean(axis=0),0)\n",
    "df_deaths[\"Finland\"].loc[\"2020-06-01\"] = round(df_deaths[\"Finland\"].loc[\"2020-05-24\":\"2020-05-30\"].mean(axis=0),0)\n",
    "df_deaths[\"Finland\"].loc[\"2020-07-15\"] = round(df_deaths[\"Finland\"].loc[\"2020-07-08\":\"2020-07-14\"].mean(axis=0),0)\n",
    "df_deaths[\"Finland\"].loc[\"2020-09-30\"] = round(df_deaths[\"Finland\"].loc[\"2020-09-23\":\"2020-09-29\"].mean(axis=0),0)\n",
    "df_deaths[\"Finland\"].loc[\"2020-10-23\"] = round(df_deaths[\"Finland\"].loc[\"2020-10-16\":\"2020-10-22\"].mean(axis=0),0)\n",
    "df_deaths[\"Finland\"].loc[\"2021-05-18\"] = round(df_deaths[\"Finland\"].loc[\"2021-05-11\":\"2021-05-17\"].mean(axis=0),0)\n",
    "#-------#\n",
    "df_deaths[\"France\"].loc[\"2020-05-19\"] = round(df_deaths[\"France\"].loc[\"2020-05-12\":\"2020-05-18\"].mean(axis=0),0)\n",
    "df_deaths[\"France\"].loc[\"2020-05-24\"] = round(df_deaths[\"France\"].loc[\"2020-05-17\":\"2020-05-23\"].mean(axis=0),0)\n",
    "df_deaths[\"France\"].loc[\"2020-07-21\"] = round(df_deaths[\"France\"].loc[\"2020-07-14\":\"2020-07-20\"].mean(axis=0),0)\n",
    "df_deaths[\"France\"].loc[\"2020-09-04\"] = round(df_deaths[\"France\"].loc[\"2020-08-29\":\"2020-09-03\"].mean(axis=0),0)\n",
    "df_deaths[\"France\"].loc[\"2020-10-25\"] = round(df_deaths[\"France\"].loc[\"2020-10-18\":\"2020-10-24\"].mean(axis=0),0)\n",
    "df_deaths[\"France\"].loc[\"2020-11-04\"] = round(df_deaths[\"France\"].loc[\"2020-10-28\":\"2020-11-03\"].mean(axis=0),0)\n",
    "df_deaths[\"France\"].loc[\"2021-02-04\"] = round(df_deaths[\"France\"].loc[\"2021-01-28\":\"2021-02-03\"].mean(axis=0),0)\n",
    "df_deaths[\"France\"].loc[\"2021-04-03\"] = round(df_deaths[\"France\"].loc[\"2021-03-27\":\"2021-04-02\"].mean(axis=0),0)\n",
    "#-------#\n",
    "df_deaths[\"Germany\"].loc[\"2020-04-11\"] = round(df_deaths[\"Germany\"].loc[\"2020-04-04\":\"2020-04-10\"].mean(axis=0),0)\n",
    "df_deaths[\"Germany\"].loc[\"2020-07-06\"] = round(df_deaths[\"Germany\"].loc[\"2020-06-29\":\"2020-07-05\"].mean(axis=0),0)\n",
    "#-------#\n",
    "df_deaths[\"Iceland\"].loc[\"2020-03-16\"] = round(df_deaths[\"Iceland\"].loc[\"2020-03-09\":\"2020-03-15\"].mean(axis=0),0)\n",
    "df_deaths[\"Iceland\"].loc[\"2020-03-20\"] = round(df_deaths[\"Iceland\"].loc[\"2020-03-13\":\"2020-03-19\"].mean(axis=0),0)\n",
    "#-------#\n",
    "df_deaths[\"Ireland\"].loc[\"2020-05-25\"] = round(df_deaths[\"Ireland\"].loc[\"2020-05-18\":\"2020-05-24\"].mean(axis=0),0)\n",
    "df_deaths[\"Ireland\"].loc[\"2020-06-01\"] = round(df_deaths[\"Ireland\"].loc[\"2020-05-25\":\"2020-05-31\"].mean(axis=0),0)\n",
    "df_deaths[\"Ireland\"].loc[\"2020-07-08\"] = round(df_deaths[\"Ireland\"].loc[\"2020-07-01\":\"2020-07-07\"].mean(axis=0),0)\n",
    "df_deaths[\"Ireland\"].loc[\"2020-07-30\"] = round(df_deaths[\"Ireland\"].loc[\"2020-07-23\":\"2020-07-29\"].mean(axis=0),0)\n",
    "df_deaths[\"Ireland\"].loc[\"2020-10-02\"] = round(df_deaths[\"Ireland\"].loc[\"2020-09-24\":\"2020-10-01\"].mean(axis=0),0)\n",
    "df_deaths[\"Ireland\"].loc[\"2020-12-08\"] = round(df_deaths[\"Ireland\"].loc[\"2020-12-01\":\"2020-12-07\"].mean(axis=0),0)\n",
    "df_deaths[\"Ireland\"].loc[\"2021-05-07\"] = round(df_deaths[\"Ireland\"].loc[\"2021-04-30\":\"2021-05-06\"].mean(axis=0),0)\n",
    "#-------#\n",
    "df_deaths[\"Italy\"].loc[\"2020-06-24\"] = round(df_deaths[\"Italy\"].loc[\"2020-06-17\":\"2020-06-23\"].mean(axis=0),0)\n",
    "#-------#\n",
    "df_deaths[\"Luxembourg\"].loc[\"2020-04-14\"] = round(df_deaths[\"Luxembourg\"].loc[\"2020-04-07\":\"2020-04-13\"].mean(axis=0),0)\n",
    "#-------#\n",
    "df_deaths[\"Malta\"].loc[\"2020-11-03\"] = round(df_deaths[\"Malta\"].loc[\"2020-10-27\":\"2020-11-02\"].mean(axis=0),0)\n",
    "#-------#\n",
    "df_deaths[\"Monaco\"].loc[\"2020-09-02\"] = round(df_deaths[\"Monaco\"].loc[\"2020-08-26\":\"2020-09-01\"].mean(axis=0),0)\n",
    "#-------#\n",
    "df_deaths[\"Netherlands\"].loc[\"2020-07-10\"] = round(df_deaths[\"Netherlands\"].loc[\"2020-07-02\":\"2020-07-09\"].mean(axis=0),0)\n",
    "df_deaths[\"Netherlands\"].loc[\"2020-07-14\"] = round(df_deaths[\"Netherlands\"].loc[\"2020-07-07\":\"2020-07-13\"].mean(axis=0),0)\n",
    "df_deaths[\"Netherlands\"].loc[\"2020-07-18\"] = round(df_deaths[\"Netherlands\"].loc[\"2020-07-11\":\"2020-07-17\"].mean(axis=0),0)\n",
    "df_deaths[\"Netherlands\"].loc[\"2020-07-27\"] = round(df_deaths[\"Netherlands\"].loc[\"2020-07-10\":\"2020-07-26\"].mean(axis=0),0)\n",
    "df_deaths[\"Netherlands\"].loc[\"2020-08-11\"] = round(df_deaths[\"Netherlands\"].loc[\"2020-08-04\":\"2020-08-10\"].mean(axis=0),0)\n",
    "#-------#\n",
    "df_deaths[\"Norway\"].loc[\"2021-06-07\"] = round(df_deaths[\"Norway\"].loc[\"2021-05-30\":\"2021-06-06\"].mean(axis=0),0)\n",
    "#-------#\n",
    "df_deaths[\"Serbia\"].loc[\"2020-03-26\"] = round(df_deaths[\"Serbia\"].loc[\"2020-03-19\":\"2020-03-25\"].mean(axis=0),0)\n",
    "#-------#\n",
    "df_deaths[\"Slovakia\"].loc[\"2020-03-22\"] = round(df_deaths[\"Slovakia\"].loc[\"2020-03-15\":\"2020-03-21\"].mean(axis=0),0)\n",
    "#-------#\n",
    "df_deaths[\"Spain\"].loc[\"2020-05-25\"] = round(df_deaths[\"Spain\"].loc[\"2020-05-18\":\"2020-05-24\"].mean(axis=0),0)\n",
    "df_deaths[\"Spain\"].loc[\"2020-08-12\"] = round(df_deaths[\"Spain\"].loc[\"2020-08-05\":\"2020-08-11\"].mean(axis=0),0)\n",
    "#-------#\n",
    "df_deaths[\"Sweden\"].loc[\"2020-04-04\"] = round(df_deaths[\"Sweden\"].loc[\"2020-03-28\":\"2020-04-03\"].mean(axis=0),0)\n",
    "df_deaths[\"Sweden\"].loc[\"2020-08-07\"] = round(df_deaths[\"Sweden\"].loc[\"2020-07-31\":\"2020-08-06\"].mean(axis=0),0)\n",
    "df_deaths[\"Sweden\"].loc[\"2020-09-01\"] = round(df_deaths[\"Sweden\"].loc[\"2020-08-25\":\"2020-08-31\"].mean(axis=0),0)\n",
    "df_deaths[\"Sweden\"].loc[\"2020-10-07\"] = round(df_deaths[\"Sweden\"].loc[\"2020-09-30\":\"2020-10-06\"].mean(axis=0),0)\n",
    "df_deaths[\"Sweden\"].loc[\"2020-10-28\"] = round(df_deaths[\"Sweden\"].loc[\"2020-10-21\":\"2020-10-27\"].mean(axis=0),0)\n",
    "#-------#\n",
    "df_deaths[\"Switzerland\"].loc[\"2020-10-21\"] = round(df_deaths[\"Switzerland\"].loc[\"2020-10-14\":\"2020-10-20\"].mean(axis=0),0)\n",
    "df_deaths[\"Switzerland\"].loc[\"2021-04-25\"] = round(df_deaths[\"Switzerland\"].loc[\"2021-04-18\":\"2021-04-24\"].mean(axis=0),0)\n",
    "df_deaths[\"Switzerland\"].loc[\"2021-06-17\"] = round(df_deaths[\"Switzerland\"].loc[\"2021-06-10\":\"2021-06-16\"].mean(axis=0),0)"
   ]
  },
  {
   "cell_type": "code",
   "execution_count": null,
   "metadata": {},
   "outputs": [],
   "source": [
    "df_deaths.loc[:,(df_deaths.lt(0).any())]"
   ]
  },
  {
   "cell_type": "markdown",
   "metadata": {
    "cell_id": "00001-811d1ad0-1cca-44a7-912b-4b3c65ed1ee2",
    "deepnote_cell_type": "markdown"
   },
   "source": [
    " - ### 3.7 <span style=\"color:blue\"> Création des Features </span>"
   ]
  },
  {
   "cell_type": "markdown",
   "metadata": {},
   "source": [
    "<u>**Total des cas et des Morts liés au COV-19 en Europe**</u>"
   ]
  },
  {
   "cell_type": "code",
   "execution_count": null,
   "metadata": {
    "cell_id": "00022-7f02d07a-73ef-4549-8c00-05dfd6b4ada6",
    "deepnote_cell_type": "code",
    "deepnote_to_be_reexecuted": false,
    "execution_millis": 0,
    "execution_start": 1625857756064,
    "source_hash": "26074537",
    "tags": []
   },
   "outputs": [],
   "source": [
    "#--------#Total cases & deaths dataframes creation\n",
    "SumOfCases = df_cases.sum()\n",
    "SumOfDeaths = df_deaths.sum()\n",
    "\n",
    "SumProportion = pd.DataFrame((SumOfDeaths / SumOfCases)*100, columns=[\"Morts/Cas\"])\n",
    "SumProportion.sort_values(by=\"Morts/Cas\",ascending=False, inplace = True)\n",
    "\n",
    "SumProportion.replace([np.inf, -np.inf, np.nan], 0 , inplace=True)\n",
    "SumProportion.sort_values(by=\"Morts/Cas\",ascending=False, inplace = True)"
   ]
  },
  {
   "cell_type": "markdown",
   "metadata": {},
   "source": [
    "<u>**Case fatality rate (Morts/Cas)**</u>"
   ]
  },
  {
   "cell_type": "markdown",
   "metadata": {
    "cell_id": "00023-3ad4f53d-d056-49f3-9c0f-bc3714f740ea",
    "deepnote_cell_type": "markdown",
    "tags": []
   },
   "source": [
    "On peut divisier les pays en 3 groupes suivant le case fatality rate \n",
    "- Groupe1 = **elevé** \n",
    "- Groupe2 = **moyen**\n",
    "- Groupe3 = **bas** "
   ]
  },
  {
   "cell_type": "code",
   "execution_count": null,
   "metadata": {
    "cell_id": "00025-666b639f-060a-4b45-8f91-2061dbb72283",
    "deepnote_cell_type": "code",
    "deepnote_to_be_reexecuted": false,
    "execution_millis": 5,
    "execution_start": 1625857756073,
    "source_hash": "e5056968",
    "tags": []
   },
   "outputs": [],
   "source": [
    "SumProportion['Groups'] = pd.qcut(SumProportion[\"Morts/Cas\"],3)"
   ]
  },
  {
   "cell_type": "code",
   "execution_count": null,
   "metadata": {
    "cell_id": "00020-2cc348f6-382c-41c6-9a65-172c20d486d8",
    "deepnote_cell_type": "code",
    "deepnote_to_be_reexecuted": false,
    "execution_millis": 8,
    "execution_start": 1625857756102,
    "scrolled": true,
    "source_hash": "123afbc",
    "tags": []
   },
   "outputs": [],
   "source": [
    "SumProportion"
   ]
  },
  {
   "cell_type": "code",
   "execution_count": null,
   "metadata": {
    "cell_id": "00025-3ae4b62c-f465-4abb-80b5-10eef719481d",
    "deepnote_cell_type": "code",
    "deepnote_to_be_reexecuted": false,
    "execution_millis": 0,
    "execution_start": 1625857756159,
    "source_hash": "4bbd6c40",
    "tags": []
   },
   "outputs": [],
   "source": [
    "Groupe1 = SumProportion[:15]\n",
    "Groupe2 = SumProportion[15:30]\n",
    "Groupe3 = SumProportion[30:]"
   ]
  },
  {
   "cell_type": "code",
   "execution_count": null,
   "metadata": {
    "cell_id": "00027-ae27aff3-c978-43ef-977e-979764a76927",
    "deepnote_cell_type": "code",
    "deepnote_to_be_reexecuted": false,
    "execution_millis": 20,
    "execution_start": 1625857756435,
    "scrolled": false,
    "source_hash": "e2c135c1",
    "tags": []
   },
   "outputs": [],
   "source": [
    "Groupe1"
   ]
  },
  {
   "cell_type": "code",
   "execution_count": null,
   "metadata": {},
   "outputs": [],
   "source": [
    "Groupe2"
   ]
  },
  {
   "cell_type": "code",
   "execution_count": null,
   "metadata": {
    "scrolled": true
   },
   "outputs": [],
   "source": [
    "Groupe3"
   ]
  },
  {
   "cell_type": "markdown",
   "metadata": {},
   "source": [
    "<u>**Préparation des données à modéliser**</u>"
   ]
  },
  {
   "cell_type": "code",
   "execution_count": null,
   "metadata": {},
   "outputs": [],
   "source": [
    "df_cases_x = df_cases.copy()\n",
    "df_cases_x[\"Total\"] = df_cases_x.sum(1)"
   ]
  },
  {
   "cell_type": "code",
   "execution_count": null,
   "metadata": {},
   "outputs": [],
   "source": [
    "df_deaths_x = df_deaths.copy()\n",
    "df_deaths_x[\"Total\"] = df_deaths_x.sum(1)"
   ]
  },
  {
   "cell_type": "markdown",
   "metadata": {},
   "source": [
    "<u>**Crude Mortality rate per 100K population**</u>"
   ]
  },
  {
   "cell_type": "code",
   "execution_count": null,
   "metadata": {},
   "outputs": [],
   "source": [
    "df_d[\"Population\"] = pop[\"Population\"]"
   ]
  },
  {
   "cell_type": "code",
   "execution_count": null,
   "metadata": {},
   "outputs": [],
   "source": [
    "df_d[\"Mortality 100K pop\"] = np.round((df_d[\"Total\"]/df_d[\"Population\"])*100000,0)"
   ]
  },
  {
   "cell_type": "code",
   "execution_count": null,
   "metadata": {},
   "outputs": [],
   "source": [
    "df_d.head()"
   ]
  },
  {
   "cell_type": "markdown",
   "metadata": {},
   "source": [
    "# 4.<span style=\"color:red\"> Data Viz </span>"
   ]
  },
  {
   "cell_type": "markdown",
   "metadata": {
    "cell_id": "00001-811d1ad0-1cca-44a7-912b-4b3c65ed1ee2",
    "deepnote_cell_type": "markdown"
   },
   "source": [
    " - ### 4.1 <span style=\"color:blue\"> Highest Case fatality rate </span>"
   ]
  },
  {
   "cell_type": "code",
   "execution_count": null,
   "metadata": {
    "cell_id": "00025-dfab4dfc-f518-4a7d-bd10-9fae7739ea44",
    "deepnote_cell_type": "code",
    "deepnote_to_be_reexecuted": false,
    "execution_millis": 35,
    "execution_start": 1625857756498,
    "scrolled": true,
    "source_hash": "724b6d71"
   },
   "outputs": [],
   "source": [
    "data=Groupe1\n",
    "\n",
    "fig = px.bar(data, x=Groupe1.index, y=\"Morts/Cas\",\n",
    "             hover_data=[\"Morts/Cas\"], color=\"Morts/Cas\",\n",
    "             labels={'pop':'Ratio'}, height=400,title='Highest Case Fatality rate in Europe')\n",
    "fig.update_layout(template='plotly_dark')\n",
    "fig.show()"
   ]
  },
  {
   "cell_type": "markdown",
   "metadata": {
    "cell_id": "00001-811d1ad0-1cca-44a7-912b-4b3c65ed1ee2",
    "deepnote_cell_type": "markdown"
   },
   "source": [
    " - ### 4.2 <span style=\"color:blue\"> Moderated Case fatality rate</span>"
   ]
  },
  {
   "cell_type": "code",
   "execution_count": null,
   "metadata": {
    "cell_id": "00030-a33cb0ad-f242-4419-b10f-7fdd50269c92",
    "deepnote_cell_type": "code",
    "deepnote_to_be_reexecuted": false,
    "execution_millis": 34,
    "execution_start": 1625857756566,
    "scrolled": true,
    "source_hash": "a7a8798e",
    "tags": []
   },
   "outputs": [],
   "source": [
    "data=Groupe2\n",
    "\n",
    "fig = px.bar(data, x=Groupe2.index, y=\"Morts/Cas\",\n",
    "             hover_data=[\"Morts/Cas\"], color=\"Morts/Cas\",\n",
    "             labels={'pop':'Ratio'}, height=400,title='Moderated Case Fatality rate in Europe')\n",
    "fig.update_layout(template='plotly_dark')\n",
    "fig.show()"
   ]
  },
  {
   "cell_type": "markdown",
   "metadata": {
    "cell_id": "00001-811d1ad0-1cca-44a7-912b-4b3c65ed1ee2",
    "deepnote_cell_type": "markdown"
   },
   "source": [
    " - ### 4.3 <span style=\"color:blue\"> Lowest Case fatality rate</span>"
   ]
  },
  {
   "cell_type": "code",
   "execution_count": null,
   "metadata": {
    "cell_id": "00031-57df96f1-78b7-46d6-a021-a332ff240507",
    "deepnote_cell_type": "code",
    "deepnote_to_be_reexecuted": false,
    "execution_millis": 57,
    "execution_start": 1625857756625,
    "scrolled": true,
    "source_hash": "9c43c9d4",
    "tags": []
   },
   "outputs": [],
   "source": [
    "data=Groupe3\n",
    "\n",
    "fig = px.bar(data, x=Groupe3.index, y=\"Morts/Cas\",\n",
    "             hover_data=[\"Morts/Cas\"], color=\"Morts/Cas\",\n",
    "             labels={'pop':'Ratio'}, height=400,title='Lowest Case Fatality rate in Europe')\n",
    "fig.update_layout(template='plotly_dark')\n",
    "fig.show()"
   ]
  },
  {
   "cell_type": "markdown",
   "metadata": {
    "cell_id": "00001-811d1ad0-1cca-44a7-912b-4b3c65ed1ee2",
    "deepnote_cell_type": "markdown"
   },
   "source": [
    " - ### 4.4 <span style=\"color:blue\"> 10 Highest Crude death rate</span>"
   ]
  },
  {
   "cell_type": "code",
   "execution_count": null,
   "metadata": {
    "scrolled": true
   },
   "outputs": [],
   "source": [
    "top_10 = df_d.sort_values(\"Mortality 100K pop\",ascending = False).head(10)\n",
    "top_10.reset_index(inplace=True)\n",
    "data=top_10\n",
    "\n",
    "fig = px.bar(data, x=top_10['Country'], y=\"Mortality 100K pop\",\n",
    "             hover_data=['Country'], color=\"Mortality 100K pop\",\n",
    "             labels={'pop':'Taux brut de décès'}, height=400,title='Highest Crude death rate in Europe')\n",
    "fig.update_layout(template='ggplot2')\n",
    "fig.show()"
   ]
  },
  {
   "cell_type": "markdown",
   "metadata": {
    "cell_id": "00001-811d1ad0-1cca-44a7-912b-4b3c65ed1ee2",
    "deepnote_cell_type": "markdown"
   },
   "source": [
    " - ### 4.5 <span style=\"color:blue\"> Map of Total deaths per country</span>"
   ]
  },
  {
   "cell_type": "code",
   "execution_count": null,
   "metadata": {
    "cell_id": "00030-b995aa44-07d1-48cd-b4d2-843d43dd149b",
    "deepnote_cell_type": "code",
    "deepnote_to_be_reexecuted": true,
    "execution_millis": 11,
    "execution_start": 1625857749194,
    "scrolled": false,
    "source_hash": "e498bda1"
   },
   "outputs": [],
   "source": [
    "df_d.reset_index(inplace=True)\n",
    "fig = px.scatter_geo(df_d, lat=df_d['Lat'], lon = df_d['Long'],\n",
    "                     hover_name=df_d['Country'],\n",
    "                     size= df_d['Total'],\n",
    "                     color= df_d['Total'],\n",
    "                     projection=\"natural earth\",\n",
    "                    fitbounds = \"locations\",\n",
    "                    title= \"Total deaths per country\",\n",
    "                    opacity = 0.7)\n",
    "fig"
   ]
  },
  {
   "cell_type": "markdown",
   "metadata": {
    "cell_id": "00001-811d1ad0-1cca-44a7-912b-4b3c65ed1ee2",
    "deepnote_cell_type": "markdown"
   },
   "source": [
    " - ### 4.6 <span style=\"color:blue\"> Cases monthly rolling mean</span>"
   ]
  },
  {
   "cell_type": "code",
   "execution_count": null,
   "metadata": {
    "scrolled": true
   },
   "outputs": [],
   "source": [
    "cases_chart=alt.Chart(df_cases_x.reset_index()).mark_line(point=True).encode(\n",
    "    x='Date', \n",
    "    y=\"Total\", \n",
    "    tooltip=['Date',\"Total\"])\n",
    "\n",
    "#Create Rolling mean. This centered rolling mean \n",
    "rolling_mean = alt.Chart(df_cases_x.reset_index()).mark_trail(\n",
    "    color='red',\n",
    "    size=1\n",
    ").transform_window(\n",
    "    rolling_mean='mean(Total)',\n",
    "    frame=[-15,15] #Moving average interval\n",
    ").encode(\n",
    "    x='Date:T', #T encoding for time data\n",
    "    y='rolling_mean:Q', #Q encoding for continuous real-valued quantity\n",
    "    size='Total')\n",
    "\n",
    "#Add zoom-in/out\n",
    "scales = alt.selection_interval(bind='scales')\n",
    "\n",
    "#Combine everything\n",
    "(cases_chart + rolling_mean).properties(\n",
    "    width=900, \n",
    "    title=\"European COV-19 cases & Monthly Rolling mean\").add_selection(\n",
    "    scales\n",
    ")"
   ]
  },
  {
   "cell_type": "markdown",
   "metadata": {
    "cell_id": "00001-811d1ad0-1cca-44a7-912b-4b3c65ed1ee2",
    "deepnote_cell_type": "markdown"
   },
   "source": [
    " - ### 4.7 <span style=\"color:blue\"> Deaths monthly rolling mean</span>"
   ]
  },
  {
   "cell_type": "code",
   "execution_count": null,
   "metadata": {
    "scrolled": true
   },
   "outputs": [],
   "source": [
    "cases_chart=alt.Chart(df_deaths_x.reset_index()).mark_line(point=True).encode(\n",
    "    x='Date', \n",
    "    y=\"Total\", \n",
    "    tooltip=['Date',\"Total\"])\n",
    "\n",
    "#Create Rolling mean. This centered rolling mean \n",
    "rolling_mean = alt.Chart(df_deaths_x.reset_index()).mark_trail(\n",
    "    color='orange',\n",
    "    size=1\n",
    ").transform_window(\n",
    "    rolling_mean='mean(Total)',\n",
    "    frame=[-15,15] #Moving average interval\n",
    ").encode(\n",
    "    x='Date:T', #T encoding for time data\n",
    "    y='rolling_mean:Q', #Q encoding for continuous real-valued quantity\n",
    "    size='Total')\n",
    "\n",
    "#Add zoom-in/out\n",
    "scales = alt.selection_interval(bind='scales')\n",
    "\n",
    "#Combine everything\n",
    "(cases_chart + rolling_mean).properties(\n",
    "    width=900, \n",
    "    title=\"European COV-19 deaths & Monthly Rolling mean\").add_selection(\n",
    "    scales\n",
    ")"
   ]
  },
  {
   "cell_type": "markdown",
   "metadata": {},
   "source": [
    "# 5.<span style=\"color:red\"> Tests des séries </span>"
   ]
  },
  {
   "cell_type": "markdown",
   "metadata": {},
   "source": [
    "**Nous allons utiliser la somme journalière des nombres de cas et des nombres de morts pour pouvoir ensuite essayer les différents modèles de prédiction**"
   ]
  },
  {
   "cell_type": "code",
   "execution_count": null,
   "metadata": {},
   "outputs": [],
   "source": [
    "df_cases = df_cases.sum(1)"
   ]
  },
  {
   "cell_type": "code",
   "execution_count": null,
   "metadata": {},
   "outputs": [],
   "source": [
    "df_deaths = df_deaths.sum(1)"
   ]
  },
  {
   "cell_type": "markdown",
   "metadata": {
    "cell_id": "00001-811d1ad0-1cca-44a7-912b-4b3c65ed1ee2",
    "deepnote_cell_type": "markdown"
   },
   "source": [
    " - ### 5.1 <span style=\"color:blue\"> Test de stationnarité</span>"
   ]
  },
  {
   "cell_type": "code",
   "execution_count": null,
   "metadata": {},
   "outputs": [],
   "source": [
    "def kpss_test(series, **kw):\n",
    "    statistic, p_value, n_lags, critical_values= kpss(series, **kw)\n",
    "    print(f'KPSS statistic: {statistic}')\n",
    "    print(f'p_value: {p_value}')\n",
    "    print(f'num lags: {n_lags}')\n",
    "    print(f'Critical values:')\n",
    "    for key, value in critical_values.items():\n",
    "        print(f' {key} : {value}')\n",
    "    print(f'Result: the series is {\"not \" if p_value < 0.05 else \"\"}stationary')"
   ]
  },
  {
   "cell_type": "code",
   "execution_count": null,
   "metadata": {},
   "outputs": [],
   "source": [
    "#Test de stationnarité\n",
    "kpss_results = {}\n",
    "print(f'df_cases')\n",
    "kpss_results = kpss_test(df_cases)"
   ]
  },
  {
   "cell_type": "code",
   "execution_count": null,
   "metadata": {
    "scrolled": true
   },
   "outputs": [],
   "source": [
    "#Test de stationnarité\n",
    "kpss_results = {}\n",
    "print(f'df_deaths')\n",
    "kpss_results = kpss_test(df_deaths)"
   ]
  },
  {
   "cell_type": "markdown",
   "metadata": {
    "cell_id": "00001-811d1ad0-1cca-44a7-912b-4b3c65ed1ee2",
    "deepnote_cell_type": "markdown"
   },
   "source": [
    " - ### 5.2 <span style=\"color:blue\"> Stationnarisation</span>"
   ]
  },
  {
   "cell_type": "markdown",
   "metadata": {},
   "source": [
    "**Une différence première sera appliquée sur les séries pour les stationnariser et afin d'avoir une moyenne, une variance et une fonction d'autocorrélation plus ou moins constantes dans le temps**"
   ]
  },
  {
   "cell_type": "code",
   "execution_count": null,
   "metadata": {},
   "outputs": [],
   "source": [
    "cases_diff = df_cases.copy()\n",
    "deaths_diff = df_deaths.copy()"
   ]
  },
  {
   "cell_type": "code",
   "execution_count": null,
   "metadata": {},
   "outputs": [],
   "source": [
    "cases_diff = df_cases.diff().dropna()"
   ]
  },
  {
   "cell_type": "code",
   "execution_count": null,
   "metadata": {},
   "outputs": [],
   "source": [
    "deaths_diff = df_deaths.diff().dropna()"
   ]
  },
  {
   "cell_type": "code",
   "execution_count": null,
   "metadata": {},
   "outputs": [],
   "source": [
    "#Test de stationnarité\n",
    "kpss_results = {}\n",
    "kpss_results = kpss_test(cases_diff)"
   ]
  },
  {
   "cell_type": "code",
   "execution_count": null,
   "metadata": {},
   "outputs": [],
   "source": [
    "#Test de stationnarité\n",
    "kpss_results = {}\n",
    "kpss_results = kpss_test(deaths_diff)"
   ]
  },
  {
   "cell_type": "markdown",
   "metadata": {
    "cell_id": "00001-811d1ad0-1cca-44a7-912b-4b3c65ed1ee2",
    "deepnote_cell_type": "markdown"
   },
   "source": [
    " - ### 5.3 <span style=\"color:blue\"> Test de normalité</span>"
   ]
  },
  {
   "cell_type": "code",
   "execution_count": null,
   "metadata": {},
   "outputs": [],
   "source": [
    "#Test de normalité (Shapiro-Wilk)\n",
    "#H0 : distribution normale\n",
    "#HA : pas de distribution normale\n",
    "p_value = 0.05\n",
    "a,b= stats.shapiro(cases_diff)\n",
    "print (\"Statistiques\", a, \"p_value\", b)\n",
    "if b < p_value:\n",
    "    print(f\"L'hypothèse nulle H0 peut être rejetée et la série cases_diff ne présente pas de distribution normale\")\n",
    "else:\n",
    "    print(f\"L'hypothèse nulle H0 ne peut être rejetée et la série cases_diff présente une distribution normale\")\n",
    "        "
   ]
  },
  {
   "cell_type": "code",
   "execution_count": null,
   "metadata": {
    "scrolled": true
   },
   "outputs": [],
   "source": [
    "#Test de normalité (Shapiro-Wilk)\n",
    "#H0 : distribution normale\n",
    "#HA : pas de distribution normale\n",
    "p_value = 0.05\n",
    "a,b= stats.shapiro(deaths_diff)\n",
    "print (\"Statistiques\", a, \"p_value\", b)\n",
    "if b < p_value:\n",
    "    print(f\"L'hypothèse nulle H0 peut être rejetée et la série deaths_diff ne présente pas de distribution normale\")\n",
    "else:\n",
    "    print(f\"L'hypothèse nulle H0 ne peut être rejetée et la série deaths_diff présente une distribution normale\")\n",
    "        "
   ]
  },
  {
   "cell_type": "markdown",
   "metadata": {},
   "source": [
    "# 6.<span style=\"color:red\"> Décomposition & Corrélations </span>"
   ]
  },
  {
   "cell_type": "markdown",
   "metadata": {
    "cell_id": "00001-811d1ad0-1cca-44a7-912b-4b3c65ed1ee2",
    "deepnote_cell_type": "markdown"
   },
   "source": [
    " - ### 6.1 <span style=\"color:blue\"> Décomposition des Timeseries</span>"
   ]
  },
  {
   "cell_type": "code",
   "execution_count": null,
   "metadata": {},
   "outputs": [],
   "source": [
    "sns.set_style('darkgrid')\n",
    "pd.plotting.register_matplotlib_converters()\n",
    "# Default figure size\n",
    "sns.mpl.rc('figure',figsize=(16, 6))\n",
    "plt.rcParams.update({'figure.max_open_warning': 0})"
   ]
  },
  {
   "cell_type": "markdown",
   "metadata": {},
   "source": [
    "**Le process de décomposition des Time Series consiste à séparer les données en composantes qui sont** :\n",
    " - Une tendance (Trend) qui démontre une potentielle augmentation et baisse de la moyenne\n",
    " - Une saisonnalité qui représente un cycle récurrent dans les données\n",
    " - Les résiduels aléatoires restants après suppression de la trend et la saisonnalité\n",
    " \n",
    " \n",
    " **Le modèle additif est choisi du fait que l'amplitude de la saisonnalité est indépendante de la moyenne ainsi que la présence de valeurs négatives/zéros après stationnarisation** \n",
    " \n",
    " \n",
    " **Un modèle additif suggère que les composants sont ajoutés de façon linéaire comme suit**:\n",
    " - y(t) = Level + Trend + Seasonality + Noise"
   ]
  },
  {
   "cell_type": "code",
   "execution_count": null,
   "metadata": {},
   "outputs": [],
   "source": [
    "decomp_cases = seasonal_decompose(cases_diff,model=\"additive\")  #Additive due to negative/zeros values\n",
    "fig = decomp_cases.plot()"
   ]
  },
  {
   "cell_type": "markdown",
   "metadata": {},
   "source": [
    "**Interprétation**:\n",
    "  - La trend et les résiduels sont assez explicites et expliquent bien les variations observées dans les données.\n",
    "  - La saisonalité (7 jours) a été détectée automatiquement  "
   ]
  },
  {
   "cell_type": "code",
   "execution_count": null,
   "metadata": {},
   "outputs": [],
   "source": [
    "decomp_cases.seasonal.head(16)"
   ]
  },
  {
   "cell_type": "code",
   "execution_count": null,
   "metadata": {
    "scrolled": false
   },
   "outputs": [],
   "source": [
    "decomp_deaths = seasonal_decompose(df_deaths,model=\"additive\") \n",
    "fig = decomp_deaths.plot()"
   ]
  },
  {
   "cell_type": "code",
   "execution_count": null,
   "metadata": {},
   "outputs": [],
   "source": [
    "decomp_deaths.seasonal.head(16)"
   ]
  },
  {
   "cell_type": "markdown",
   "metadata": {},
   "source": [
    "**Interprétation**:\n",
    "  - La trend est beaucoup plus lisse ce qui est tout à fait normal au vue des données observées.\n",
    "  - La saisonalité (7 jours) a été détectée automatiquement \n",
    "  - Les résiduels sont beaucoup plus importants"
   ]
  },
  {
   "cell_type": "markdown",
   "metadata": {
    "cell_id": "00001-811d1ad0-1cca-44a7-912b-4b3c65ed1ee2",
    "deepnote_cell_type": "markdown"
   },
   "source": [
    " - ### 6.2 <span style=\"color:blue\"> ACF: Autocorrelation plots</span>"
   ]
  },
  {
   "cell_type": "markdown",
   "metadata": {},
   "source": [
    "**Informations pouvant être extraite des plots ACF-PACF**.\n",
    "\n",
    "- **Modèle AR** : \n",
    "    1.  **ACF** --> Au fur et à mesure, après un certain point, il n'y a plus de relation.\n",
    "    2. **PACF** --> Après un certain nombre de lag, tout à coup la relation temporelle n'existe plus.\n",
    "- **Modèle MA** : \n",
    "    1. **ACF** --> Après un certain nombre de lag, tout à coup la relation temporelle n'existe plus.\n",
    "    2. **PACF** --> Au fur et à mesure, après un certain point, il n'y a plus de relation."
   ]
  },
  {
   "cell_type": "markdown",
   "metadata": {},
   "source": [
    "- **Analyse visuelle des autocorrelations et leurs significativité**"
   ]
  },
  {
   "cell_type": "code",
   "execution_count": null,
   "metadata": {},
   "outputs": [],
   "source": [
    "plot_acf(cases_diff, lags = 100, title='Autocorrelation Nombre de Cas')\n",
    "plt.show()\n",
    "\n",
    "plot_acf(deaths_diff, lags = 100, title='Autocorrelation Nombre de Morts')\n",
    "plt.show()"
   ]
  },
  {
   "cell_type": "markdown",
   "metadata": {},
   "source": [
    "**Le plot ACF est une representation des coéfficients de corrélation entre une Time series et ses valeurs antérieures.**\n",
    "\n",
    "Dans les deux séries:\n",
    " - **Les lags démontrent une tendance sinusoidale décroissante qui alterne entre corrélations positive et négative ce qui prévoit un processus AR+MA**. \n",
    " - **Les lags positifs récurrents chaque 7 jours correspondent à la période de saisonnalité**.\n",
    " - **Terme autorégressif d'ordre supérieur dans les données**."
   ]
  },
  {
   "cell_type": "markdown",
   "metadata": {
    "cell_id": "00001-811d1ad0-1cca-44a7-912b-4b3c65ed1ee2",
    "deepnote_cell_type": "markdown"
   },
   "source": [
    " - ### 6.3 <span style=\"color:blue\"> PACF: Partial autocorrelation plots</span>"
   ]
  },
  {
   "cell_type": "markdown",
   "metadata": {},
   "source": [
    "- **Analyse visuelle de la relation directe entre Y(t) et Y(t-1)**"
   ]
  },
  {
   "cell_type": "code",
   "execution_count": null,
   "metadata": {
    "scrolled": false
   },
   "outputs": [],
   "source": [
    "plot_pacf(cases_diff, lags = 100,title='Partial autocorrelation Nombre de Cas')\n",
    "plt.show()\n",
    "\n",
    "plot_pacf(deaths_diff, lags = 100, title=\"Partial autocorrelation Nombre de morts\")\n",
    "plt.show()"
   ]
  },
  {
   "cell_type": "markdown",
   "metadata": {},
   "source": [
    "**Le plot PACF représente la fonction d'autocorrélation partielle qui explique la corrélation partielle entre la série temporelle et ses propres lags avec une régression linéaire qui prédit y(t) à partir des valeurs antérieures y(t-1), y(t-2), y(t-3)...**\n",
    "\n",
    " - Pour les deux séries, on observe une baisse significative de l'importance des lags au bout de 9 jours pour les cas et 8 jours pour les morts\n"
   ]
  },
  {
   "cell_type": "markdown",
   "metadata": {
    "cell_id": "00001-811d1ad0-1cca-44a7-912b-4b3c65ed1ee2",
    "deepnote_cell_type": "markdown"
   },
   "source": [
    " - ### 6.4 <span style=\"color:blue\"> Train & Test splits</span>"
   ]
  },
  {
   "cell_type": "code",
   "execution_count": null,
   "metadata": {},
   "outputs": [],
   "source": [
    "\n",
    "train_cases, test_cases= np.split(cases_diff, [int(.80 *len(cases_diff))])\n",
    "train_deaths, test_deaths= np.split(deaths_diff, [int(.80 *len(deaths_diff))])"
   ]
  },
  {
   "cell_type": "code",
   "execution_count": null,
   "metadata": {},
   "outputs": [],
   "source": [
    "fig, ax = plt.subplots(nrows=1, ncols=2, sharex=False, sharey=True)\n",
    "\n",
    "train_cases.plot(ax=ax[0], grid=True, title=\"Train\", color=\"blue\",legend=None)\n",
    "test_cases.plot(ax=ax[1], grid=True, title=\"Test\", color=\"red\", legend=None)\n",
    "\n",
    "ax[0].set(xlabel=None)\n",
    "ax[1].set(xlabel=None)\n",
    " \n",
    "plt.show()"
   ]
  },
  {
   "cell_type": "code",
   "execution_count": null,
   "metadata": {},
   "outputs": [],
   "source": [
    "fig, ax = plt.subplots(nrows=1, ncols=2, sharex=False, sharey=True)\n",
    "\n",
    "train_deaths.plot(ax=ax[0], grid=True, title=\"Train\", color=\"orange\",legend=None)\n",
    "test_deaths.plot(ax=ax[1], grid=True, title=\"Test\", color=\"green\", legend=None)\n",
    "\n",
    "ax[0].set(xlabel=None)\n",
    "ax[1].set(xlabel=None)\n",
    " \n",
    "plt.show()"
   ]
  },
  {
   "cell_type": "markdown",
   "metadata": {},
   "source": [
    "# 7.<span style=\"color:red\"> Modélisation </span>"
   ]
  },
  {
   "cell_type": "markdown",
   "metadata": {
    "cell_id": "00001-811d1ad0-1cca-44a7-912b-4b3c65ed1ee2",
    "deepnote_cell_type": "markdown"
   },
   "source": [
    " - ### 7.1 <span style=\"color:blue\"> Random Walk</span>"
   ]
  },
  {
   "cell_type": "code",
   "execution_count": null,
   "metadata": {},
   "outputs": [],
   "source": [
    "'''\n",
    "Generate a Random Walk process.\n",
    ": using the parameters of the Standard and Poor Weekly Data observations (we will use Adj Close)\n",
    "    :param y0: num - observation #1 \n",
    "    :param n: num - total number of observations\n",
    "    :param ymin: num - limit\n",
    "    :param ymax: num - limit\n",
    "'''\n",
    "def generate_rw(y0, n, sigma, ymin=None, ymax=None):\n",
    "    random.seed(15)\n",
    "    rw = [y0]\n",
    "    for t in range(1, n):\n",
    "        yt = rw[t-1] + np.random.normal(0,sigma)\n",
    "        if (ymax is not None) and (yt > ymax):\n",
    "            yt = rw[t-1] - abs(np.random.normal(0,sigma))\n",
    "        elif (ymin is not None) and (yt < ymin):\n",
    "            yt = rw[t-1] + abs(np.random.normal(0,sigma))\n",
    "        rw.append(yt)\n",
    "    return rw"
   ]
  },
  {
   "cell_type": "code",
   "execution_count": null,
   "metadata": {},
   "outputs": [],
   "source": [
    "def simulate_rw(train, test):\n",
    "    ## simulate train\n",
    "    #diff_ts = train - train.shift(1)\n",
    "    rw = generate_rw(y0=train[0], n=len(train), sigma=train.std(), ymin=train.min(), ymax=train.max())\n",
    "    dtf_train = train.to_frame(name=\"data\").merge(pd.DataFrame(rw, index=train.index, columns=[\"model\"]), how='left', left_index=True, right_index=True)\n",
    "    \n",
    "    ## test\n",
    "    rw = generate_rw(y0=test[0], n=len(test), \n",
    "                           sigma=train.std(), ymin=train.min(), \n",
    "                           ymax=train.max())\n",
    "    dtf_test = test.to_frame(name=\"data\").merge(\n",
    "                 pd.DataFrame(rw, index=test.index, \n",
    "                              columns=[\"forecast\"]), how='left', \n",
    "                              left_index=True, right_index=True)\n",
    "    ## evaluate\n",
    "    dtf = dtf_train.append(dtf_test)\n",
    "    #dtf = utils_evaluate_forecast(dtf, figsize=figsize, \n",
    "                                  #title=\"Random Walk Simulation\")\n",
    "    return dtf"
   ]
  },
  {
   "cell_type": "code",
   "execution_count": null,
   "metadata": {
    "scrolled": true
   },
   "outputs": [],
   "source": [
    "result_cases = simulate_rw(train_cases, test_cases)\n",
    "result_cases"
   ]
  },
  {
   "cell_type": "code",
   "execution_count": null,
   "metadata": {},
   "outputs": [],
   "source": [
    "plt.plot(result_cases)\n",
    "plt.legend(('Data', 'Model', 'Forecast'))\n",
    "plt.show()"
   ]
  },
  {
   "cell_type": "code",
   "execution_count": null,
   "metadata": {},
   "outputs": [],
   "source": [
    "result_deaths = simulate_rw(train_deaths, test_deaths)\n",
    "result_deaths"
   ]
  },
  {
   "cell_type": "code",
   "execution_count": null,
   "metadata": {},
   "outputs": [],
   "source": [
    "plt.plot(result_deaths)\n",
    "plt.legend(('Data', 'Model', 'Forecast'))\n",
    "plt.show()"
   ]
  },
  {
   "cell_type": "markdown",
   "metadata": {},
   "source": [
    " - #### 7.1.a <span style=\"color:green\"> RMSE : Random Walk</span>"
   ]
  },
  {
   "cell_type": "code",
   "execution_count": null,
   "metadata": {},
   "outputs": [],
   "source": [
    "## residuals\n",
    "result_cases[\"residuals\"] = result_cases[\"data\"] - result_cases[\"model\"]\n",
    "result_cases[\"error\"] = result_cases[\"data\"] - result_cases[\"forecast\"]\n",
    "result_cases[\"error_pct\"] = result_cases[\"error\"] / result_cases[\"data\"]\n",
    "        \n",
    "## kpi\n",
    "residuals_mean = result_cases[\"residuals\"].mean()\n",
    "residuals_std = result_cases[\"residuals\"].std()\n",
    "error_mean = result_cases[\"error\"].mean()\n",
    "error_std = result_cases[\"error\"].std()\n",
    "mae = result_cases[\"error\"].apply(lambda x: np.abs(x)).mean()\n",
    "mape = result_cases[\"error_pct\"].apply(lambda x: np.abs(x)).mean()  \n",
    "mse_rw = result_cases[\"error\"].apply(lambda x: x**2).mean()\n",
    "rmse_rw_cases = np.sqrt(mse_rw)  #root mean squared error"
   ]
  },
  {
   "cell_type": "code",
   "execution_count": null,
   "metadata": {},
   "outputs": [],
   "source": [
    "## residuals\n",
    "result_deaths[\"residuals\"] = result_deaths[\"data\"] - result_deaths[\"model\"]\n",
    "result_deaths[\"error\"] = result_deaths[\"data\"] - result_deaths[\"forecast\"]\n",
    "result_deaths[\"error_pct\"] = result_deaths[\"error\"] / result_deaths[\"data\"]\n",
    "        \n",
    "## kpi\n",
    "residuals_mean = result_deaths[\"residuals\"].mean()\n",
    "residuals_std = result_deaths[\"residuals\"].std()\n",
    "error_mean = result_deaths[\"error\"].mean()\n",
    "error_std = result_deaths[\"error\"].std()\n",
    "mae = result_deaths[\"error\"].apply(lambda x: np.abs(x)).mean()\n",
    "mape = result_deaths[\"error_pct\"].apply(lambda x: np.abs(x)).mean()  \n",
    "mse_rw_deaths = result_deaths[\"error\"].apply(lambda x: x**2).mean()\n",
    "rmse_rw_deaths = np.sqrt(mse_rw_deaths)  #root mean squared error"
   ]
  },
  {
   "cell_type": "code",
   "execution_count": null,
   "metadata": {
    "scrolled": true
   },
   "outputs": [],
   "source": [
    "rmse_rw_cases"
   ]
  },
  {
   "cell_type": "code",
   "execution_count": null,
   "metadata": {},
   "outputs": [],
   "source": [
    "rmse_rw_deaths"
   ]
  },
  {
   "cell_type": "markdown",
   "metadata": {},
   "source": [
    "**Les RMSE du random walk sont très importantes**"
   ]
  },
  {
   "cell_type": "markdown",
   "metadata": {
    "cell_id": "00001-811d1ad0-1cca-44a7-912b-4b3c65ed1ee2",
    "deepnote_cell_type": "markdown"
   },
   "source": [
    " - ### 7.2 <span style=\"color:blue\"> AutoReg model sans Saisonalité</span>"
   ]
  },
  {
   "cell_type": "code",
   "execution_count": null,
   "metadata": {},
   "outputs": [],
   "source": [
    "cases_diff = pd.DataFrame(cases_diff, index = cases_diff.index, columns = [\"Total\"])"
   ]
  },
  {
   "cell_type": "code",
   "execution_count": null,
   "metadata": {},
   "outputs": [],
   "source": [
    "deaths_diff = pd.DataFrame(deaths_diff, index = cases_diff.index, columns = [\"Total\"])"
   ]
  },
  {
   "cell_type": "markdown",
   "metadata": {},
   "source": [
    " - #### 7.2.a <span style=\"color:green\"> Lag plots</span>"
   ]
  },
  {
   "cell_type": "code",
   "execution_count": null,
   "metadata": {},
   "outputs": [],
   "source": [
    "lag_plot(cases_diff[\"Total\"])\n",
    "plt.title(\"Lag plot t-1 Nombre de cas\")\n",
    "plt.show();\n",
    "\n",
    "lag_plot(deaths_diff[\"Total\"])\n",
    "plt.title(\"Lag plot t-1 Nombre de morts\")\n",
    "plt.show()"
   ]
  },
  {
   "cell_type": "markdown",
   "metadata": {},
   "source": [
    "**Concentration des points autour de zéro**\n",
    "\n",
    "**Les outliers sont nombreux**"
   ]
  },
  {
   "cell_type": "markdown",
   "metadata": {},
   "source": [
    " - #### 7.2.b <span style=\"color:green\"> Choix des lags</span>"
   ]
  },
  {
   "cell_type": "code",
   "execution_count": null,
   "metadata": {},
   "outputs": [],
   "source": [
    "mod = ar_select_order(cases_diff, maxlag=30,old_names = False)\n",
    "mod.ar_lags"
   ]
  },
  {
   "cell_type": "code",
   "execution_count": null,
   "metadata": {
    "scrolled": true
   },
   "outputs": [],
   "source": [
    "mod = ar_select_order(deaths_diff, maxlag=50,old_names = False)\n",
    "mod.ar_lags"
   ]
  },
  {
   "cell_type": "markdown",
   "metadata": {},
   "source": [
    " - #### 7.2.c <span style=\"color:green\"> Entraînement de la série: nombre de Cas</span>"
   ]
  },
  {
   "cell_type": "code",
   "execution_count": null,
   "metadata": {
    "scrolled": false
   },
   "outputs": [],
   "source": [
    "mod_cases = AutoReg(cases_diff, lags =[1, 2, 3, 4, 5, 6, 7, 8, 9],old_names = False)\n",
    "res_cases = mod_cases.fit()\n",
    "print(res_cases.summary())"
   ]
  },
  {
   "cell_type": "markdown",
   "metadata": {},
   "source": [
    " - #### 7.2.d <span style=\"color:green\"> Interprétation</span>"
   ]
  },
  {
   "cell_type": "markdown",
   "metadata": {},
   "source": [
    "\n",
    "- **La méthode d'estimation : conditional maximum likelihood** \n",
    "- **L'AIC (akaike information criteria)détermine la qualité du modèle autoregressif appliqué en prenant compte du maximum likelihood et des nombres de paramètres**.\n",
    "\n",
    "  AIC = ${2k-2\\ln({\\hat {L}})}$\n",
    "\n",
    "**Plus l'AIC est petit plus le modèle est performant**.\n",
    "\n",
    "- **Les lags n° 1 & 7 sont les plus impactants avec une faible p-value et un coefficient relativement conséquent**\n",
    "- **La P|z| doit être inférieure à 5% pourque les coefficients soient significatifs ce qui est le cas de nos lags à part le L6**.\n",
    "- **Les 6 premiers lags ont un impact négatif sur les valeurs et les 3 derniers ont un impact positif sur les valeurs**."
   ]
  },
  {
   "cell_type": "markdown",
   "metadata": {},
   "source": [
    " - #### 7.2.e <span style=\"color:green\"> Entraînement sur la série: nombre de Morts</span>"
   ]
  },
  {
   "cell_type": "code",
   "execution_count": null,
   "metadata": {
    "scrolled": true
   },
   "outputs": [],
   "source": [
    "mod_deaths = AutoReg(deaths_diff[\"Total\"], lags =[ 1,  2,  3,  4,  5,  6,  7,  8,  9, 10, 11, 12, 13, 14],old_names = False)\n",
    "res_deaths = mod_deaths.fit()\n",
    "print(res_deaths.summary())"
   ]
  },
  {
   "cell_type": "markdown",
   "metadata": {},
   "source": [
    " - #### 7.2.f <span style=\"color:green\"> Interprétation</span>"
   ]
  },
  {
   "cell_type": "markdown",
   "metadata": {},
   "source": [
    "\n",
    "- **Les lags n° 2 & 8 sont les plus impactants avec une faible p-value et un coefficient relativement conséquent**\n",
    "- **La P|z| doit être inférieure à 5% pourque les coefficients soient significatifs ce qui est le cas de nos lags à part le L6**.\n",
    "- **Les 5 premiers lags ont un impact négatif sur les valeurs et les restes ont un impact positif sur les valeurs**."
   ]
  },
  {
   "cell_type": "markdown",
   "metadata": {},
   "source": [
    " - #### 7.2.g <span style=\"color:green\"> Prédictions</span>"
   ]
  },
  {
   "cell_type": "code",
   "execution_count": null,
   "metadata": {
    "scrolled": false
   },
   "outputs": [],
   "source": [
    "#1 = Start, 550 = End (517 observations sont déjà dans notre Timeseries)\n",
    "fig = res_cases.plot_predict(450,550)\n",
    "fig = res_deaths.plot_predict(450,550)"
   ]
  },
  {
   "cell_type": "markdown",
   "metadata": {},
   "source": [
    "**Les prédictions des nombres de Cas tendent à une linéarisation vers 0 avec des amplitudes très faibles**\n",
    "\n",
    "**Les prédictions des nombres de morts montrent une très légère tendance à la baisse des amplitudes en gardant une moyenne constante dans le temps**"
   ]
  },
  {
   "cell_type": "markdown",
   "metadata": {},
   "source": [
    " - #### 7.2.h <span style=\"color:green\"> Models diagnostics</span>"
   ]
  },
  {
   "cell_type": "code",
   "execution_count": null,
   "metadata": {},
   "outputs": [],
   "source": [
    "fig = res_cases.plot_diagnostics(lags=30)"
   ]
  },
  {
   "cell_type": "markdown",
   "metadata": {},
   "source": [
    "**interprétation des résultats**\n",
    "\n",
    " - A. Standardized residuals\n",
    "\n",
    "Le standardized residual est une mesure de la force de la différence entre les valeurs observées et attendues. C'est une mesure de l'importance des cellules par rapport à la valeur du chi-square. \n",
    "Pour la série des nombres de cas, les cellules qui contribuent le plus aux vraies valeurs et qui sont supérieurs à 3 correspondent aux vagues de contaminations observées en **Avril 2020** , **Octobre 2020** , **Janvier 2021**  et **Avril 2021**.\n",
    "Notons aussi la présence des outliers surtout en **Octobre 2020** qui correspont au plus fort de la pandémie.\n",
    "\n",
    "\n",
    " - B. Histogram\n",
    "L'histogramme KDE détermine la meilleure distribution possible de la donnée.\n",
    "\n",
    " - C. QQ Plot\n",
    "Le Q-Q plot, or quantile-quantile plot, est une représentation graphique des quantiles, pour la série nombres de cas, on observe des queues droite & gauche assez épaisse avec des outliers  (-5 , 6)"
   ]
  },
  {
   "cell_type": "code",
   "execution_count": null,
   "metadata": {
    "scrolled": false
   },
   "outputs": [],
   "source": [
    "fig = res_deaths.plot_diagnostics(lags=30)"
   ]
  },
  {
   "cell_type": "markdown",
   "metadata": {},
   "source": [
    "**interprétation des résultats**\n",
    "\n",
    " - A. Standardized residuals\n",
    "\n",
    "Pour la série des nombres de morts, les cellules qui contribuent le plus aux vraies valeurs et qui sont supérieurs à 3 correspondent aux morts suite aux vagues de contaminations  observées en **Avril 2020**, **Juin 2020** , **Novembre 2020** , **Janvier 2021**  et **Avril 2021**.\n",
    "Notons aussi la présence des outliers surtout en **Novembre 2020** qui vient juste après le pic de pandémie en **Octobre2020**.\n",
    "\n",
    "\n",
    " - B. Histogram\n",
    "L'histogramme KDE détermine la meilleure distribution possible de la donnée.\n",
    "\n",
    " - C. QQ Plot\n",
    "Le Q-Q plot, or quantile-quantile plot, est une représentation graphique des quantiles, pour la série nombres de morts, on observe une queue droite épaisse et avec des outliers  (-5 , 6)"
   ]
  },
  {
   "cell_type": "markdown",
   "metadata": {
    "cell_id": "00001-811d1ad0-1cca-44a7-912b-4b3c65ed1ee2",
    "deepnote_cell_type": "markdown"
   },
   "source": [
    " - ### 7.2 (bis) <span style=\"color:blue\"> AutoReg model avec Saisonalité</span>"
   ]
  },
  {
   "cell_type": "markdown",
   "metadata": {},
   "source": [
    " - #### 7.2.a <span style=\"color:green\"> Choix des lags et Entraînement de la série: nombre de Cas</span>"
   ]
  },
  {
   "cell_type": "code",
   "execution_count": null,
   "metadata": {
    "scrolled": false
   },
   "outputs": [],
   "source": [
    "sel_C = ar_select_order(cases_diff,30, seasonal=True)\n",
    "sel_C.ar_lags\n",
    "res_C = sel_C.model.fit()\n",
    "print(res_C.summary())"
   ]
  },
  {
   "cell_type": "markdown",
   "metadata": {},
   "source": [
    " - #### 7.2.b <span style=\"color:green\"> Interprétation</span>"
   ]
  },
  {
   "cell_type": "markdown",
   "metadata": {},
   "source": [
    "\n",
    "- **La saisonalité.2 est la plus impactante avec une p_value<5% et un coefficient négatif assez important**\n",
    "- **l'AIC ne s'est pas vraiment amélioré par rapport à un AutoReg model sans contrôle de saisonnalité**."
   ]
  },
  {
   "cell_type": "markdown",
   "metadata": {},
   "source": [
    " - #### 7.2.c <span style=\"color:green\"> Choix des lags et Entraînement de la série: nombre de morts</span>"
   ]
  },
  {
   "cell_type": "code",
   "execution_count": null,
   "metadata": {
    "scrolled": false
   },
   "outputs": [],
   "source": [
    "sel_D = ar_select_order(deaths_diff, 30, seasonal=True)\n",
    "sel_D.ar_lags\n",
    "res_D = sel_D.model.fit()\n",
    "print(res_D.summary())"
   ]
  },
  {
   "cell_type": "markdown",
   "metadata": {},
   "source": [
    " - #### 7.2.d <span style=\"color:green\"> Interprétation</span>"
   ]
  },
  {
   "cell_type": "markdown",
   "metadata": {},
   "source": [
    "\n",
    "- **Les deux premières saisonalités sont les plus impactantes avec une p_value<5% et un coefficient négatif assez important**\n",
    "- **l'AIC ne s'est pas vraiment amélioré par rapport à un AutoReg model sans contrôle de saisonnalité**."
   ]
  },
  {
   "cell_type": "markdown",
   "metadata": {},
   "source": [
    " - #### 7.2.e <span style=\"color:green\"> Prédictions</span>"
   ]
  },
  {
   "cell_type": "code",
   "execution_count": null,
   "metadata": {
    "scrolled": false
   },
   "outputs": [],
   "source": [
    "#1 = Start, 550 = End (517 observations sont déjà dans notre Timeseries)\n",
    "fig = res_C.plot_predict(450,550)\n",
    "fig = res_D.plot_predict(450,550)"
   ]
  },
  {
   "cell_type": "markdown",
   "metadata": {},
   "source": [
    "**Les prédictions des nombres de Cas gardent une amplitude légèrement croissante ce qui prévoit une croissance des nombres de cas**\n",
    "\n",
    "**Les prédictions des nombres de morts montrent une tendance à la hausse des amplitudes ce qui prévoit une augmentation des nombres de morts dans le temps**"
   ]
  },
  {
   "cell_type": "markdown",
   "metadata": {},
   "source": [
    " - #### 7.2.f <span style=\"color:green\"> Models diagnostics</span>"
   ]
  },
  {
   "cell_type": "code",
   "execution_count": null,
   "metadata": {
    "scrolled": false
   },
   "outputs": [],
   "source": [
    "fig = res_C.plot_diagnostics(lags=30)"
   ]
  },
  {
   "cell_type": "markdown",
   "metadata": {},
   "source": [
    "**Les diagnostics sont sensiblement similaires à l'AutoReg sans saisonnalité**"
   ]
  },
  {
   "cell_type": "code",
   "execution_count": null,
   "metadata": {},
   "outputs": [],
   "source": [
    "fig = res_D.plot_diagnostics(lags=30)"
   ]
  },
  {
   "cell_type": "markdown",
   "metadata": {},
   "source": [
    "**La distribution des Quantiles des nombres de morts est plus aplatie à gauche et moins épaisse à droite**"
   ]
  },
  {
   "cell_type": "markdown",
   "metadata": {
    "cell_id": "00001-811d1ad0-1cca-44a7-912b-4b3c65ed1ee2",
    "deepnote_cell_type": "markdown"
   },
   "source": [
    " - ### 7.3 <span style=\"color:blue\"> ARMA model</span>"
   ]
  },
  {
   "cell_type": "markdown",
   "metadata": {},
   "source": [
    " - #### 7.3.a <span style=\"color:green\"> AutoArima & Interprétation sur la série: Nombre de Cas</span>"
   ]
  },
  {
   "cell_type": "code",
   "execution_count": null,
   "metadata": {},
   "outputs": [],
   "source": [
    "cases_model = auto_arima(cases_diff)\n",
    "cases_model.summary()"
   ]
  },
  {
   "cell_type": "markdown",
   "metadata": {},
   "source": [
    "**Le modèle préconisé par AutoArima est SARIMAX (5,0,4) avec un AutoReg d'ordre 5, pas d'intégration puisque la série est stationnaire et une Moving Average d'ordre 4 avec une composante saisonnalité**"
   ]
  },
  {
   "cell_type": "markdown",
   "metadata": {},
   "source": [
    " - #### 7.3.b <span style=\"color:green\"> AutoArima & Interprétaion sur la série: Nombre de Morts</span>"
   ]
  },
  {
   "cell_type": "code",
   "execution_count": null,
   "metadata": {
    "scrolled": false
   },
   "outputs": [],
   "source": [
    "deaths_model = auto_arima(deaths_diff)\n",
    "deaths_model.summary()"
   ]
  },
  {
   "cell_type": "markdown",
   "metadata": {},
   "source": [
    "**Le modèle préconisé par AutoArima est SARIMAX (2,0,2) avec un AutoReg d'ordre 2, pas d'intégration puisque la série est stationnaire et une Moving Average d'ordre 2 avec une composante saisonnalité**"
   ]
  },
  {
   "cell_type": "markdown",
   "metadata": {},
   "source": [
    " - #### 7.3.c <span style=\"color:green\"> SARIMAX sur la série: Nombre de Cas</span>"
   ]
  },
  {
   "cell_type": "code",
   "execution_count": null,
   "metadata": {
    "scrolled": true
   },
   "outputs": [],
   "source": [
    "cases_model = sm.tsa.statespace.SARIMAX(train_cases,order=(5,0,4), seasonal_order=(1,0,1,7))"
   ]
  },
  {
   "cell_type": "code",
   "execution_count": null,
   "metadata": {
    "scrolled": false
   },
   "outputs": [],
   "source": [
    "results_cases = cases_model.fit()\n",
    "results_cases.summary()"
   ]
  },
  {
   "cell_type": "markdown",
   "metadata": {},
   "source": [
    "- **Les lags 4 & 5 sont les plus significatifs statistiquement avec des p_value<5% et des coefficients négatifs**\n",
    "- **La saisonnalité 7jours impacte positivement les valeurs**\n",
    "- **L'AIC même si il est amélioré par rapport à l'estimation de l'autoarima reste très elevé**"
   ]
  },
  {
   "cell_type": "code",
   "execution_count": null,
   "metadata": {
    "scrolled": false
   },
   "outputs": [],
   "source": [
    "results_cases.resid.plot();"
   ]
  },
  {
   "cell_type": "markdown",
   "metadata": {},
   "source": [
    "- **Les résiduels démontrent les pics épidémiques les plus importants et leurs impacts sur les valeurs de la série temporelle**"
   ]
  },
  {
   "cell_type": "markdown",
   "metadata": {},
   "source": [
    " - #### 7.3.d <span style=\"color:green\"> SARIMAX sur la série: Nombre de Morts</span>"
   ]
  },
  {
   "cell_type": "code",
   "execution_count": null,
   "metadata": {},
   "outputs": [],
   "source": [
    "deaths_model = sm.tsa.statespace.SARIMAX(train_deaths,order=(2,0,2), seasonal_order=(1,0,1,7))"
   ]
  },
  {
   "cell_type": "code",
   "execution_count": null,
   "metadata": {
    "scrolled": false
   },
   "outputs": [],
   "source": [
    "results_deaths = deaths_model.fit()\n",
    "results_deaths.summary()"
   ]
  },
  {
   "cell_type": "markdown",
   "metadata": {},
   "source": [
    "- **Le lag n°2 est le plus significatif avec un coefficient positif relativement important**\n",
    "- **La saisonnalité 7jours impacte positivement les valeurs**\n",
    "- **La Moving Average du Lag2 impacte négativement les valeurs avec un coefficient négatif important**\n",
    "- **L'AIC même si il est amélioré par rapport à l'estimation de l'autoarima reste très elevé**"
   ]
  },
  {
   "cell_type": "code",
   "execution_count": null,
   "metadata": {
    "scrolled": false
   },
   "outputs": [],
   "source": [
    "results_deaths.resid.plot();"
   ]
  },
  {
   "cell_type": "markdown",
   "metadata": {},
   "source": [
    "- **Les résiduels démontrent les pics de mortalités qui suivent les pics épidémiques les plus importants et leurs impacts sur les valeurs de la série temporelle**"
   ]
  },
  {
   "cell_type": "markdown",
   "metadata": {},
   "source": [
    " - #### 7.3.e <span style=\"color:green\"> Prédictions ARMA</span>"
   ]
  },
  {
   "cell_type": "code",
   "execution_count": null,
   "metadata": {},
   "outputs": [],
   "source": [
    "def forecast_to_df(model, steps=7):\n",
    "    forecast = model.get_forecast(steps=steps)\n",
    "    pred_df = forecast.conf_int()\n",
    "    pred_df['pred'] = forecast.predicted_mean\n",
    "    pred_df.columns = ['lower', 'upper', 'pred']\n",
    "    return pred_df"
   ]
  },
  {
   "cell_type": "code",
   "execution_count": null,
   "metadata": {},
   "outputs": [],
   "source": [
    "len(test_cases)"
   ]
  },
  {
   "cell_type": "code",
   "execution_count": null,
   "metadata": {},
   "outputs": [],
   "source": [
    "pred_df = forecast_to_df(results_cases, steps = len(test_cases))"
   ]
  },
  {
   "cell_type": "code",
   "execution_count": null,
   "metadata": {},
   "outputs": [],
   "source": [
    "series_cases = test_cases - pred_df[\"pred\"]\n",
    "mse_arma_cases = series_cases.apply(lambda x: x**2).mean()\n",
    "rmse_arma_cases = np.sqrt(mse_arma_cases)  #root mean squared error"
   ]
  },
  {
   "cell_type": "code",
   "execution_count": null,
   "metadata": {},
   "outputs": [],
   "source": [
    "pred = pred_df['pred']"
   ]
  },
  {
   "cell_type": "code",
   "execution_count": null,
   "metadata": {},
   "outputs": [],
   "source": [
    "def plot_train_test_pred(train,test,pred_df):\n",
    "    fig,ax = plt.subplots(figsize=(12,7))\n",
    "    kws = dict(marker='o')\n",
    "    \n",
    "    ax.plot(train,label='Train',**kws)\n",
    "    ax.plot(test,label='Test',**kws)\n",
    "    ax.plot(pred_df['pred'],label='Prediction',ls='--',linewidth=3)\n",
    "\n",
    "    ax.fill_between(x=pred_df.index,y1=pred_df['lower'],y2=pred_df['upper'],alpha=0.3)\n",
    "    ax.set_title('Model Validation', fontsize=22)\n",
    "    ax.legend(loc='upper left')\n",
    "    fig.tight_layout()\n",
    "    return fig,ax"
   ]
  },
  {
   "cell_type": "code",
   "execution_count": null,
   "metadata": {
    "scrolled": false
   },
   "outputs": [],
   "source": [
    "plot_train_test_pred(train_cases,test_cases,pred_df)"
   ]
  },
  {
   "cell_type": "code",
   "execution_count": null,
   "metadata": {},
   "outputs": [],
   "source": [
    "pred_deaths = forecast_to_df(results_deaths, steps = len(test_deaths))"
   ]
  },
  {
   "cell_type": "code",
   "execution_count": null,
   "metadata": {},
   "outputs": [],
   "source": [
    "pred = pred_deaths['pred']"
   ]
  },
  {
   "cell_type": "code",
   "execution_count": null,
   "metadata": {},
   "outputs": [],
   "source": [
    "plot_train_test_pred(train_deaths,test_deaths,pred_deaths);"
   ]
  },
  {
   "cell_type": "code",
   "execution_count": null,
   "metadata": {},
   "outputs": [],
   "source": [
    "series_deaths = test_deaths - pred_deaths['pred']\n",
    "mse_arma_deaths = series_deaths.apply(lambda x: x**2).mean()\n",
    "rmse_arma_deaths = np.sqrt(mse_arma_deaths)"
   ]
  },
  {
   "cell_type": "markdown",
   "metadata": {},
   "source": [
    " - #### 7.3.f <span style=\"color:green\"> RMSE ARMA vs RMSE RW</span>"
   ]
  },
  {
   "cell_type": "code",
   "execution_count": null,
   "metadata": {},
   "outputs": [],
   "source": [
    "print(f\"RMSE Cases avec Random walk : {rmse_rw_cases}\")\n",
    "print(\"\")\n",
    "print(f\"RMSE Cases avec Arma : {rmse_arma_cases}\")\n",
    "print(\"---------\")\n",
    "print(f\"RMSE Deaths avec Random walk : {rmse_rw_deaths}\")\n",
    "print(\"\")\n",
    "print(f\"RMSE Deaths avec Arma : {rmse_arma_deaths}\")\n",
    "print(\"\")"
   ]
  },
  {
   "cell_type": "markdown",
   "metadata": {},
   "source": [
    "**On dénote une forte amélioration de la RMSE pour les deux séries avec un modèle de Random Walk et un modèle ARMA**"
   ]
  },
  {
   "cell_type": "markdown",
   "metadata": {
    "cell_id": "00001-811d1ad0-1cca-44a7-912b-4b3c65ed1ee2",
    "deepnote_cell_type": "markdown"
   },
   "source": [
    " - ### 7.4 <span style=\"color:blue\"> XGBoost model</span>"
   ]
  },
  {
   "cell_type": "markdown",
   "metadata": {},
   "source": [
    "**Credits:**  https://machinelearningmastery.com/xgboost-for-time-series-forecasting/"
   ]
  },
  {
   "cell_type": "markdown",
   "metadata": {},
   "source": [
    " - #### 7.4.a <span style=\"color:green\"> Suppression des Outliers avec IQR</span>"
   ]
  },
  {
   "cell_type": "code",
   "execution_count": null,
   "metadata": {},
   "outputs": [],
   "source": [
    "Q1_cases = df_cases_x.quantile(0.25)\n",
    "Q3_cases = df_cases_x.quantile(0.75)\n",
    "\n",
    "# Then we define the interquantile range as the difference of the two.\n",
    "\n",
    "IQR_cases = Q3_cases - Q1_cases\n",
    "print(IQR_cases)"
   ]
  },
  {
   "cell_type": "code",
   "execution_count": null,
   "metadata": {},
   "outputs": [],
   "source": [
    "Q1_deaths = df_deaths_x.quantile(0.25)\n",
    "Q3_deaths = df_deaths_x.quantile(0.75)\n",
    "\n",
    "# Then we define the interquantile range as the difference of the two.\n",
    "\n",
    "IQR_deaths = Q3_deaths - Q1_deaths\n",
    "print(IQR_deaths)"
   ]
  },
  {
   "cell_type": "code",
   "execution_count": null,
   "metadata": {},
   "outputs": [],
   "source": [
    "cases_out =  df_cases_x[~((df_cases_x < (Q1_cases - 1.5 * IQR_cases)) |(df_cases_x > (Q3_cases + 1.5 * IQR_cases)))]"
   ]
  },
  {
   "cell_type": "code",
   "execution_count": null,
   "metadata": {
    "scrolled": true
   },
   "outputs": [],
   "source": [
    "cases_out.shape #Toutes les données ont été conservées puisque entrant dans l'intervalle Q1/Q3"
   ]
  },
  {
   "cell_type": "code",
   "execution_count": null,
   "metadata": {},
   "outputs": [],
   "source": [
    "deaths_out =  df_deaths_x[~((df_deaths_x < (Q1_deaths - 1.5 * IQR_deaths)) |(df_deaths_x > (Q3_deaths + 1.5 * IQR_deaths)))]"
   ]
  },
  {
   "cell_type": "code",
   "execution_count": null,
   "metadata": {},
   "outputs": [],
   "source": [
    "deaths_out.shape #Toutes les données ont été conservées puisque entrant dans l'intervalle Q1/Q3"
   ]
  },
  {
   "cell_type": "markdown",
   "metadata": {},
   "source": [
    "**En se basant sur les Case fatality rate, on utilisera les features précédèmment créées afin de grouper les pays en 3 groupes qui seront utilisées comme variables endogènes afin de prédire y: Total des Cas & y: Total des morts**"
   ]
  },
  {
   "cell_type": "code",
   "execution_count": null,
   "metadata": {},
   "outputs": [],
   "source": [
    "G1 = list(Groupe1.index)\n",
    "G2 = list(Groupe2.index)\n",
    "G3 = list(Groupe3.index)"
   ]
  },
  {
   "cell_type": "code",
   "execution_count": null,
   "metadata": {},
   "outputs": [],
   "source": [
    "X1_cases = df_cases_x[G1]\n",
    "X2_cases = df_cases_x[G2]\n",
    "X3_cases = df_cases_x[G3]"
   ]
  },
  {
   "cell_type": "code",
   "execution_count": null,
   "metadata": {
    "scrolled": true
   },
   "outputs": [],
   "source": [
    "X1_cases[\"Total\"] = X1_cases.sum(axis=1)\n",
    "X2_cases[\"Total\"] = X2_cases.sum(axis=1)\n",
    "X3_cases[\"Total\"] = X3_cases.sum(axis=1)"
   ]
  },
  {
   "cell_type": "code",
   "execution_count": null,
   "metadata": {},
   "outputs": [],
   "source": [
    "Y_cases =df_cases_x[\"Total\"]"
   ]
  },
  {
   "cell_type": "code",
   "execution_count": null,
   "metadata": {},
   "outputs": [],
   "source": [
    "X1_deaths = df_deaths_x[G1]\n",
    "X2_deaths = df_deaths_x[G2]\n",
    "X3_deaths = df_deaths_x[G3]"
   ]
  },
  {
   "cell_type": "code",
   "execution_count": null,
   "metadata": {},
   "outputs": [],
   "source": [
    "X1_deaths[\"Total\"] = X1_deaths.sum(axis=1)\n",
    "X2_deaths[\"Total\"] = X2_deaths.sum(axis=1)\n",
    "X3_deaths[\"Total\"] = X3_deaths.sum(axis=1)"
   ]
  },
  {
   "cell_type": "code",
   "execution_count": null,
   "metadata": {},
   "outputs": [],
   "source": [
    "Y_deaths =df_deaths_x[\"Total\"]"
   ]
  },
  {
   "cell_type": "markdown",
   "metadata": {},
   "source": [
    " - #### 7.4.b <span style=\"color:green\"> Stationnarisation</span>"
   ]
  },
  {
   "cell_type": "code",
   "execution_count": null,
   "metadata": {},
   "outputs": [],
   "source": [
    "X1_cases = X1_cases.diff().dropna()\n",
    "X2_cases = X2_cases.diff().dropna()\n",
    "X3_cases = X3_cases.diff().dropna()\n",
    "Y_cases = Y_cases.diff().dropna()\n",
    "X1_deaths = X1_deaths.diff().dropna()\n",
    "X2_deaths = X2_deaths.diff().dropna()\n",
    "X3_deaths = X3_deaths.diff().dropna()\n",
    "Y_deaths = Y_deaths.diff().dropna()"
   ]
  },
  {
   "cell_type": "code",
   "execution_count": null,
   "metadata": {},
   "outputs": [],
   "source": [
    "cases = pd.concat([X1_cases[\"Total\"], X2_cases[\"Total\"],X3_cases[\"Total\"],Y_cases], axis=1, keys = [\"X1\",\"X2\",\"X3\",\"Total\"])"
   ]
  },
  {
   "cell_type": "code",
   "execution_count": null,
   "metadata": {},
   "outputs": [],
   "source": [
    "deaths = pd.concat([X1_deaths[\"Total\"], X2_deaths[\"Total\"],X3_deaths[\"Total\"],Y_deaths], axis=1, keys = [\"X1\",\"X2\",\"X3\",\"Total\"])"
   ]
  },
  {
   "cell_type": "markdown",
   "metadata": {},
   "source": [
    " - #### 7.4.c <span style=\"color:green\"> Data transformation for Supervised learning dataset</span>"
   ]
  },
  {
   "cell_type": "markdown",
   "metadata": {},
   "source": [
    "**La fonction series_to_supervised()**:\n",
    "\n",
    "Cette fonction prend une série temporelle univariée ou multivariée et la présente comme un ensemble de données d'apprentissage supervisé.\n",
    "\n",
    "elle prendra 4 arguments:\n",
    "\n",
    " - data: Série temporelle sous forme de liste ou de Numpy Array 2D.\n",
    " - n_in: Nombre d'observations lagguées (X). comprise entre [1..len(data)].\n",
    " - n_out: Nombre d'observations output (y). comprise entre [0..len(data)-1].\n",
    " - dropnan: suppression ou non des lignes avec NaN.\n",
    " \n",
    "La fonction returnera un DataFrame pour un apprentissage supervisé."
   ]
  },
  {
   "cell_type": "code",
   "execution_count": null,
   "metadata": {},
   "outputs": [],
   "source": [
    "# transform a time series dataset into a supervised learning dataset\n",
    "def series_to_supervised(data, n_in=1, n_out=1, dropnan=True):\n",
    "    n_vars = 1 if type(data) is list else data.shape[0]\n",
    "    df = pd.DataFrame(data)\n",
    "    cols = list()\n",
    "    # input sequence (t-n, ... t-1)\n",
    "    for i in range(n_in, 0, -1):\n",
    "        cols.append(df.shift(i))\n",
    "    # forecast sequence (t, t+1, ... t+n)\n",
    "    for i in range(0, n_out):\n",
    "        cols.append(df.shift(-i))\n",
    "    # put it all together\n",
    "    agg = pd.concat(cols, axis=1)\n",
    "    # drop rows with NaN values\n",
    "    if dropnan:\n",
    "        agg.dropna(inplace=True)\n",
    "    return agg.values"
   ]
  },
  {
   "cell_type": "markdown",
   "metadata": {},
   "source": [
    " - #### 7.4.d <span style=\"color:green\"> Data split</span>"
   ]
  },
  {
   "cell_type": "code",
   "execution_count": null,
   "metadata": {},
   "outputs": [],
   "source": [
    "# split a univariate dataset into train/test sets\n",
    "def train_test_split(data, n_test):\n",
    "    return data[:-n_test, :], data[-n_test:, :]"
   ]
  },
  {
   "cell_type": "markdown",
   "metadata": {},
   "source": [
    " - #### 7.4.e <span style=\"color:green\"> XGB Regressor fit & Predict</span>"
   ]
  },
  {
   "cell_type": "code",
   "execution_count": null,
   "metadata": {},
   "outputs": [],
   "source": [
    "# fit an xgboost model and make a one step prediction\n",
    "def xgboost_forecast(train, testX):\n",
    "    # transform list into array\n",
    "    train = np.asarray(train)\n",
    "    # split into input and output columns\n",
    "    trainX, trainy = train[:, :-1], train[:, -1]\n",
    "    # fit model\n",
    "    model = XGBRegressor(objective='reg:squarederror', n_estimators=1000)\n",
    "    model.fit(trainX, trainy)\n",
    "    # make a one-step prediction\n",
    "    yhat = model.predict(np.asarray([testX]))\n",
    "    return yhat[0]"
   ]
  },
  {
   "cell_type": "code",
   "execution_count": null,
   "metadata": {},
   "outputs": [],
   "source": [
    "# walk-forward validation for univariate data\n",
    "def walk_forward_validation(data, n_test):\n",
    "    predictions = list()\n",
    "    # split dataset\n",
    "    train, test = train_test_split(data, n_test)\n",
    "    # seed history with training dataset\n",
    "    history = [x for x in train]\n",
    "    # step over each time-step in the test set\n",
    "    for i in range(len(test)):\n",
    "        # split test row into input and output columns\n",
    "        testX, testy = test[i, :-1], test[i, -1]\n",
    "        # fit model on history and make a prediction\n",
    "        yhat = xgboost_forecast(history, testX)\n",
    "        # store forecast in list of predictions\n",
    "        predictions.append(yhat)\n",
    "        # add actual observation to history for the next loop\n",
    "        history.append(test[i])\n",
    "        # summarize progress\n",
    "        #print('>expected=%.1f, predicted=%.1f' % (testy, yhat))\n",
    "    # estimate prediction error\n",
    "    rmse = np.sqrt((mean_absolute_error(test[:, -1], predictions))**2)\n",
    "    return rmse, test[:, -1], predictions\n",
    " "
   ]
  },
  {
   "cell_type": "code",
   "execution_count": null,
   "metadata": {
    "scrolled": false
   },
   "outputs": [],
   "source": [
    "# transform the time series data into supervised learning\n",
    "data_cases = series_to_supervised(cases[\"Total\"], n_in=30) #Shift de 30 jours\n",
    "# evaluate\n",
    "rmsexgb_cases, y, yhat = walk_forward_validation(data_cases, 15) #Prédiction de 15 jours\n",
    "\n",
    "print('RMSE: %.3f' % rmsexgb_cases)\n",
    "# plot expected vs preducted\n",
    "plt.plot(y, label='Real data')\n",
    "plt.plot(yhat, label='Predicted')\n",
    "plt.title(\"Prédiction des nombres de Cas\")\n",
    "plt.legend()\n",
    "plt.show()"
   ]
  },
  {
   "cell_type": "code",
   "execution_count": null,
   "metadata": {},
   "outputs": [],
   "source": [
    "# transform the time series data into supervised learning\n",
    "data_deaths = series_to_supervised(deaths[\"Total\"], n_in=5) #Shift de 5 jours\n",
    "# evaluate\n",
    "rmsexgb_deaths, y, yhat = walk_forward_validation(data_deaths, 15) #Prédiction de 15 jours\n",
    "\n",
    "print('RMSE: %.3f' % rmsexgb_deaths)\n",
    "# plot expected vs preducted\n",
    "plt.plot(y, label='Real data')\n",
    "plt.plot(yhat, label='Predicted')\n",
    "plt.title(\"Prédiction des nombres de Cas\")\n",
    "plt.legend()\n",
    "plt.show()"
   ]
  },
  {
   "cell_type": "markdown",
   "metadata": {},
   "source": [
    " - #### 7.4.f <span style=\"color:green\"> RandomWalk vs ARMA vs XGBOOST</span>"
   ]
  },
  {
   "cell_type": "code",
   "execution_count": null,
   "metadata": {},
   "outputs": [],
   "source": [
    "print(f\"RMSE Cases avec Random walk : {rmse_rw_cases}\")\n",
    "print(\"\")\n",
    "print(f\"RMSE Cases avec Arma : {rmse_arma_cases}\")\n",
    "print(\"\")\n",
    "print(f\"RMSE Cases avec XGBoost : {rmsexgb_cases}\")\n",
    "print(\"---------\")\n",
    "print(f\"RMSE Deaths avec Random walk : {rmse_rw_deaths}\")\n",
    "print(\"\")\n",
    "print(f\"RMSE Deaths avec Arma : {rmse_arma_deaths}\")\n",
    "print(\"\")\n",
    "print(f\"RMSE Deaths avec XGBoost : {rmsexgb_deaths}\")"
   ]
  },
  {
   "cell_type": "markdown",
   "metadata": {},
   "source": [
    "# 8.<span style=\"color:red\"> Amélioration des modèles </span>"
   ]
  },
  {
   "cell_type": "markdown",
   "metadata": {},
   "source": [
    "**Dans le cadre d'une potentielle amélioration pouvant être apportée, on a appliqué une approche expérimentale après analyse des données présentes**\n",
    "\n",
    "**Vu que les premiers mois des datasets présentaient de faibles valeurs comparées à celles de du Q4 de 2020 et l'année 2021, on a tronqué la série jusqu'au 1er Août 2020**"
   ]
  },
  {
   "cell_type": "markdown",
   "metadata": {
    "cell_id": "00001-811d1ad0-1cca-44a7-912b-4b3c65ed1ee2",
    "deepnote_cell_type": "markdown"
   },
   "source": [
    " - ### 8.1 <span style=\"color:blue\"> Préparation des séries</span>"
   ]
  },
  {
   "cell_type": "code",
   "execution_count": null,
   "metadata": {},
   "outputs": [],
   "source": [
    "partie = 190\n",
    "Cases = cases_diff.iloc[partie:]\n",
    "Deaths =deaths_diff.iloc[partie:]"
   ]
  },
  {
   "cell_type": "code",
   "execution_count": null,
   "metadata": {},
   "outputs": [],
   "source": [
    "train_size = 0.8\n",
    "split_idx_C_EX = round(len(Cases)* train_size)\n",
    "split_idx_C_EX\n",
    "\n",
    "split_idx_D_EX = round(len(Deaths)* train_size)\n",
    "split_idx_D_EX\n",
    "# Split\n",
    "train_C_EX = Cases.iloc[:split_idx_C_EX]\n",
    "test_C_EX = Cases.iloc[split_idx_C_EX:]\n",
    "\n",
    "train_D_EX = Deaths.iloc[:split_idx_D_EX]\n",
    "test_D_EX = Deaths.iloc[split_idx_D_EX:]\n"
   ]
  },
  {
   "cell_type": "markdown",
   "metadata": {
    "cell_id": "00001-811d1ad0-1cca-44a7-912b-4b3c65ed1ee2",
    "deepnote_cell_type": "markdown"
   },
   "source": [
    " - ### 8.2 <span style=\"color:blue\"> Seasonal decompose</span>"
   ]
  },
  {
   "cell_type": "code",
   "execution_count": null,
   "metadata": {
    "scrolled": false
   },
   "outputs": [],
   "source": [
    "result_C_EX = seasonal_decompose(Cases, model='additive')\n",
    "result_C_EX.plot();"
   ]
  },
  {
   "cell_type": "markdown",
   "metadata": {},
   "source": [
    "- **La saisonalité est detectée automatiquement (7jours)**\n",
    "- **Les résiduels les plus importants correspondent aux pics épidémiologiques surtout Novembre 2020)**"
   ]
  },
  {
   "cell_type": "code",
   "execution_count": null,
   "metadata": {},
   "outputs": [],
   "source": [
    "result_D_EX = seasonal_decompose(Deaths, model='additive')\n",
    "result_D_EX.plot();"
   ]
  },
  {
   "cell_type": "markdown",
   "metadata": {},
   "source": [
    "- **La saisonalité est detectée automatiquement (7jours)**\n",
    "- **Les résiduels les plus importants correspondent avec un légèr décallage aux pics épidémiologiques surtout Mi-Janvier 2021 avec les nouveaux variants du virus)**"
   ]
  },
  {
   "cell_type": "markdown",
   "metadata": {
    "cell_id": "00001-811d1ad0-1cca-44a7-912b-4b3c65ed1ee2",
    "deepnote_cell_type": "markdown"
   },
   "source": [
    " - ### 8.3 <span style=\"color:blue\"> ACF & PACF</span>"
   ]
  },
  {
   "cell_type": "code",
   "execution_count": null,
   "metadata": {
    "scrolled": false
   },
   "outputs": [],
   "source": [
    "fig, axes = plt.subplots(nrows=1 ,ncols=2)\n",
    "\n",
    "plot_acf(Cases,ax=axes[0], title=\"Cases Autocorrelation\");\n",
    "plot_acf(Deaths,ax=axes[1], title=\"Deaths Autocorrelation\");"
   ]
  },
  {
   "cell_type": "markdown",
   "metadata": {},
   "source": [
    "Dans les deux séries:\n",
    " - **Les lags démontrent une tendance en vague décroissant qui alterne entre corrélations positive et négative**.\n",
    " - **Les lags positifs récurrents chaque 7 jours correspondent à la période de saisonnalité**.\n",
    " - **Terme autorégressif d'ordre supérieur dans les données**."
   ]
  },
  {
   "cell_type": "code",
   "execution_count": null,
   "metadata": {
    "scrolled": false
   },
   "outputs": [],
   "source": [
    "fig, axes = plt.subplots(nrows=1 ,ncols=2)\n",
    "\n",
    "plot_pacf(Cases,ax=axes[0], title=\"Cases Partial Autocorrelation\");\n",
    "plot_pacf(Deaths,ax=axes[1], title=\"Deaths Partial Autocorrelation\");"
   ]
  },
  {
   "cell_type": "markdown",
   "metadata": {},
   "source": [
    " - **Pour les deux séries, on observe une baisse significative de l'importance des lags au bout de 9 jours pour les cas et 11 jours pour les morts**\n"
   ]
  },
  {
   "cell_type": "markdown",
   "metadata": {
    "cell_id": "00001-811d1ad0-1cca-44a7-912b-4b3c65ed1ee2",
    "deepnote_cell_type": "markdown"
   },
   "source": [
    " - ### 8.3 <span style=\"color:blue\"> Random Walk</span>"
   ]
  },
  {
   "cell_type": "markdown",
   "metadata": {},
   "source": [
    " - #### 8.3.a <span style=\"color:green\"> Préparation des séries et split Train/Test</span>"
   ]
  },
  {
   "cell_type": "code",
   "execution_count": null,
   "metadata": {},
   "outputs": [],
   "source": [
    "#Conversion d'un DF vers un pandas Series\n",
    "Cases = Cases.squeeze()\n",
    "Deaths = Deaths.squeeze()"
   ]
  },
  {
   "cell_type": "code",
   "execution_count": null,
   "metadata": {},
   "outputs": [],
   "source": [
    "train_C_EX, test_C_EX= np.split(Cases, [int(.80 *len(Cases))])\n",
    "train_D_EX, test_D_EX= np.split(Deaths, [int(.80 *len(Deaths))])"
   ]
  },
  {
   "cell_type": "markdown",
   "metadata": {},
   "source": [
    " - #### 8.3.b <span style=\"color:green\"> Application du RW et visualisation des prédictions</span>"
   ]
  },
  {
   "cell_type": "code",
   "execution_count": null,
   "metadata": {},
   "outputs": [],
   "source": [
    "result_C_EX = simulate_rw(train_C_EX, test_C_EX)\n",
    "result_D_EX = simulate_rw(train_D_EX, test_D_EX)"
   ]
  },
  {
   "cell_type": "code",
   "execution_count": null,
   "metadata": {},
   "outputs": [],
   "source": [
    "plt.plot(result_C_EX)\n",
    "plt.legend(('Data', 'Model', 'Forecast'))\n",
    "plt.title('RW Cases')\n",
    "plt.show()"
   ]
  },
  {
   "cell_type": "code",
   "execution_count": null,
   "metadata": {
    "scrolled": false
   },
   "outputs": [],
   "source": [
    "plt.plot(result_D_EX)\n",
    "plt.legend(('Data', 'Model', 'Forecast'))\n",
    "plt.title('RW Deaths')\n",
    "plt.show()"
   ]
  },
  {
   "cell_type": "markdown",
   "metadata": {},
   "source": [
    " - #### 8.3.c <span style=\"color:green\"> RMSE</span>"
   ]
  },
  {
   "cell_type": "code",
   "execution_count": null,
   "metadata": {},
   "outputs": [],
   "source": [
    "## residuals\n",
    "result_C_EX[\"residuals\"] = result_C_EX[\"data\"] - result_C_EX[\"model\"]\n",
    "result_C_EX[\"error\"] = result_C_EX[\"data\"] - result_C_EX[\"forecast\"]\n",
    "result_C_EX[\"error_pct\"] = result_C_EX[\"error\"] / result_C_EX[\"data\"]\n",
    "        \n",
    "## kpi\n",
    "residuals_mean_C_EX = result_C_EX[\"residuals\"].mean()\n",
    "residuals_std_C_EX = result_C_EX[\"residuals\"].std()\n",
    "error_mean_C_EX = result_C_EX[\"error\"].mean()\n",
    "error_std_C_EX = result_C_EX[\"error\"].std()\n",
    "mse_C_EX = result_C_EX[\"error\"].apply(lambda x: np.abs(x)).mean()\n",
    "mape_C_EX = result_C_EX[\"error_pct\"].apply(lambda x: np.abs(x)).mean()  \n",
    "mse_rw_C_EX = result_C_EX[\"error\"].apply(lambda x: x**2).mean()\n",
    "rmse_rw_C_EX = np.sqrt(mse_rw_C_EX)  #root mean squared error"
   ]
  },
  {
   "cell_type": "code",
   "execution_count": null,
   "metadata": {},
   "outputs": [],
   "source": [
    "## residuals\n",
    "result_D_EX[\"residuals\"] = result_D_EX[\"data\"] - result_D_EX[\"model\"]\n",
    "result_D_EX[\"error\"] = result_D_EX[\"data\"] - result_D_EX[\"forecast\"]\n",
    "result_D_EX[\"error_pct\"] = result_D_EX[\"error\"] / result_D_EX[\"data\"]\n",
    "        \n",
    "## kpi\n",
    "residuals_mean_D_EX = result_D_EX[\"residuals\"].mean()\n",
    "residuals_std_D_EX = result_D_EX[\"residuals\"].std()\n",
    "error_mean_D_EX = result_D_EX[\"error\"].mean()\n",
    "error_std_D_EX = result_D_EX[\"error\"].std()\n",
    "mse_D_EX = result_D_EX[\"error\"].apply(lambda x: np.abs(x)).mean()\n",
    "mape_D_EX = result_D_EX[\"error_pct\"].apply(lambda x: np.abs(x)).mean()  \n",
    "mse_rw_D_EX = result_D_EX[\"error\"].apply(lambda x: x**2).mean()\n",
    "rmse_rw_D_EX = np.sqrt(mse_rw_D_EX)  #root mean squared error"
   ]
  },
  {
   "cell_type": "code",
   "execution_count": null,
   "metadata": {
    "scrolled": true
   },
   "outputs": [],
   "source": [
    "print(f\"RMSE Cases (série complète) avec Random walk : {rmse_rw_cases}\")\n",
    "print(\"\")\n",
    "print(f\"RMSE Cases (expérimentale) avec Random walk : {rmse_rw_C_EX}\")\n",
    "print(\"---------\")\n",
    "print(f\"RMSE Deaths avec Random walk : {rmse_rw_deaths}\")\n",
    "print(\"\")\n",
    "print(f\"RMSE Deaths (expérimentale) avec Random walk : {rmse_rw_D_EX}\")"
   ]
  },
  {
   "cell_type": "markdown",
   "metadata": {
    "cell_id": "00001-811d1ad0-1cca-44a7-912b-4b3c65ed1ee2",
    "deepnote_cell_type": "markdown"
   },
   "source": [
    " - ### 8.4 <span style=\"color:blue\"> AutoReg model</span>"
   ]
  },
  {
   "cell_type": "markdown",
   "metadata": {},
   "source": [
    " - #### 8.4.a <span style=\"color:green\"> Choix des lags & Entrainement du modèle</span>"
   ]
  },
  {
   "cell_type": "code",
   "execution_count": null,
   "metadata": {},
   "outputs": [],
   "source": [
    "mod_C_EX = ar_select_order(Cases, maxlag=15)\n",
    "mod_C_EX.ar_lags"
   ]
  },
  {
   "cell_type": "code",
   "execution_count": null,
   "metadata": {},
   "outputs": [],
   "source": [
    "mod_D_EX = ar_select_order(Deaths, maxlag=15)\n",
    "mod_D_EX.ar_lags"
   ]
  },
  {
   "cell_type": "code",
   "execution_count": null,
   "metadata": {},
   "outputs": [],
   "source": [
    "mod_C_EX = AutoReg(Cases, lags =[1, 2, 3, 4, 5, 6, 7, 8, 9],seasonal=True)\n",
    "res_C_EX = mod_C_EX.fit()\n",
    "print(res_C_EX.summary())"
   ]
  },
  {
   "cell_type": "markdown",
   "metadata": {},
   "source": [
    "**Il n y a pas une différence notoire entre l'AIC de la série complète et l'AIC de la série tronquée**."
   ]
  },
  {
   "cell_type": "code",
   "execution_count": null,
   "metadata": {
    "scrolled": false
   },
   "outputs": [],
   "source": [
    "mod_D_EX = AutoReg(Deaths, lags =[1, 2, 3, 4, 5, 6, 7, 8, 9, 10, 11, 12, 13, 14], seasonal=True)\n",
    "res_D_EX = mod_D_EX.fit()\n",
    "print(res_D_EX.summary())"
   ]
  },
  {
   "cell_type": "markdown",
   "metadata": {},
   "source": [
    " - #### 8.4.b <span style=\"color:green\"> AR prediction</span>"
   ]
  },
  {
   "cell_type": "code",
   "execution_count": null,
   "metadata": {
    "scrolled": false
   },
   "outputs": [],
   "source": [
    "fig = res_C_EX.plot_predict(300,360)\n",
    "fig = res_D_EX.plot_predict(300,360)"
   ]
  },
  {
   "cell_type": "markdown",
   "metadata": {},
   "source": [
    " - #### 8.4.c <span style=\"color:green\"> Model diagnostics</span>"
   ]
  },
  {
   "cell_type": "code",
   "execution_count": null,
   "metadata": {
    "scrolled": false
   },
   "outputs": [],
   "source": [
    "fig = res_C_EX.plot_diagnostics(lags=30)"
   ]
  },
  {
   "cell_type": "markdown",
   "metadata": {},
   "source": [
    "**La distribution des quantiles est légèrement améliorée par rapport à la série complète et les queues de distribution surtout des nombres de Cas est beaucoup moins épaisse** "
   ]
  },
  {
   "cell_type": "code",
   "execution_count": null,
   "metadata": {},
   "outputs": [],
   "source": [
    "fig = res_D_EX.plot_diagnostics(lags=30)"
   ]
  },
  {
   "cell_type": "markdown",
   "metadata": {
    "cell_id": "00001-811d1ad0-1cca-44a7-912b-4b3c65ed1ee2",
    "deepnote_cell_type": "markdown"
   },
   "source": [
    " - ### 8.5 <span style=\"color:blue\"> ARMA model</span>"
   ]
  },
  {
   "cell_type": "markdown",
   "metadata": {},
   "source": [
    " - #### 8.5.a <span style=\"color:green\"> AutoArima</span>"
   ]
  },
  {
   "cell_type": "code",
   "execution_count": null,
   "metadata": {},
   "outputs": [],
   "source": [
    "auto_cases_EX = auto_arima(Cases)\n",
    "auto_cases_EX.summary()"
   ]
  },
  {
   "cell_type": "markdown",
   "metadata": {},
   "source": [
    "**L'AutoArima sur la série nombre de Cas préconise un modèle SARMAX (5,0,4) comme sur la série complète**"
   ]
  },
  {
   "cell_type": "code",
   "execution_count": null,
   "metadata": {
    "scrolled": false
   },
   "outputs": [],
   "source": [
    "auto_deaths_EX = auto_arima(Deaths)\n",
    "auto_deaths_EX.summary()"
   ]
  },
  {
   "cell_type": "markdown",
   "metadata": {},
   "source": [
    "**L'AutoArima sur la série nombre de Morts préconise un modèle SARMAX (5,0,4) contrairement à la série complète qui était un modèle SARMAX (2,0,2) et avec une saisonnalité de 7 jours visible dans les plots ACF**"
   ]
  },
  {
   "cell_type": "markdown",
   "metadata": {},
   "source": [
    " - #### 8.5.b <span style=\"color:green\"> SARIMAX Fitting</span>"
   ]
  },
  {
   "cell_type": "code",
   "execution_count": null,
   "metadata": {},
   "outputs": [],
   "source": [
    "model_C_EX = sm.tsa.statespace.SARIMAX(train_C_EX, order = (5,0,4), seasonal_order=(1,0,1,7))\n",
    "model_D_EX = sm.tsa.statespace.SARIMAX(train_D_EX, order = (5,0,4), seasonal_order=(1,0,1,7))"
   ]
  },
  {
   "cell_type": "code",
   "execution_count": null,
   "metadata": {
    "scrolled": false
   },
   "outputs": [],
   "source": [
    "results_C_EX = model_C_EX.fit()\n",
    "results_C_EX.summary()"
   ]
  },
  {
   "cell_type": "markdown",
   "metadata": {},
   "source": [
    "- **Les lags n'ont pas de significativité statistique avec des p_value>5%**\n",
    "- **La saisonnalité 7jours du module AR est la seule qui a une significativté statistique et impacte positivement les valeurs**\n",
    "- **L'AIC 5935.044 est amélioré comparé à l'AIC: 9086.248 de la série complète**"
   ]
  },
  {
   "cell_type": "code",
   "execution_count": null,
   "metadata": {
    "scrolled": false
   },
   "outputs": [],
   "source": [
    "results_D_EX = model_D_EX.fit()\n",
    "results_D_EX.summary()"
   ]
  },
  {
   "cell_type": "markdown",
   "metadata": {},
   "source": [
    "- **Le lag n°4 a une significativité statistique avec une p_value<5% avec une influence négative**\n",
    "- **Le MA n°1 a une significativité statistique avec une p_value<5% avec une forte influence négative**\n",
    "- **La saisonnalité 7jours du module AR a une significativté statistique et un impact positif important sur les valeurs**\n",
    "- **La saisonnalité 7jours du module MA a une significativté statistique et un impact négatif sur les valeurs**\n",
    "- **L'AIC 3865.662 est amélioré comparé à l'AIC: 6102.373 de la série complète**"
   ]
  },
  {
   "cell_type": "markdown",
   "metadata": {},
   "source": [
    " - #### 8.5.c <span style=\"color:green\"> SARIMAX Forecast</span>"
   ]
  },
  {
   "cell_type": "code",
   "execution_count": null,
   "metadata": {},
   "outputs": [],
   "source": [
    "pred_df_C_EX = forecast_to_df(results_C_EX, steps = len(test_C_EX))\n",
    "pred_df_D_EX = forecast_to_df(results_D_EX, steps = len(test_D_EX))"
   ]
  },
  {
   "cell_type": "code",
   "execution_count": null,
   "metadata": {},
   "outputs": [],
   "source": [
    "pred_C_EX = pred_df_C_EX['pred']\n",
    "pred_D_EX = pred_df_D_EX['pred']"
   ]
  },
  {
   "cell_type": "code",
   "execution_count": null,
   "metadata": {},
   "outputs": [],
   "source": [
    "plot_train_test_pred(train_C_EX,test_C_EX,pred_df_C_EX)"
   ]
  },
  {
   "cell_type": "code",
   "execution_count": null,
   "metadata": {
    "scrolled": false
   },
   "outputs": [],
   "source": [
    "plot_train_test_pred(train_D_EX,test_D_EX,pred_df_D_EX)"
   ]
  },
  {
   "cell_type": "markdown",
   "metadata": {},
   "source": [
    " - #### 8.5.d <span style=\"color:green\"> RMSE</span>"
   ]
  },
  {
   "cell_type": "code",
   "execution_count": null,
   "metadata": {},
   "outputs": [],
   "source": [
    "mse_C_EX = mean_squared_error(pred_C_EX, test_C_EX)\n",
    "rmse_C_EX = np.sqrt(mse_C_EX)\n",
    "mse_D_EX = mean_squared_error(pred_D_EX, test_D_EX)\n",
    "rmse_D_EX = np.sqrt(mse_D_EX)"
   ]
  },
  {
   "cell_type": "markdown",
   "metadata": {
    "cell_id": "00001-811d1ad0-1cca-44a7-912b-4b3c65ed1ee2",
    "deepnote_cell_type": "markdown"
   },
   "source": [
    " - ### 8.6 <span style=\"color:blue\"> Bilan des RMSE (série complète & série expérimentale)</span>"
   ]
  },
  {
   "cell_type": "code",
   "execution_count": null,
   "metadata": {},
   "outputs": [],
   "source": [
    "bilan=pd.DataFrame({'Modèles':['Random Walk (Série complète)', 'Random Walk (Série expérimentale)', 'ARMA (Série complète)', 'ARMA (Série expérimentale)','XGBoost'],\n",
    "                    \"Cases\":[rmse_rw_cases,rmse_rw_C_EX,rmse_arma_cases,rmse_C_EX,rmsexgb_cases],\n",
    "                    \"Deaths\":[rmse_rw_deaths,rmse_rw_D_EX,rmse_arma_deaths,rmse_D_EX,rmsexgb_deaths]})\n",
    "bilan.set_index(\"Modèles\", inplace=True)"
   ]
  },
  {
   "cell_type": "code",
   "execution_count": null,
   "metadata": {},
   "outputs": [],
   "source": [
    "bilan"
   ]
  },
  {
   "cell_type": "code",
   "execution_count": null,
   "metadata": {},
   "outputs": [],
   "source": []
  }
 ],
 "metadata": {
  "deepnote": {
   "is_reactive": false
  },
  "deepnote_execution_queue": [],
  "deepnote_notebook_id": "fb71231d-b546-4732-93f3-73b458dd1e64",
  "kernelspec": {
   "display_name": "Python 3 (ipykernel)",
   "language": "python",
   "name": "python3"
  },
  "language_info": {
   "codemirror_mode": {
    "name": "ipython",
    "version": 3
   },
   "file_extension": ".py",
   "mimetype": "text/x-python",
   "name": "python",
   "nbconvert_exporter": "python",
   "pygments_lexer": "ipython3",
   "version": "3.8.5"
  }
 },
 "nbformat": 4,
 "nbformat_minor": 4
}
