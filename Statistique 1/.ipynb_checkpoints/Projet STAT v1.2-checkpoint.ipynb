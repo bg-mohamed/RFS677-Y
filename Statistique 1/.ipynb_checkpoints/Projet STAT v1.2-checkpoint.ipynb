{
 "cells": [
  {
   "cell_type": "code",
   "execution_count": null,
   "metadata": {},
   "outputs": [],
   "source": [
    "import pandas as pd \n",
    "import numpy as np \n",
    "from pandas_datareader import data as pdr\n",
    "import yfinance as yf\n",
    "import matplotlib.pyplot as plt\n",
    "import seaborn as sns\n",
    "import statsmodels.stats.api as sms\n",
    "import statsmodels.api as sm\n",
    "from statsmodels.tsa.stattools import kpss\n",
    "from statsmodels.compat import lzip\n",
    "from scipy import stats\n",
    "from statsmodels.stats.diagnostic import het_breuschpagan"
   ]
  },
  {
   "cell_type": "code",
   "execution_count": null,
   "metadata": {
    "scrolled": true
   },
   "outputs": [],
   "source": [
    "#10 actifs choisis parmi les TOP 30 components du DowJones Industrial index\n",
    "df = yf.download(['VZ', 'GS', 'KO', 'JNJ','INTC','V', 'MCD', 'CAT', 'CVX', 'WMT','^DJI'], start=\"2010-01-01\", end=\"2021-01-01\", interval = '1mo')\n",
    "df=df['Adj Close'] \n",
    "df=df.dropna()\n",
    "df=df.reset_index()"
   ]
  },
  {
   "cell_type": "code",
   "execution_count": null,
   "metadata": {},
   "outputs": [],
   "source": [
    "#Facteurs\n",
    "df[['SMB','HML', 'RMW', 'CMA','RF']] = pd.read_excel(\"data/FamaFrench.xlsx\", usecols = \"B:F\", skiprows = 559, nrows = 132, index_col= None, dtype=np.float64)\n",
    "df = df.set_index(['Date'])"
   ]
  },
  {
   "cell_type": "code",
   "execution_count": null,
   "metadata": {},
   "outputs": [],
   "source": [
    "df.head()"
   ]
  },
  {
   "cell_type": "markdown",
   "metadata": {},
   "source": [
    "- 1)Tranformation des variables\n",
    "- 2) création des y \n",
    "- 3) création de la variable explicative \n",
    "- 4) tester de la stationnarité \n",
    "- 5) tester de la normalité \n",
    "- 6) estimation du modèle \n",
    "- 7) vérificationd des hypothèses des mco \n",
    "- 8) vérification si le alpha de jensen est significatif ou pas (si le modèle est valide ou non)\n",
    "- 9) Faire le Fama french 3 et 5 Facteurs\n",
    "- 10) faire les memes tests. \n",
    "- 11) compararer fama et french 3 et 5 facteurs et le CAPM (1 seul facteur)"
   ]
  },
  {
   "cell_type": "markdown",
   "metadata": {},
   "source": [
    "### <span style=\"color:red\"> 1.Transformation des variables </span>"
   ]
  },
  {
   "cell_type": "markdown",
   "metadata": {},
   "source": [
    "#### 1.a Transformation des indices boursiers en rendement\n"
   ]
  },
  {
   "cell_type": "code",
   "execution_count": null,
   "metadata": {},
   "outputs": [],
   "source": [
    "def rendement(x):\n",
    "    r = ((x - x.shift(1))/(x.shift(1)))*100\n",
    "    return (r)"
   ]
  },
  {
   "cell_type": "code",
   "execution_count": null,
   "metadata": {},
   "outputs": [],
   "source": [
    "skip = ['RF','SMB','HML', 'RMW', 'CMA'] \n",
    "cols = df.columns[~df.columns.isin(skip)]\n",
    "for i in cols:\n",
    "    df[i] = rendement(df[i])\n",
    "df=df.dropna()"
   ]
  },
  {
   "cell_type": "markdown",
   "metadata": {},
   "source": [
    "### <span style=\"color:red\">2.Création des variables dépendantes </span>"
   ]
  },
  {
   "cell_type": "markdown",
   "metadata": {},
   "source": [
    "#### 2.1 Test de stationnarité du RF"
   ]
  },
  {
   "cell_type": "code",
   "execution_count": null,
   "metadata": {},
   "outputs": [],
   "source": [
    "df['RF'].plot();"
   ]
  },
  {
   "cell_type": "code",
   "execution_count": null,
   "metadata": {},
   "outputs": [],
   "source": [
    "def kpss_test(series, **kw):\n",
    "    statistic, p_value, n_lags, critical_values= kpss(series, **kw)\n",
    "    print(f'KPSS statistic: {statistic}')\n",
    "    print(f'p_value: {p_value}')\n",
    "    print(f'num lags: {n_lags}')\n",
    "    print(f'Critical values:')\n",
    "    for key, value in critical_values.items():\n",
    "        print(f' {key} : {value}')\n",
    "    print(f'Result: the series is {\"not \" if p_value < 0.05 else \"\"}stationary')"
   ]
  },
  {
   "cell_type": "code",
   "execution_count": null,
   "metadata": {
    "scrolled": false
   },
   "outputs": [],
   "source": [
    "#Test de stationnarité \n",
    "kpss_results = {}\n",
    "print(f'RF')\n",
    "kpss_results = kpss_test(df['RF'])"
   ]
  },
  {
   "cell_type": "code",
   "execution_count": null,
   "metadata": {},
   "outputs": [],
   "source": [
    "df['RF'] = df['RF'].diff()\n",
    "df= df.dropna()"
   ]
  },
  {
   "cell_type": "markdown",
   "metadata": {},
   "source": [
    "#### 2.2 Création des variables dépendantes"
   ]
  },
  {
   "cell_type": "markdown",
   "metadata": {},
   "source": [
    "#### `y = Le rendement d'un actif (cours boursier en l'occurence) - L'actif sans risque RF`"
   ]
  },
  {
   "cell_type": "code",
   "execution_count": null,
   "metadata": {},
   "outputs": [],
   "source": [
    "pd.options.mode.chained_assignment = None "
   ]
  },
  {
   "cell_type": "code",
   "execution_count": null,
   "metadata": {},
   "outputs": [],
   "source": [
    "for i in df[cols].columns:\n",
    "    df[i]=df[i]-df['RF']\n",
    "\n",
    "y = df[cols].drop(\"^DJI\",1)"
   ]
  },
  {
   "cell_type": "markdown",
   "metadata": {},
   "source": [
    "### <span style=\"color:red\">3.Création de la variable indépendante</span> \n",
    "\n",
    "#### `X= L'indice du DowJones - L'actif sans risque RF`"
   ]
  },
  {
   "cell_type": "code",
   "execution_count": null,
   "metadata": {},
   "outputs": [],
   "source": [
    "df['p_risque']=df['^DJI']-df['RF']"
   ]
  },
  {
   "cell_type": "code",
   "execution_count": null,
   "metadata": {},
   "outputs": [],
   "source": [
    "X = df['p_risque']"
   ]
  },
  {
   "cell_type": "markdown",
   "metadata": {},
   "source": [
    "### <span style=\"color:red\">4.Tests de stationnarité</span> \n",
    "\n",
    "#### 4.1 La variable indépendante"
   ]
  },
  {
   "cell_type": "code",
   "execution_count": null,
   "metadata": {},
   "outputs": [],
   "source": [
    "plt.rcParams['figure.figsize'] = (10, 7)\n",
    "plt.rcParams['axes.grid'] = False\n",
    "plt.rcParams['legend.loc'] = 'best'"
   ]
  },
  {
   "cell_type": "code",
   "execution_count": null,
   "metadata": {
    "scrolled": false
   },
   "outputs": [],
   "source": [
    "X.plot()\n",
    "plt.title('Index')\n",
    "plt.xlabel('Date')\n",
    "plt.ylabel('P_RISQUE')\n",
    "plt.legend(loc='best', bbox_to_anchor=(1, 0.5))\n",
    "plt.show();"
   ]
  },
  {
   "cell_type": "code",
   "execution_count": null,
   "metadata": {},
   "outputs": [],
   "source": [
    "def kpss_test(series, **kw):\n",
    "    statistic, p_value, n_lags, critical_values= kpss(series, **kw)\n",
    "    print(f'KPSS statistic: {statistic}')\n",
    "    print(f'p_value: {p_value}')\n",
    "    print(f'num lags: {n_lags}')\n",
    "    print(f'Critical values:')\n",
    "    for key, value in critical_values.items():\n",
    "        print(f' {key} : {value}')\n",
    "    print(f'Result: the series is {\"not \" if p_value < 0.05 else \"\"}stationary')"
   ]
  },
  {
   "cell_type": "code",
   "execution_count": null,
   "metadata": {
    "scrolled": true
   },
   "outputs": [],
   "source": [
    "#Test de stationnarité \n",
    "kpss_results = {}\n",
    "print(f'X')\n",
    "kpss_results = kpss_test(X)"
   ]
  },
  {
   "cell_type": "markdown",
   "metadata": {},
   "source": [
    "#### 4.2 Les variables dépendantes"
   ]
  },
  {
   "cell_type": "code",
   "execution_count": null,
   "metadata": {
    "scrolled": true
   },
   "outputs": [],
   "source": [
    "y.plot()\n",
    "plt.title('Index')\n",
    "plt.xlabel('Date')\n",
    "plt.ylabel('Rendement')\n",
    "plt.legend(loc='best', bbox_to_anchor=(1, 0.5), title=\"Actions\")\n",
    "plt.show();"
   ]
  },
  {
   "cell_type": "code",
   "execution_count": null,
   "metadata": {
    "scrolled": false
   },
   "outputs": [],
   "source": [
    "#Test de stationnarité\n",
    "kpss_results = {}\n",
    "for i in y:\n",
    "    print(f'{i}')\n",
    "    kpss_results[i] = kpss_test(y[i])"
   ]
  },
  {
   "cell_type": "markdown",
   "metadata": {},
   "source": [
    "### <span style=\"color:red\">5.Tests de normalité</span> \n",
    "\n",
    "#### 5.1 La variable indépendante X"
   ]
  },
  {
   "cell_type": "code",
   "execution_count": null,
   "metadata": {},
   "outputs": [],
   "source": [
    "X.plot.density();"
   ]
  },
  {
   "cell_type": "code",
   "execution_count": null,
   "metadata": {
    "scrolled": true
   },
   "outputs": [],
   "source": [
    "X.plot.box();"
   ]
  },
  {
   "cell_type": "markdown",
   "metadata": {},
   "source": [
    "[![bxplt-inter.png](https://i.postimg.cc/Jz1YdZcx/bxplt-inter.png)](https://postimg.cc/XpzgrZPB)"
   ]
  },
  {
   "cell_type": "code",
   "execution_count": null,
   "metadata": {
    "scrolled": true
   },
   "outputs": [],
   "source": [
    "print('QQ plot du p_risque')\n",
    "sm.qqplot(X, line='s')\n",
    "plt.show();"
   ]
  },
  {
   "cell_type": "code",
   "execution_count": null,
   "metadata": {},
   "outputs": [],
   "source": [
    "#Test de normalité (Shapiro-Wilk)\n",
    "#H0 : distribution normale\n",
    "#HA : pas de distribution normale\n",
    "p_value = 0.05\n",
    "a,b= stats.shapiro(X)\n",
    "print (\"Statistiques\", a, \"p_value\", b)\n",
    "if b < p_value:\n",
    "    print(f\"L'hypothèse nulle H0 peut être rejetée et la série p_risque ne présente pas de distribution normale\")\n",
    "else:\n",
    "    print(f\"L'hypothèse nulle H0 ne peut être rejetée et la série p_risque présente une distribution normale\")"
   ]
  },
  {
   "cell_type": "markdown",
   "metadata": {},
   "source": [
    " #### 5.2 Les variables dépendantes y"
   ]
  },
  {
   "cell_type": "code",
   "execution_count": null,
   "metadata": {
    "scrolled": true
   },
   "outputs": [],
   "source": [
    "y.plot.density();"
   ]
  },
  {
   "cell_type": "code",
   "execution_count": null,
   "metadata": {
    "scrolled": false
   },
   "outputs": [],
   "source": [
    "y.boxplot();"
   ]
  },
  {
   "cell_type": "code",
   "execution_count": null,
   "metadata": {},
   "outputs": [],
   "source": [
    "for i,val in enumerate(y):\n",
    "    print('QQ plot de', val)\n",
    "    sm.qqplot(y[val], line='s')\n",
    "    plt.show();"
   ]
  },
  {
   "cell_type": "code",
   "execution_count": null,
   "metadata": {},
   "outputs": [],
   "source": [
    "#Test de normalité (Shapiro-Wilk)\n",
    "#H0 : distribution normale\n",
    "#HA : pas de distribution normale\n",
    "p_value = 0.05\n",
    "for i in y :\n",
    "    print(i)\n",
    "    a,b= stats.shapiro(y[[i]])\n",
    "    print (\"Statistiques\", a, \"p_value\", b)\n",
    "    if b < p_value:\n",
    "        print(f\"L'hypothèse nulle H0 peut être rejetée et la série {i} ne présente pas de distribution normale\")\n",
    "    else:\n",
    "        print(f\"L'hypothèse nulle H0 ne peut être rejetée et la série {i} présente une distribution normale\")\n",
    "        "
   ]
  },
  {
   "cell_type": "markdown",
   "metadata": {},
   "source": [
    "### <span style=\"color:red\">6.Estimation du modèle</span> "
   ]
  },
  {
   "cell_type": "markdown",
   "metadata": {},
   "source": [
    "[![level-level.png](https://i.postimg.cc/V666gLxY/level-level.png)](https://postimg.cc/jWptdKq9)"
   ]
  },
  {
   "cell_type": "code",
   "execution_count": null,
   "metadata": {},
   "outputs": [],
   "source": [
    "import statsmodels.formula.api as smf"
   ]
  },
  {
   "cell_type": "code",
   "execution_count": null,
   "metadata": {},
   "outputs": [],
   "source": [
    "Z = pd.concat ([y,X],1)"
   ]
  },
  {
   "cell_type": "code",
   "execution_count": null,
   "metadata": {},
   "outputs": [],
   "source": [
    "skip = ['p_risque'] \n",
    "cols = Z.columns[~Z.columns.isin(skip)]\n",
    "liste = []\n",
    "alpha = []\n",
    "pval = []\n",
    "rsq = []\n",
    "resid = []\n",
    "for i in cols:\n",
    "    mco = smf.ols(i+'~p_risque',data = Z).fit()\n",
    "    liste.append(mco.summary())\n",
    "    alpha.append(mco.params.loc['Intercept'])\n",
    "    pval.append(mco.pvalues)\n",
    "    rsq.append(mco.rsquared_adj)\n",
    "    resid.append(sum(mco.resid))\n"
   ]
  },
  {
   "cell_type": "code",
   "execution_count": null,
   "metadata": {
    "scrolled": true
   },
   "outputs": [],
   "source": [
    "#Résultats de la régression\n",
    "for l in liste:\n",
    "    print(f'{l}\\n')"
   ]
  },
  {
   "cell_type": "markdown",
   "metadata": {},
   "source": [
    "**Some comments on the above:**\n",
    "\n",
    "Degrees of freedom is calculated in the form of ‘n-k-1’ or ‘number of observations-number of predicting variables-1.’\n",
    "\n",
    "- The R squared looks not bad 70%\n",
    "- It seems that the TTF price and the Italian prices affect significantly the UK Price of gas\n",
    "- The adjusted R-squared penalizes the R-squared formula based on the number of variables, therefore a lower adjusted score may be telling you some variables are not contributing to your model’s R-squared properly. In this case it does not happen\n",
    "- Prob F tells us that there is almost no change that our predicting variables are not significant\n",
    "- A low std error compared to a high coefficient produces a high t statistic, which signifies a high significance for your coefficient.\n",
    "- Omnibus describes the normalcy of the distribution of our residuals using skew and kurtosis as measurements. A 0 would indicate perfect normalcy.\n",
    "- Prob(Omnibus) is a statistical test measuring the probability the residuals are normally distributed. A 1 would indicate perfectly normal distribution.\n",
    "- Skew is a measurement of symmetry in our data, with 0 being perfect symmetry. Kurtosis measures the peakiness of our data, or its concentration around 0 in a normal curve. Higher kurtosis implies fewer outliers.\n",
    "- Durbin-Watson is a measurement of homoscedasticity, or an even distribution of errors throughout our data. Heteroscedasticity would imply an uneven distribution, for example as the data point grows higher the relative error grows higher. Ideal homoscedasticity will lie between 1 and 2."
   ]
  },
  {
   "cell_type": "markdown",
   "metadata": {},
   "source": [
    "[![level-level2.png](https://i.postimg.cc/sfbYMtWB/level-level2.png)](https://postimg.cc/rzC0bZQc)"
   ]
  },
  {
   "cell_type": "markdown",
   "metadata": {},
   "source": [
    "### <span style=\"color:red\">7. Vérification des hypothèses </span> "
   ]
  },
  {
   "cell_type": "markdown",
   "metadata": {},
   "source": [
    "[![hyp.png](https://i.postimg.cc/sXDBLJhC/hyp.png)](https://postimg.cc/nsgcjB23)"
   ]
  },
  {
   "cell_type": "markdown",
   "metadata": {},
   "source": [
    "#### 7.1 Test de colinéarité"
   ]
  },
  {
   "cell_type": "code",
   "execution_count": null,
   "metadata": {},
   "outputs": [],
   "source": [
    "def vif_cal(input_data, dependent_col):\n",
    "    x_vars=input_data.drop([dependent_col], axis=1)\n",
    "    xvar_names=x_vars.columns\n",
    "    for i in range(0,xvar_names.shape[0]):\n",
    "        y=x_vars[xvar_names[i]] \n",
    "        x=x_vars[xvar_names.drop(xvar_names[i])]\n",
    "        rsq=smf.ols(formula=\"y~x\", data=x_vars).fit().rsquared\n",
    "        vif=round(1/(1-rsq),2)\n",
    "        print (xvar_names[i], \" VIF = \" , vif)"
   ]
  },
  {
   "cell_type": "code",
   "execution_count": null,
   "metadata": {},
   "outputs": [],
   "source": [
    "vif_cal(input_data=Z , dependent_col=\"p_risque\")"
   ]
  },
  {
   "cell_type": "markdown",
   "metadata": {},
   "source": [
    "#### 7.2 Calcul du Biais"
   ]
  },
  {
   "cell_type": "code",
   "execution_count": null,
   "metadata": {
    "scrolled": false
   },
   "outputs": [],
   "source": [
    "resid1=pd.DataFrame(resid, index = cols, columns = ['Biais'])\n",
    "resid1"
   ]
  },
  {
   "cell_type": "markdown",
   "metadata": {},
   "source": [
    "#### 7.3 Autocorrelation"
   ]
  },
  {
   "cell_type": "code",
   "execution_count": null,
   "metadata": {
    "scrolled": false
   },
   "outputs": [],
   "source": [
    "spearman = Z.corr(method='spearman')\n",
    "\n",
    "sns.heatmap(spearman, xticklabels=spearman.columns, yticklabels=spearman.columns,\n",
    "cmap='RdBu_r',\n",
    "annot=True,\n",
    "linewidth=0.5)\n",
    "\n",
    "plt.show()"
   ]
  },
  {
   "cell_type": "markdown",
   "metadata": {},
   "source": [
    "#### 7.4 Homoscédasticité"
   ]
  },
  {
   "cell_type": "code",
   "execution_count": null,
   "metadata": {
    "scrolled": true
   },
   "outputs": [],
   "source": [
    "for i in cols:\n",
    "    mco = smf.ols(i+'~p_risque',data = Z).fit()\n",
    "    print(f'== {i} Homoscedasticity Breusch-Pagan Test ==')\n",
    "    print('')\n",
    "    print('Breusch-Pagan LM Test Statistic:', np.round(sms.het_breuschpagan(mco.resid, mco.model.exog)[0]))\n",
    "    print('Breusch-Pagan LM Test P-Value:', np.round(sms.het_breuschpagan(mco.resid, mco.model.exog)[1]))\n",
    "    print('Breusch-Pagan LM Test F-value:', np.round(sms.het_breuschpagan(mco.resid, mco.model.exog)[2]))\n",
    "    print('Breusch-Pagan LM Test F P-Value:', np.round(sms.het_breuschpagan(mco.resid, mco.model.exog)[3]))\n",
    "    p = np.round(sms.het_breuschpagan(mco.resid, mco.model.exog)[1])\n",
    "    print('----------------')\n",
    "    if p < 0.05:\n",
    "        print(\"Hypothèse H0 retenue (p-value< 5%): Homoscedasticité présente \")\n",
    "    else:\n",
    "        print(\"Hypothèse H0 rejetée (p-value> 5%): pas d'Homoscedasticité présente \")\n",
    "    print('')"
   ]
  },
  {
   "cell_type": "markdown",
   "metadata": {},
   "source": [
    "### <span style=\"color:red\">8. Vérification de l'Alpha de Jensen </span> "
   ]
  },
  {
   "cell_type": "code",
   "execution_count": null,
   "metadata": {
    "scrolled": false
   },
   "outputs": [],
   "source": [
    "CAPM = pd.DataFrame(np.column_stack([rsq, alpha, pval]), index = cols, columns = ('R²_adj','Alpha-Jensen(β0)', 'p-value', 'p_risque'))"
   ]
  },
  {
   "cell_type": "code",
   "execution_count": null,
   "metadata": {},
   "outputs": [],
   "source": [
    "CAPM['Alpha-Jensen(β0)'].to_frame()"
   ]
  },
  {
   "cell_type": "markdown",
   "metadata": {},
   "source": [
    "### <span style=\"color:red\">9. Application du Fama French 3 facteurs</span> "
   ]
  },
  {
   "cell_type": "markdown",
   "metadata": {},
   "source": [
    "#### 9.1 Mise à jour des variables indépendantes \n",
    "\n",
    "#### `Les 3 facteurs seront \"p_risque\" / \"SMB\" / \"HML\"`"
   ]
  },
  {
   "cell_type": "code",
   "execution_count": null,
   "metadata": {},
   "outputs": [],
   "source": [
    "X_3 = df[['p_risque','SMB','HML']]"
   ]
  },
  {
   "cell_type": "markdown",
   "metadata": {},
   "source": [
    "#### 9.2 Tests de stationnarité de X_3 "
   ]
  },
  {
   "cell_type": "code",
   "execution_count": null,
   "metadata": {},
   "outputs": [],
   "source": [
    "X_3.plot()\n",
    "plt.title('Index')\n",
    "plt.xlabel('Date')\n",
    "plt.ylabel('P_RISQUE/SMB/HML')\n",
    "plt.legend(loc='best', bbox_to_anchor=(1, 0.5))\n",
    "plt.show();"
   ]
  },
  {
   "cell_type": "code",
   "execution_count": null,
   "metadata": {
    "scrolled": true
   },
   "outputs": [],
   "source": [
    "#Test de stationnarité \n",
    "for i in X_3:\n",
    "    kpss_results = {}\n",
    "    print(f'{i}')\n",
    "    kpss_results = kpss_test(X_3[i])"
   ]
  },
  {
   "cell_type": "markdown",
   "metadata": {},
   "source": [
    "#### 9.3 Tests de normalité de X_3 "
   ]
  },
  {
   "cell_type": "code",
   "execution_count": null,
   "metadata": {},
   "outputs": [],
   "source": [
    "X_3.plot.density();"
   ]
  },
  {
   "cell_type": "code",
   "execution_count": null,
   "metadata": {
    "scrolled": true
   },
   "outputs": [],
   "source": [
    "#Test de normalité (Shapiro-Wilk)\n",
    "#H0 : distribution normale\n",
    "#HA : pas de distribution normale\n",
    "p_value = 0.05\n",
    "for i in X_3 :\n",
    "    print(i)\n",
    "    a,b= stats.shapiro(X_3[[i]])\n",
    "    print (\"Statistiques\", a, \"p_value\", b)\n",
    "    if b < p_value:\n",
    "        print(f\"L'hypothèse nulle H0 peut être rejetée et la série {i} ne présente pas de distribution normale\")\n",
    "    else:\n",
    "        print(f\"L'hypothèse nulle H0 ne peut être rejetée et la série {i} présente une distribution normale\")"
   ]
  },
  {
   "cell_type": "markdown",
   "metadata": {},
   "source": [
    "#### 9.4 Vérification des hypothèses des moindres carrées OLS"
   ]
  },
  {
   "cell_type": "code",
   "execution_count": null,
   "metadata": {},
   "outputs": [],
   "source": [
    "Z_3 = pd.concat ([y,X_3],1)"
   ]
  },
  {
   "cell_type": "code",
   "execution_count": null,
   "metadata": {},
   "outputs": [],
   "source": [
    "skip = ['p_risque','SMB','HML'] \n",
    "cols = Z_3.columns[~Z_3.columns.isin(skip)]\n",
    "liste3 = []\n",
    "alpha3 = []\n",
    "pval3 = []\n",
    "rsq3 = []\n",
    "resid3 = []\n",
    "for i in cols:\n",
    "    mco = smf.ols(i+'~p_risque+SMB+HML',data = Z_3).fit()\n",
    "    liste3.append(mco.summary())\n",
    "    alpha3.append(mco.params.loc['Intercept'])\n",
    "    pval3.append(mco.pvalues)\n",
    "    rsq3.append(mco.rsquared_adj)\n",
    "    resid3.append(sum(mco.resid))\n",
    "    \n",
    "    "
   ]
  },
  {
   "cell_type": "code",
   "execution_count": null,
   "metadata": {},
   "outputs": [],
   "source": [
    "#Résultats de la régression\n",
    "for l_3 in liste3:\n",
    "    print(f'{l_3}\\n')"
   ]
  },
  {
   "cell_type": "code",
   "execution_count": null,
   "metadata": {},
   "outputs": [],
   "source": [
    "FF3 = pd.DataFrame(np.column_stack([rsq3, alpha3, pval3]), index = cols, columns = ('R²_adj','Alpha-Jensen(β0)', 'p-value', 'p_risque(β1)', 'SMB(β2)', 'HML(β3)'))"
   ]
  },
  {
   "cell_type": "markdown",
   "metadata": {},
   "source": [
    "### <span style=\"color:red\">10. Vérification des hypothèses </span> "
   ]
  },
  {
   "cell_type": "markdown",
   "metadata": {},
   "source": [
    "#### 10.1 Test de colinéarité"
   ]
  },
  {
   "cell_type": "code",
   "execution_count": null,
   "metadata": {
    "scrolled": true
   },
   "outputs": [],
   "source": [
    "for x in X_3:\n",
    "    vif_cal(input_data=Z_3 , dependent_col= f'{x}')"
   ]
  },
  {
   "cell_type": "markdown",
   "metadata": {},
   "source": [
    "#### 10.2 Calcul du Biais"
   ]
  },
  {
   "cell_type": "code",
   "execution_count": null,
   "metadata": {
    "scrolled": true
   },
   "outputs": [],
   "source": [
    "resid3=pd.DataFrame(resid3, index = cols, columns = ['Biais'])\n",
    "resid3"
   ]
  },
  {
   "cell_type": "markdown",
   "metadata": {},
   "source": [
    "#### 10.3 Autocorrelation"
   ]
  },
  {
   "cell_type": "code",
   "execution_count": null,
   "metadata": {},
   "outputs": [],
   "source": [
    "spearman3 = Z_3.corr(method='spearman')\n",
    "\n",
    "sns.heatmap(spearman3, xticklabels=spearman3.columns, yticklabels=spearman3.columns,\n",
    "cmap='RdBu_r',\n",
    "annot=True,\n",
    "linewidth=0.5)\n",
    "\n",
    "plt.show()"
   ]
  },
  {
   "cell_type": "markdown",
   "metadata": {},
   "source": [
    "#### 10.4 Homoscédasticité"
   ]
  },
  {
   "cell_type": "code",
   "execution_count": null,
   "metadata": {
    "scrolled": true
   },
   "outputs": [],
   "source": [
    "for i in cols:\n",
    "    mco = smf.ols(i+'~p_risque+SMB+HML',data = Z_3).fit()\n",
    "    print(f'== {i} Homoscedasticity Breusch-Pagan Test ==')\n",
    "    print('')\n",
    "    print('Breusch-Pagan LM Test Statistic:', np.round(sms.het_breuschpagan(mco.resid, mco.model.exog)[0]))\n",
    "    print('Breusch-Pagan LM Test P-Value:', np.round(sms.het_breuschpagan(mco.resid, mco.model.exog)[1]))\n",
    "    print('Breusch-Pagan LM Test F-value:', np.round(sms.het_breuschpagan(mco.resid, mco.model.exog)[2]))\n",
    "    print('Breusch-Pagan LM Test F P-Value:', np.round(sms.het_breuschpagan(mco.resid, mco.model.exog)[3]))\n",
    "    p = np.round(sms.het_breuschpagan(mco.resid, mco.model.exog)[1])\n",
    "    print('----------------')\n",
    "    if p > 0.05:\n",
    "        print(\"Hypothèse H0 retenue (p-value> 5%): Homoscedasticité présente \")\n",
    "    else:\n",
    "        print(\"Hypothèse H0 rejetée (p-value< 5%): pas d'Homoscedasticité présente \")\n",
    "    print('')"
   ]
  },
  {
   "cell_type": "markdown",
   "metadata": {},
   "source": [
    "#### 10.5 Exogéneité"
   ]
  },
  {
   "cell_type": "markdown",
   "metadata": {},
   "source": [
    "corrélation entre les X et le biais"
   ]
  },
  {
   "cell_type": "code",
   "execution_count": null,
   "metadata": {},
   "outputs": [],
   "source": [
    "r3 =[]\n",
    "for i in cols:\n",
    "    mco = smf.ols(i+'~p_risque+SMB+HML',data = Z_3).fit()\n",
    "    r3.append(mco.resid)"
   ]
  },
  {
   "cell_type": "code",
   "execution_count": null,
   "metadata": {},
   "outputs": [],
   "source": [
    "rr3 = pd.DataFrame(r3, index= cols).T"
   ]
  },
  {
   "cell_type": "code",
   "execution_count": null,
   "metadata": {},
   "outputs": [],
   "source": [
    "XB1 = pd.concat(([rr3,X_3]),1 )"
   ]
  },
  {
   "cell_type": "code",
   "execution_count": null,
   "metadata": {},
   "outputs": [],
   "source": [
    "exogene3 = XB1.corr(method='spearman')\n",
    "\n",
    "sns.heatmap(exogene3, xticklabels=exogene3.columns, yticklabels=exogene3.columns,\n",
    "cmap='RdBu_r',\n",
    "annot=True,\n",
    "linewidth=0.5)\n",
    "\n",
    "plt.show()"
   ]
  },
  {
   "cell_type": "markdown",
   "metadata": {},
   "source": [
    "### <span style=\"color:red\">11. Application du Fama French 5 facteurs</span> "
   ]
  },
  {
   "cell_type": "markdown",
   "metadata": {},
   "source": [
    "#### 11.1 Mise à jour des variables indépendantes \n",
    "\n",
    "#### `Les 5 facteurs seront \"p_risque\" / \"SMB\" / \"HML\" / \"RMW\" / \"CMA\"`"
   ]
  },
  {
   "cell_type": "code",
   "execution_count": null,
   "metadata": {},
   "outputs": [],
   "source": [
    "X_5 = df[['p_risque','SMB','HML','RMW','CMA']]"
   ]
  },
  {
   "cell_type": "markdown",
   "metadata": {},
   "source": [
    "#### 11.2 Tests de stationnarité de X_5 "
   ]
  },
  {
   "cell_type": "code",
   "execution_count": null,
   "metadata": {
    "scrolled": true
   },
   "outputs": [],
   "source": [
    "# Séparation des plots à différentes échelles\n",
    "\n",
    "fig, (ax1, ax2) = plt.subplots(2)\n",
    "fig.suptitle('RMW / CMA')\n",
    "ax1.plot(X_5.index, X_5['RMW'], color = 'red', label = 'RMW')\n",
    "ax1.legend()\n",
    "ax2.plot(X_5.index, X_5['CMA'], color = 'green',label = 'CMA')\n",
    "ax2.legend()\n",
    "plt.show();"
   ]
  },
  {
   "cell_type": "code",
   "execution_count": null,
   "metadata": {
    "scrolled": false
   },
   "outputs": [],
   "source": [
    "#Test de stationnarité \n",
    "for i in X_5[['RMW','CMA']]:\n",
    "    kpss_results = {}\n",
    "    print(f'{i}')\n",
    "    kpss_results = kpss_test(X_5[i])"
   ]
  },
  {
   "cell_type": "markdown",
   "metadata": {},
   "source": [
    "#### 11.3 Tests de normalité de X_5 "
   ]
  },
  {
   "cell_type": "code",
   "execution_count": null,
   "metadata": {},
   "outputs": [],
   "source": [
    "X_5['RMW'].plot.density();"
   ]
  },
  {
   "cell_type": "code",
   "execution_count": null,
   "metadata": {},
   "outputs": [],
   "source": [
    "X_5['CMA'].plot.density();"
   ]
  },
  {
   "cell_type": "markdown",
   "metadata": {},
   "source": [
    "#### 11.4 Vérification des hypothèses des moindres carrées OLS"
   ]
  },
  {
   "cell_type": "code",
   "execution_count": null,
   "metadata": {},
   "outputs": [],
   "source": [
    "Z_5 = pd.concat ([y,X_5],1)"
   ]
  },
  {
   "cell_type": "code",
   "execution_count": null,
   "metadata": {},
   "outputs": [],
   "source": [
    "skip = ['p_risque','SMB','HML','RMW','CMA'] \n",
    "cols = Z_5.columns[~Z_5.columns.isin(skip)]\n",
    "liste5 = []\n",
    "alpha5 = []\n",
    "pval5 = []\n",
    "rsq5 = []\n",
    "resid5 = []\n",
    "for i in cols:\n",
    "    mco = smf.ols(i+'~p_risque+SMB+HML+RMW+CMA',data = Z_5).fit()\n",
    "    liste5.append(mco.summary())\n",
    "    alpha5.append(mco.params.loc['Intercept'])\n",
    "    pval5.append(mco.pvalues)\n",
    "    rsq5.append(mco.rsquared_adj)\n",
    "    resid5.append(sum(mco.resid))"
   ]
  },
  {
   "cell_type": "code",
   "execution_count": null,
   "metadata": {},
   "outputs": [],
   "source": [
    "FF5 = pd.DataFrame(np.column_stack([rsq5, alpha5, pval5]), index = cols, columns = ('R²_adj','Alpha-Jensen (β0)', 'p-value', 'p_risque(β1)', 'SMB(β2)', 'HML(β3)', 'RMW(β4)','CMA(β5)'))"
   ]
  },
  {
   "cell_type": "markdown",
   "metadata": {},
   "source": [
    "### <span style=\"color:red\">12. Vérification des hypothèses </span> "
   ]
  },
  {
   "cell_type": "markdown",
   "metadata": {},
   "source": [
    "#### 12.1 Test de colinéarité"
   ]
  },
  {
   "cell_type": "code",
   "execution_count": null,
   "metadata": {
    "scrolled": true
   },
   "outputs": [],
   "source": [
    "for x in X_5:\n",
    "    vif_cal(input_data=Z_5 , dependent_col= f'{x}')"
   ]
  },
  {
   "cell_type": "markdown",
   "metadata": {},
   "source": [
    "#### 12.2 Calcul du Biais"
   ]
  },
  {
   "cell_type": "code",
   "execution_count": null,
   "metadata": {
    "scrolled": false
   },
   "outputs": [],
   "source": [
    "resid5=pd.DataFrame(resid5, index = cols, columns = ['Biais'])\n",
    "resid5"
   ]
  },
  {
   "cell_type": "markdown",
   "metadata": {},
   "source": [
    "#### 12.3 Autocorrelation"
   ]
  },
  {
   "cell_type": "code",
   "execution_count": null,
   "metadata": {
    "scrolled": true
   },
   "outputs": [],
   "source": [
    "spearman5 = Z_5.corr(method='spearman')\n",
    "\n",
    "sns.heatmap(spearman5, xticklabels=spearman5.columns, yticklabels=spearman5.columns,\n",
    "cmap='RdBu_r',\n",
    "annot=True,\n",
    "linewidth=0.5)\n",
    "\n",
    "plt.show()"
   ]
  },
  {
   "cell_type": "markdown",
   "metadata": {},
   "source": [
    "#### 12.4 Homoscédasticité"
   ]
  },
  {
   "cell_type": "code",
   "execution_count": null,
   "metadata": {
    "scrolled": false
   },
   "outputs": [],
   "source": [
    "for i in cols:\n",
    "    mco = smf.ols(i+'~p_risque+SMB+HML+RMW+CMA',data = Z_5).fit()\n",
    "    print(f'== {i} Homoscedasticity Breusch-Pagan Test ==')\n",
    "    print('')\n",
    "    print('Breusch-Pagan LM Test Statistic:', np.round(sms.het_breuschpagan(mco.resid, mco.model.exog)[0]))\n",
    "    print('Breusch-Pagan LM Test P-Value:', np.round(sms.het_breuschpagan(mco.resid, mco.model.exog)[1]))\n",
    "    print('Breusch-Pagan LM Test F-value:', np.round(sms.het_breuschpagan(mco.resid, mco.model.exog)[2]))\n",
    "    print('Breusch-Pagan LM Test F P-Value:', np.round(sms.het_breuschpagan(mco.resid, mco.model.exog)[3]))\n",
    "    p = np.round(sms.het_breuschpagan(mco.resid, mco.model.exog)[1])\n",
    "    print('----------------')\n",
    "    if p > 0.05:\n",
    "        print(\"Hypothèse H0 retenue (p-value> 5%): Homoscedasticité présente \")\n",
    "    else:\n",
    "        print(\"Hypothèse H0 rejetée (p-value< 5%): pas d'Homoscedasticité présente \")\n",
    "    print('')"
   ]
  },
  {
   "cell_type": "markdown",
   "metadata": {},
   "source": [
    "#### 12.5 Exogénieté"
   ]
  },
  {
   "cell_type": "code",
   "execution_count": null,
   "metadata": {},
   "outputs": [],
   "source": [
    "r5 =[]\n",
    "for i in cols:\n",
    "    mco = smf.ols(i+'~p_risque+SMB+HML+RMW+CMA',data = Z_5).fit()\n",
    "    r5.append(mco.resid)\n",
    "    \n",
    "rr5 = pd.DataFrame(r3, index= cols).T\n",
    "XB5 = pd.concat(([rr3,X_3]),1 )"
   ]
  },
  {
   "cell_type": "code",
   "execution_count": null,
   "metadata": {},
   "outputs": [],
   "source": [
    "exogene5 = XB5.corr(method='spearman')\n",
    "\n",
    "sns.heatmap(exogene5, xticklabels=exogene5.columns, yticklabels=exogene5.columns,\n",
    "cmap='RdBu_r',\n",
    "annot=True,\n",
    "linewidth=0.5)\n",
    "\n",
    "plt.show()"
   ]
  },
  {
   "cell_type": "markdown",
   "metadata": {},
   "source": [
    "### <span style=\"color:red\">13.  CAPM / Fama & French 3 / Fama & French 5 </span> "
   ]
  },
  {
   "cell_type": "code",
   "execution_count": null,
   "metadata": {},
   "outputs": [],
   "source": [
    "d = {'CAPM' : CAPM, 'FAMAFRENCH 3' : FF3, 'FAMAFRENCH 5' : FF5}\n",
    "final = pd.concat([CAPM,FF3,FF5], axis=1, keys=d.keys())"
   ]
  },
  {
   "cell_type": "code",
   "execution_count": null,
   "metadata": {},
   "outputs": [],
   "source": [
    "pd.options.display.max_columns = 20\n",
    "pd.options.display.max_rows = 20\n",
    "final"
   ]
  },
  {
   "cell_type": "markdown",
   "metadata": {},
   "source": [
    "- Les **R² ajustés** sont pour la plupart légèrement améliorés du CAPM vers le F&F 5 facteurs\n",
    "- Les actifs V (VISA) & MCD (Mc Donald's) ont la plus grande significativité statistique avec une **p-value < 0.05** \n",
    "- L'**Alpha de Jensen** pour un actif donné augumente du CAPM vers le FF5\n"
   ]
  },
  {
   "cell_type": "code",
   "execution_count": null,
   "metadata": {},
   "outputs": [],
   "source": []
  }
 ],
 "metadata": {
  "kernelspec": {
   "display_name": "Python 3",
   "language": "python",
   "name": "python3"
  },
  "language_info": {
   "codemirror_mode": {
    "name": "ipython",
    "version": 3
   },
   "file_extension": ".py",
   "mimetype": "text/x-python",
   "name": "python",
   "nbconvert_exporter": "python",
   "pygments_lexer": "ipython3",
   "version": "3.8.5"
  }
 },
 "nbformat": 4,
 "nbformat_minor": 4
}
