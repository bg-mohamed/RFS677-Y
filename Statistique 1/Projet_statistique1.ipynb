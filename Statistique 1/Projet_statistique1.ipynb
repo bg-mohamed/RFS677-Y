{
 "cells": [
  {
   "cell_type": "code",
   "execution_count": null,
   "metadata": {},
   "outputs": [],
   "source": [
    "import pandas as pd \n",
    "import numpy as np \n",
    "from pandas_datareader import data as pdr\n",
    "import yfinance as yf\n",
    "import matplotlib.pyplot as plt\n",
    "import seaborn as sns\n",
    "import statsmodels.stats.api as sms\n",
    "import statsmodels.api as sm\n",
    "from statsmodels.tsa.stattools import kpss\n",
    "from statsmodels.compat import lzip\n",
    "from scipy import stats\n",
    "import statsmodels.stats.diagnostic as sms\n",
    "import statsmodels.formula.api as smf\n",
    "from statsmodels.stats.diagnostic import acorr_breusch_godfrey\n",
    "from statsmodels.stats.diagnostic import het_breuschpagan"
   ]
  },
  {
   "cell_type": "code",
   "execution_count": null,
   "metadata": {
    "scrolled": true
   },
   "outputs": [],
   "source": [
    "#10 actifs choisis parmi les TOP 30 components du DowJones Industrial index\n",
    "df = yf.download(['VZ', 'GS', 'KO', 'JNJ','INTC','V', 'MCD', 'CAT', 'CVX', 'WMT','^DJI'], start=\"2010-01-01\", end=\"2021-01-01\", interval = '1mo')\n",
    "df=df['Adj Close'] \n",
    "df=df.dropna()\n",
    "df=df.reset_index()"
   ]
  },
  {
   "cell_type": "code",
   "execution_count": null,
   "metadata": {},
   "outputs": [],
   "source": [
    "#Facteurs\n",
    "df[['SMB','HML', 'RMW', 'CMA','RF']] = pd.read_excel(\"data/FamaFrench.xlsx\", usecols = \"B:F\", skiprows = 559, nrows = 132, index_col= None, dtype=np.float64)\n",
    "df = df.set_index(['Date'])"
   ]
  },
  {
   "cell_type": "code",
   "execution_count": null,
   "metadata": {},
   "outputs": [],
   "source": [
    "df.head()"
   ]
  },
  {
   "cell_type": "markdown",
   "metadata": {},
   "source": [
    "### <span style=\"color:red\"> 1.Transformation des variables </span>"
   ]
  },
  {
   "cell_type": "markdown",
   "metadata": {},
   "source": [
    "#### 1.a Transformation des indices boursiers en rendement\n"
   ]
  },
  {
   "cell_type": "code",
   "execution_count": null,
   "metadata": {},
   "outputs": [],
   "source": [
    "def rendement(x):\n",
    "    r = ((x - x.shift(1))/(x.shift(1)))*100\n",
    "    return (r)"
   ]
  },
  {
   "cell_type": "code",
   "execution_count": null,
   "metadata": {},
   "outputs": [],
   "source": [
    "skip = ['RF','SMB','HML', 'RMW', 'CMA'] \n",
    "cols = df.columns[~df.columns.isin(skip)]\n",
    "for i in cols:\n",
    "    df[i] = rendement(df[i])\n",
    "df=df.dropna()"
   ]
  },
  {
   "cell_type": "markdown",
   "metadata": {},
   "source": [
    "### <span style=\"color:red\">2.Création des variables dépendantes </span>"
   ]
  },
  {
   "cell_type": "code",
   "execution_count": null,
   "metadata": {},
   "outputs": [],
   "source": [
    "plt.rcParams['figure.figsize'] = (10, 7)\n",
    "plt.rcParams['axes.grid'] = False\n",
    "plt.rcParams['legend.loc'] = 'best'"
   ]
  },
  {
   "cell_type": "markdown",
   "metadata": {},
   "source": [
    "#### 2.1 Test de stationnarité du RF"
   ]
  },
  {
   "cell_type": "code",
   "execution_count": null,
   "metadata": {},
   "outputs": [],
   "source": [
    "df['RF'].plot();"
   ]
  },
  {
   "cell_type": "code",
   "execution_count": null,
   "metadata": {},
   "outputs": [],
   "source": [
    "def kpss_test(series, **kw):\n",
    "    statistic, p_value, n_lags, critical_values= kpss(series, **kw)\n",
    "    print(f'KPSS statistic: {statistic}')\n",
    "    print(f'p_value: {p_value}')\n",
    "    print(f'num lags: {n_lags}')\n",
    "    print(f'Critical values:')\n",
    "    for key, value in critical_values.items():\n",
    "        print(f' {key} : {value}')\n",
    "    print(f'Result: the series is {\"not \" if p_value < 0.05 else \"\"}stationary')"
   ]
  },
  {
   "cell_type": "code",
   "execution_count": null,
   "metadata": {
    "scrolled": false
   },
   "outputs": [],
   "source": [
    "#Test de stationnarité \n",
    "kpss_results = {}\n",
    "print(f'RF')\n",
    "kpss_results = kpss_test(df['RF'])"
   ]
  },
  {
   "cell_type": "code",
   "execution_count": null,
   "metadata": {},
   "outputs": [],
   "source": [
    "df['RF'] = df['RF'].diff()\n",
    "df= df.dropna()"
   ]
  },
  {
   "cell_type": "code",
   "execution_count": null,
   "metadata": {
    "scrolled": false
   },
   "outputs": [],
   "source": [
    "#Test de stationnarité \n",
    "kpss_results = {}\n",
    "print(f'RF')\n",
    "kpss_results = kpss_test(df['RF'])"
   ]
  },
  {
   "cell_type": "markdown",
   "metadata": {},
   "source": [
    "#### 2.2 Création des variables dépendantes"
   ]
  },
  {
   "cell_type": "markdown",
   "metadata": {},
   "source": [
    "#### `y = Le rendement d'un actif (cours boursier en l'occurence) - L'actif sans risque RF`"
   ]
  },
  {
   "cell_type": "code",
   "execution_count": null,
   "metadata": {},
   "outputs": [],
   "source": [
    "pd.options.mode.chained_assignment = None "
   ]
  },
  {
   "cell_type": "code",
   "execution_count": null,
   "metadata": {},
   "outputs": [],
   "source": [
    "for i in df[cols].columns:\n",
    "    df[i]=df[i]-df['RF']\n",
    "\n",
    "y = df[cols].drop(\"^DJI\",1)"
   ]
  },
  {
   "cell_type": "markdown",
   "metadata": {},
   "source": [
    "### <span style=\"color:red\">3.Création de la variable indépendante</span> \n",
    "\n",
    "#### `X= L'indice du DowJones - L'actif sans risque RF`"
   ]
  },
  {
   "cell_type": "code",
   "execution_count": null,
   "metadata": {},
   "outputs": [],
   "source": [
    "df['p_risque']=df['^DJI']-df['RF']"
   ]
  },
  {
   "cell_type": "code",
   "execution_count": null,
   "metadata": {},
   "outputs": [],
   "source": [
    "X = df['p_risque']"
   ]
  },
  {
   "cell_type": "markdown",
   "metadata": {},
   "source": [
    "### <span style=\"color:red\">4.Tests de stationnarité</span> \n",
    "\n",
    "#### 4.1 La variable indépendante"
   ]
  },
  {
   "cell_type": "code",
   "execution_count": null,
   "metadata": {},
   "outputs": [],
   "source": [
    "plt.rcParams['figure.figsize'] = (10, 7)\n",
    "plt.rcParams['axes.grid'] = False\n",
    "plt.rcParams['legend.loc'] = 'best'"
   ]
  },
  {
   "cell_type": "code",
   "execution_count": null,
   "metadata": {
    "scrolled": false
   },
   "outputs": [],
   "source": [
    "X.plot()\n",
    "plt.title('Index')\n",
    "plt.xlabel('Date')\n",
    "plt.ylabel('P_RISQUE')\n",
    "plt.legend(loc='best', bbox_to_anchor=(1, 0.5))\n",
    "plt.show();"
   ]
  },
  {
   "cell_type": "code",
   "execution_count": null,
   "metadata": {},
   "outputs": [],
   "source": [
    "def kpss_test(series, **kw):\n",
    "    statistic, p_value, n_lags, critical_values= kpss(series, **kw)\n",
    "    print(f'KPSS statistic: {statistic}')\n",
    "    print(f'p_value: {p_value}')\n",
    "    print(f'num lags: {n_lags}')\n",
    "    print(f'Critical values:')\n",
    "    for key, value in critical_values.items():\n",
    "        print(f' {key} : {value}')\n",
    "    print(f'Result: the series is {\"not \" if p_value < 0.05 else \"\"}stationary')"
   ]
  },
  {
   "cell_type": "code",
   "execution_count": null,
   "metadata": {
    "scrolled": true
   },
   "outputs": [],
   "source": [
    "#Test de stationnarité \n",
    "kpss_results = {}\n",
    "print(f'X')\n",
    "kpss_results = kpss_test(X)"
   ]
  },
  {
   "cell_type": "markdown",
   "metadata": {},
   "source": [
    "#### 4.2 Les variables dépendantes"
   ]
  },
  {
   "cell_type": "code",
   "execution_count": null,
   "metadata": {
    "scrolled": true
   },
   "outputs": [],
   "source": [
    "y.plot()\n",
    "plt.title('Index')\n",
    "plt.xlabel('Date')\n",
    "plt.ylabel('Rendement')\n",
    "plt.legend(loc='best', bbox_to_anchor=(1, 0.5), title=\"Actions\")\n",
    "plt.show();"
   ]
  },
  {
   "cell_type": "code",
   "execution_count": null,
   "metadata": {
    "scrolled": false
   },
   "outputs": [],
   "source": [
    "#Test de stationnarité\n",
    "kpss_results = {}\n",
    "for i in y:\n",
    "    print(f'{i}')\n",
    "    kpss_results[i] = kpss_test(y[i])"
   ]
  },
  {
   "cell_type": "markdown",
   "metadata": {},
   "source": [
    "### <span style=\"color:red\">5.Tests de normalité</span> \n",
    "\n",
    "#### 5.1 La variable indépendante X"
   ]
  },
  {
   "cell_type": "code",
   "execution_count": null,
   "metadata": {},
   "outputs": [],
   "source": [
    "X.plot.density();"
   ]
  },
  {
   "cell_type": "code",
   "execution_count": null,
   "metadata": {
    "scrolled": false
   },
   "outputs": [],
   "source": [
    "X.plot.box();"
   ]
  },
  {
   "cell_type": "markdown",
   "metadata": {},
   "source": [
    "[![bxplt-inter.png](https://i.postimg.cc/Jz1YdZcx/bxplt-inter.png)](https://postimg.cc/XpzgrZPB)"
   ]
  },
  {
   "cell_type": "code",
   "execution_count": null,
   "metadata": {
    "scrolled": false
   },
   "outputs": [],
   "source": [
    "print('QQ plot du p_risque')\n",
    "sm.qqplot(X, line='s')\n",
    "plt.show();"
   ]
  },
  {
   "cell_type": "code",
   "execution_count": null,
   "metadata": {},
   "outputs": [],
   "source": [
    "#Test de normalité (Shapiro-Wilk)\n",
    "#H0 : distribution normale\n",
    "#HA : pas de distribution normale\n",
    "p_value = 0.05\n",
    "a,b= stats.shapiro(X)\n",
    "print (\"Statistiques\", a, \"p_value\", b)\n",
    "if b < p_value:\n",
    "    print(f\"L'hypothèse nulle H0 peut être rejetée et la série p_risque ne présente pas de distribution normale\")\n",
    "else:\n",
    "    print(f\"L'hypothèse nulle H0 ne peut être rejetée et la série p_risque présente une distribution normale\")"
   ]
  },
  {
   "cell_type": "markdown",
   "metadata": {},
   "source": [
    " #### 5.2 Les variables dépendantes y"
   ]
  },
  {
   "cell_type": "code",
   "execution_count": null,
   "metadata": {
    "scrolled": false
   },
   "outputs": [],
   "source": [
    "y.plot.density();"
   ]
  },
  {
   "cell_type": "code",
   "execution_count": null,
   "metadata": {
    "scrolled": false
   },
   "outputs": [],
   "source": [
    "y.boxplot();"
   ]
  },
  {
   "cell_type": "code",
   "execution_count": null,
   "metadata": {
    "scrolled": false
   },
   "outputs": [],
   "source": [
    "for i,val in enumerate(y):\n",
    "    print('QQ plot de', val)\n",
    "    sm.qqplot(y[val], line='s')\n",
    "    plt.show();"
   ]
  },
  {
   "cell_type": "code",
   "execution_count": null,
   "metadata": {},
   "outputs": [],
   "source": [
    "#Test de normalité (Shapiro-Wilk)\n",
    "#H0 : distribution normale\n",
    "#HA : pas de distribution normale\n",
    "p_value = 0.05\n",
    "for i in y :\n",
    "    print(i)\n",
    "    a,b= stats.shapiro(y[[i]])\n",
    "    print (\"Statistiques\", a, \"p_value\", b)\n",
    "    if b < p_value:\n",
    "        print(f\"L'hypothèse nulle H0 peut être rejetée et la série {i} ne présente pas de distribution normale\")\n",
    "    else:\n",
    "        print(f\"L'hypothèse nulle H0 ne peut être rejetée et la série {i} présente une distribution normale\")\n",
    "        "
   ]
  },
  {
   "cell_type": "markdown",
   "metadata": {},
   "source": [
    "### <span style=\"color:red\">6.Estimation du modèle</span> "
   ]
  },
  {
   "cell_type": "markdown",
   "metadata": {},
   "source": [
    "[![level-level.png](https://i.postimg.cc/V666gLxY/level-level.png)](https://postimg.cc/jWptdKq9)"
   ]
  },
  {
   "cell_type": "code",
   "execution_count": null,
   "metadata": {},
   "outputs": [],
   "source": [
    "Z = pd.concat ([y,X],1)"
   ]
  },
  {
   "cell_type": "code",
   "execution_count": null,
   "metadata": {},
   "outputs": [],
   "source": [
    "skip = ['p_risque'] \n",
    "cols = Z.columns[~Z.columns.isin(skip)]\n",
    "liste = []\n",
    "alpha = []\n",
    "pval = []\n",
    "rsq = []\n",
    "resid = []\n",
    "Mco = []\n",
    "for i in cols:\n",
    "    mco = smf.ols(i+'~p_risque',data = Z).fit()\n",
    "    liste.append(mco.summary())\n",
    "    alpha.append(mco.params.loc['Intercept'])\n",
    "    pval.append(mco.pvalues)\n",
    "    rsq.append(mco.rsquared_adj)\n",
    "    resid.append(sum(mco.resid))\n",
    "    Mco.append(mco)\n"
   ]
  },
  {
   "cell_type": "code",
   "execution_count": null,
   "metadata": {},
   "outputs": [],
   "source": [
    "#Résultats de la régression\n",
    "for l in liste:\n",
    "    print(f'{l}\\n')"
   ]
  },
  {
   "cell_type": "markdown",
   "metadata": {},
   "source": [
    "**Analyse des résultats de l'action CAT \"CATERPILLAR\"**\n",
    "\n",
    "- Le **R²** est de 41.6 % qui est un score assez moyen\n",
    "- Le p_risque affecte significativement la variable CAT avec une **p-value (P>|t|)** < 0.05 et une **t (coef/std err)** assez élevèe.\n",
    "- **Omnibus** décrit la normalité de la distribution des biais combinant les valeurs skew/kurtosis, 0.078 est une distribution pseudo-normale.\n",
    "- **Prob(Omnibus)** est la probabilité que les biais auront une distribution normale, 1 correspondrait à une distribution normale, ici 0.962 est une probabilité de distribution pseudo-normale.\n",
    "- **Skew** la mesure de symétrie des donnés, 0 serait une symètrie parfaite. **Kurtosis** est la mesure d'aplatissement des données plottées,un Kurtosis important implique un nombre réduit d'outliers.\n",
    "- **Durbin-Watson** est la mesure d'homoscédasticité."
   ]
  },
  {
   "cell_type": "markdown",
   "metadata": {},
   "source": [
    "[![level-level2.png](https://i.postimg.cc/sfbYMtWB/level-level2.png)](https://postimg.cc/rzC0bZQc)"
   ]
  },
  {
   "cell_type": "code",
   "execution_count": null,
   "metadata": {},
   "outputs": [],
   "source": [
    "#Test de normalité des résidus(Shapiro-Wilk)\n",
    "p_value = 0.05\n",
    "NormofResid = []\n",
    "for i,MCo in enumerate(Mco):\n",
    "    a,b= stats.shapiro(MCo.resid)\n",
    "    if b < p_value:\n",
    "        NormofResid.append('Les résidus ne suivent pas une loi normale')\n",
    "    else:\n",
    "        NormofResid.append('Les résidus suivent une loi normale')\n",
    "pd.DataFrame(NormofResid, index = cols, columns=['Acceptation du modèle'])"
   ]
  },
  {
   "cell_type": "markdown",
   "metadata": {},
   "source": [
    "#### Le modèle est plus pertinent si les valeurs de ses résidus suivent une distribution normale !"
   ]
  },
  {
   "cell_type": "markdown",
   "metadata": {},
   "source": [
    "### <span style=\"color:red\">7. Vérification des hypothèses </span> "
   ]
  },
  {
   "cell_type": "markdown",
   "metadata": {},
   "source": [
    "[![hyp.png](https://i.postimg.cc/sXDBLJhC/hyp.png)](https://postimg.cc/nsgcjB23)"
   ]
  },
  {
   "cell_type": "markdown",
   "metadata": {},
   "source": [
    "#### 7.1 Colinéarité"
   ]
  },
  {
   "cell_type": "markdown",
   "metadata": {},
   "source": [
    "En Régression linéaire simple, il y a juste une variable, donc la colinéarité n'existe pas."
   ]
  },
  {
   "cell_type": "markdown",
   "metadata": {},
   "source": [
    "#### 7.2 Calcul du Biais"
   ]
  },
  {
   "cell_type": "code",
   "execution_count": null,
   "metadata": {
    "scrolled": true
   },
   "outputs": [],
   "source": [
    "resid1=pd.DataFrame(resid, index = cols, columns = ['Biais'])\n",
    "resid1 /= len(y)\n",
    "resid1"
   ]
  },
  {
   "cell_type": "markdown",
   "metadata": {},
   "source": [
    "Des valeurs très proches de zéro !"
   ]
  },
  {
   "cell_type": "markdown",
   "metadata": {},
   "source": [
    "#### 7.3 Autocorrelation"
   ]
  },
  {
   "cell_type": "code",
   "execution_count": null,
   "metadata": {},
   "outputs": [],
   "source": [
    "# Test d'autocolération \n",
    "name = ['Lagrange multiplier statistic', 'p-value',\n",
    "        'f-value', 'f p-value']\n",
    "for ii,OlS in enumerate(Mco):\n",
    "    test=sms.acorr_breusch_godfrey(OlS,20)\n",
    "    \n",
    "    if test[1] < p_value:\n",
    "        print(f\"L'hypothèse nulle H0 peut être rejetée et l'actif '{cols[ii]}' est autocorrelé!\")\n",
    "        print('')\n",
    "    else:\n",
    "        print(f\"L'hypothèse nulle H0 ne peut être rejetée et l'actif '{cols[ii]}' n'est pas autocorrelé!\")\n",
    "        print('')"
   ]
  },
  {
   "cell_type": "markdown",
   "metadata": {},
   "source": [
    "#### 7.4 Homoscédasticité"
   ]
  },
  {
   "cell_type": "code",
   "execution_count": null,
   "metadata": {
    "scrolled": false
   },
   "outputs": [],
   "source": [
    "for i in cols:\n",
    "    mco = smf.ols(i+'~p_risque',data = Z).fit()\n",
    "    print(f'== {i} Homoscedasticity Breusch-Pagan Test ==')\n",
    "    print('')\n",
    "    print('Breusch-Pagan LM Test Statistic:', np.round(sms.het_breuschpagan(mco.resid, mco.model.exog)[0]))\n",
    "    print('Breusch-Pagan LM Test P-Value:', np.round(sms.het_breuschpagan(mco.resid, mco.model.exog)[1]))\n",
    "    print('Breusch-Pagan LM Test F-value:', np.round(sms.het_breuschpagan(mco.resid, mco.model.exog)[2]))\n",
    "    print('Breusch-Pagan LM Test F P-Value:', np.round(sms.het_breuschpagan(mco.resid, mco.model.exog)[3]))\n",
    "    p = np.round(sms.het_breuschpagan(mco.resid, mco.model.exog)[1])\n",
    "    print('----------------')\n",
    "    if p > 0.05:\n",
    "        print(\"Hypothèse H0 retenue (p-value> 5%): Homoscedasticité présente \")\n",
    "    else:\n",
    "        print(\"Hypothèse H0 rejetée (p-value< 5%): pas d'Homoscedasticité présente \")\n",
    "    print('')"
   ]
  },
  {
   "cell_type": "markdown",
   "metadata": {},
   "source": [
    "### <span style=\"color:red\">8. Vérification de l'Alpha de Jensen </span> "
   ]
  },
  {
   "cell_type": "code",
   "execution_count": null,
   "metadata": {
    "scrolled": false
   },
   "outputs": [],
   "source": [
    "CAPM = pd.DataFrame(np.column_stack([rsq, alpha, pval]), index = cols, columns = ('R²_adj','Alpha-Jensen(β0)', 'p-value', 'p_risque'))"
   ]
  },
  {
   "cell_type": "code",
   "execution_count": null,
   "metadata": {},
   "outputs": [],
   "source": [
    "CAPM"
   ]
  },
  {
   "cell_type": "markdown",
   "metadata": {},
   "source": [
    "**La p-value** des actifs V (Visa) & MCD (Mc Donald's) montrent une forte significativité statistique du p_risque "
   ]
  },
  {
   "cell_type": "markdown",
   "metadata": {},
   "source": [
    "### <span style=\"color:red\">9. Application du Fama French 3 facteurs</span> "
   ]
  },
  {
   "cell_type": "markdown",
   "metadata": {},
   "source": [
    "#### 9.1 Mise à jour des variables indépendantes \n",
    "\n",
    "#### `Les 3 facteurs seront \"p_risque\" / \"SMB\" / \"HML\"`"
   ]
  },
  {
   "cell_type": "code",
   "execution_count": null,
   "metadata": {},
   "outputs": [],
   "source": [
    "X_3 = df[['p_risque','SMB','HML']]"
   ]
  },
  {
   "cell_type": "markdown",
   "metadata": {},
   "source": [
    "#### 9.2 Tests de stationnarité de X_3 "
   ]
  },
  {
   "cell_type": "code",
   "execution_count": null,
   "metadata": {},
   "outputs": [],
   "source": [
    "X_3.plot()\n",
    "plt.title('Index')\n",
    "plt.xlabel('Date')\n",
    "plt.ylabel('P_RISQUE/SMB/HML')\n",
    "plt.legend(loc='best', bbox_to_anchor=(1, 0.5))\n",
    "plt.show();"
   ]
  },
  {
   "cell_type": "code",
   "execution_count": null,
   "metadata": {
    "scrolled": false
   },
   "outputs": [],
   "source": [
    "#Test de stationnarité \n",
    "for i in X_3:\n",
    "    kpss_results = {}\n",
    "    print(f'{i}')\n",
    "    kpss_results = kpss_test(X_3[i])"
   ]
  },
  {
   "cell_type": "markdown",
   "metadata": {},
   "source": [
    "#### 9.3 Tests de normalité de X_3 "
   ]
  },
  {
   "cell_type": "code",
   "execution_count": null,
   "metadata": {},
   "outputs": [],
   "source": [
    "X_3.plot.density();"
   ]
  },
  {
   "cell_type": "code",
   "execution_count": null,
   "metadata": {
    "scrolled": true
   },
   "outputs": [],
   "source": [
    "#Test de normalité (Shapiro-Wilk)\n",
    "#H0 : distribution normale\n",
    "#HA : pas de distribution normale\n",
    "p_value = 0.05\n",
    "for i in X_3 :\n",
    "    print(i)\n",
    "    a,b= stats.shapiro(X_3[[i]])\n",
    "    print (\"Statistiques\", a, \"p_value\", b)\n",
    "    if b < p_value:\n",
    "        print(f\"L'hypothèse nulle H0 peut être rejetée et la série {i} ne présente pas de distribution normale\")\n",
    "    else:\n",
    "        print(f\"L'hypothèse nulle H0 ne peut être rejetée et la série {i} présente une distribution normale\")"
   ]
  },
  {
   "cell_type": "markdown",
   "metadata": {},
   "source": [
    "#### 9.4 Vérification des hypothèses des moindres carrées OLS"
   ]
  },
  {
   "cell_type": "code",
   "execution_count": null,
   "metadata": {},
   "outputs": [],
   "source": [
    "Z_3 = pd.concat ([y,X_3],1)"
   ]
  },
  {
   "cell_type": "code",
   "execution_count": null,
   "metadata": {},
   "outputs": [],
   "source": [
    "skip = ['p_risque','SMB','HML'] \n",
    "cols = Z_3.columns[~Z_3.columns.isin(skip)]\n",
    "liste3 = []\n",
    "alpha3 = []\n",
    "pval3 = []\n",
    "rsq3 = []\n",
    "resid3 = []\n",
    "Mco = []\n",
    "for i in cols:\n",
    "    mco = smf.ols(i+'~p_risque+SMB+HML',data = Z_3).fit()\n",
    "    liste3.append(mco.summary())\n",
    "    alpha3.append(mco.params.loc['Intercept'])\n",
    "    pval3.append(mco.pvalues)\n",
    "    rsq3.append(mco.rsquared_adj)\n",
    "    resid3.append(sum(mco.resid))\n",
    "    Mco.append(mco)\n"
   ]
  },
  {
   "cell_type": "code",
   "execution_count": null,
   "metadata": {
    "scrolled": false
   },
   "outputs": [],
   "source": [
    "#Résultats de la régression\n",
    "for l_3 in liste3:\n",
    "    print(f'{l_3}\\n')"
   ]
  },
  {
   "cell_type": "code",
   "execution_count": null,
   "metadata": {},
   "outputs": [],
   "source": [
    "#Test de normalité (Shapiro-Wilk)\n",
    "p_value = 0.05\n",
    "NormofResid = []\n",
    "for i,MCo in enumerate(Mco):\n",
    "    a,b= stats.shapiro(MCo.resid)\n",
    "    if b < p_value:\n",
    "        NormofResid.append('Les résidus ne suivent pas une loi normale')\n",
    "    else:\n",
    "        NormofResid.append('Les résidus suivent une loi normale')\n",
    "pd.DataFrame(NormofResid, index = cols, columns=['Acceptation du modèle'])"
   ]
  },
  {
   "cell_type": "code",
   "execution_count": null,
   "metadata": {},
   "outputs": [],
   "source": [
    "FF3 = pd.DataFrame(np.column_stack([rsq3, alpha3, pval3]), index = cols, columns = ('R²_adj','Alpha-Jensen(β0)', 'p-value', 'p_risque(β1)', 'SMB(β2)', 'HML(β3)'))"
   ]
  },
  {
   "cell_type": "markdown",
   "metadata": {},
   "source": [
    "### <span style=\"color:red\">10. Vérification des hypothèses </span> "
   ]
  },
  {
   "cell_type": "markdown",
   "metadata": {},
   "source": [
    "#### 10.1 Test de colinéarité"
   ]
  },
  {
   "cell_type": "code",
   "execution_count": null,
   "metadata": {},
   "outputs": [],
   "source": [
    "def vif_cal(input_data, dependent_col):\n",
    "    x_vars=input_data.drop([dependent_col], axis=1)\n",
    "    xvar_names=x_vars.columns\n",
    "    for i in range(0,xvar_names.shape[0]):\n",
    "        y=x_vars[xvar_names[i]] \n",
    "        x=x_vars[xvar_names.drop(xvar_names[i])]\n",
    "        rsq=smf.ols(formula=\"y~x\", data=x_vars).fit().rsquared  \n",
    "        vif=round(1/(1-rsq),2)\n",
    "        print (xvar_names[i], \" VIF = \" , vif)"
   ]
  },
  {
   "cell_type": "code",
   "execution_count": null,
   "metadata": {
    "scrolled": false
   },
   "outputs": [],
   "source": [
    "for col_y in cols:\n",
    "    print(col_y + ':')\n",
    "    input = Z_3[[col_y,'p_risque', 'SMB', 'HML']]\n",
    "    vif_cal(input_data=input , dependent_col= col_y)\n",
    "    print(\"-------------------------------\")"
   ]
  },
  {
   "cell_type": "markdown",
   "metadata": {},
   "source": [
    "#### 10.2 Calcul du Biais"
   ]
  },
  {
   "cell_type": "code",
   "execution_count": null,
   "metadata": {
    "scrolled": false
   },
   "outputs": [],
   "source": [
    "resid3=pd.DataFrame(resid3, index = cols, columns = ['Biais'])\n",
    "resid3 /= len(y)\n",
    "resid3"
   ]
  },
  {
   "cell_type": "markdown",
   "metadata": {},
   "source": [
    "#### 10.3 Autocorrelation"
   ]
  },
  {
   "cell_type": "code",
   "execution_count": null,
   "metadata": {},
   "outputs": [],
   "source": [
    "# Test d'autocolération \n",
    "name = ['Lagrange multiplier statistic', 'p-value',\n",
    "        'f-value', 'f p-value']\n",
    "for ii,OlS in enumerate(Mco):\n",
    "    test=sms.acorr_breusch_godfrey(OlS,20)\n",
    "    \n",
    "    if test[1] < p_value:\n",
    "        print(f\"L'hypothèse nulle H0 peut être rejetée et l'actif {cols[ii]} est autocorrelé!\")\n",
    "        print(\"----------\")\n",
    "    else:\n",
    "        print(f\"L'hypothèse nulle H0 ne peut être rejetée et l'actif {cols[ii]} n'est pas autocorrelé!\" )\n",
    "        print(\"----------\")"
   ]
  },
  {
   "cell_type": "markdown",
   "metadata": {},
   "source": [
    "#### 10.4 Homoscédasticité"
   ]
  },
  {
   "cell_type": "code",
   "execution_count": null,
   "metadata": {
    "scrolled": true
   },
   "outputs": [],
   "source": [
    "for i in cols:\n",
    "    mco = smf.ols(i+'~p_risque+SMB+HML',data = Z_3).fit()\n",
    "    print(f'== {i} Homoscedasticity Breusch-Pagan Test ==')\n",
    "    print('')\n",
    "    print('Breusch-Pagan LM Test Statistic:', np.round(sms.het_breuschpagan(mco.resid, mco.model.exog)[0]))\n",
    "    print('Breusch-Pagan LM Test P-Value:', np.round(sms.het_breuschpagan(mco.resid, mco.model.exog)[1]))\n",
    "    print('Breusch-Pagan LM Test F-value:', np.round(sms.het_breuschpagan(mco.resid, mco.model.exog)[2]))\n",
    "    print('Breusch-Pagan LM Test F P-Value:', np.round(sms.het_breuschpagan(mco.resid, mco.model.exog)[3]))\n",
    "    p = np.round(sms.het_breuschpagan(mco.resid, mco.model.exog)[1])\n",
    "    print('----------------')\n",
    "    if p > 0.05:\n",
    "        print(\"Hypothèse H0 retenue (p-value> 5%): Homoscedasticité présente \")\n",
    "    else:\n",
    "        print(\"Hypothèse H0 rejetée (p-value< 5%): pas d'Homoscedasticité présente \")\n",
    "    print('')"
   ]
  },
  {
   "cell_type": "markdown",
   "metadata": {},
   "source": [
    "### <span style=\"color:red\">11. Application du Fama French 5 facteurs</span> "
   ]
  },
  {
   "cell_type": "markdown",
   "metadata": {},
   "source": [
    "#### 11.1 Mise à jour des variables indépendantes \n",
    "\n",
    "#### `Les 5 facteurs seront \"p_risque\" / \"SMB\" / \"HML\" / \"RMW\" / \"CMA\"`"
   ]
  },
  {
   "cell_type": "code",
   "execution_count": null,
   "metadata": {},
   "outputs": [],
   "source": [
    "X_5 = df[['p_risque','SMB','HML','RMW','CMA']]"
   ]
  },
  {
   "cell_type": "markdown",
   "metadata": {},
   "source": [
    "#### 11.2 Tests de stationnarité de X_5 "
   ]
  },
  {
   "cell_type": "code",
   "execution_count": null,
   "metadata": {
    "scrolled": false
   },
   "outputs": [],
   "source": [
    "# Séparation des plots à différentes échelles\n",
    "\n",
    "fig, (ax1, ax2) = plt.subplots(2)\n",
    "fig.suptitle('RMW / CMA')\n",
    "ax1.plot(X_5.index, X_5['RMW'], color = 'red', label = 'RMW')\n",
    "ax1.legend()\n",
    "ax2.plot(X_5.index, X_5['CMA'], color = 'green',label = 'CMA')\n",
    "ax2.legend()\n",
    "plt.show();"
   ]
  },
  {
   "cell_type": "code",
   "execution_count": null,
   "metadata": {
    "scrolled": false
   },
   "outputs": [],
   "source": [
    "#Test de stationnarité \n",
    "for i in X_5[['RMW','CMA']]:\n",
    "    kpss_results = {}\n",
    "    print(f'{i}')\n",
    "    kpss_results = kpss_test(X_5[i])"
   ]
  },
  {
   "cell_type": "markdown",
   "metadata": {},
   "source": [
    "#### 11.3 Tests de normalité de X_5 "
   ]
  },
  {
   "cell_type": "code",
   "execution_count": null,
   "metadata": {},
   "outputs": [],
   "source": [
    "X_5['RMW'].plot.density();"
   ]
  },
  {
   "cell_type": "code",
   "execution_count": null,
   "metadata": {},
   "outputs": [],
   "source": [
    "X_5['CMA'].plot.density();"
   ]
  },
  {
   "cell_type": "markdown",
   "metadata": {},
   "source": [
    "#### 11.4 Vérification des hypothèses des moindres carrées OLS"
   ]
  },
  {
   "cell_type": "code",
   "execution_count": null,
   "metadata": {},
   "outputs": [],
   "source": [
    "Z_5 = pd.concat ([y,X_5],1)"
   ]
  },
  {
   "cell_type": "code",
   "execution_count": null,
   "metadata": {},
   "outputs": [],
   "source": [
    "skip = ['p_risque','SMB','HML','RMW','CMA'] \n",
    "cols = Z_5.columns[~Z_5.columns.isin(skip)]\n",
    "liste5 = []\n",
    "alpha5 = []\n",
    "pval5 = []\n",
    "rsq5 = []\n",
    "resid5 = []\n",
    "Mco = []\n",
    "for i in cols:\n",
    "    mco = smf.ols(i+'~p_risque+SMB+HML+RMW+CMA',data = Z_5).fit()\n",
    "    liste5.append(mco.summary())\n",
    "    alpha5.append(mco.params.loc['Intercept'])\n",
    "    pval5.append(mco.pvalues)\n",
    "    rsq5.append(mco.rsquared_adj)\n",
    "    resid5.append(sum(mco.resid))\n",
    "    Mco.append(mco)"
   ]
  },
  {
   "cell_type": "code",
   "execution_count": null,
   "metadata": {},
   "outputs": [],
   "source": [
    "#Test de normalité (Shapiro-Wilk)\n",
    "p_value = 0.05\n",
    "NormofResid = []\n",
    "for i,MCo in enumerate(Mco):\n",
    "    a,b= stats.shapiro(MCo.resid)\n",
    "    if b < p_value:\n",
    "        NormofResid.append('Les résidus ne suivent pas une loi normale')\n",
    "    else:\n",
    "        NormofResid.append('Les résidus suivent une loi normale')\n",
    "pd.DataFrame(NormofResid, index = cols, columns=['Acceptation du modèle'])"
   ]
  },
  {
   "cell_type": "code",
   "execution_count": null,
   "metadata": {},
   "outputs": [],
   "source": [
    "FF5 = pd.DataFrame(np.column_stack([rsq5, alpha5, pval5]), index = cols, columns = ('R²_adj','Alpha-Jensen (β0)', 'p-value', 'p_risque(β1)', 'SMB(β2)', 'HML(β3)', 'RMW(β4)','CMA(β5)'))"
   ]
  },
  {
   "cell_type": "markdown",
   "metadata": {},
   "source": [
    "### <span style=\"color:red\">12. Vérification des hypothèses </span> "
   ]
  },
  {
   "cell_type": "markdown",
   "metadata": {},
   "source": [
    "#### 12.1 Test de colinéarité"
   ]
  },
  {
   "cell_type": "code",
   "execution_count": null,
   "metadata": {
    "scrolled": true
   },
   "outputs": [],
   "source": [
    "for col_y in cols:\n",
    "    print(col_y + ':')\n",
    "    input = Z_5[[col_y,'p_risque','SMB','HML','RMW','CMA']]\n",
    "    vif_cal(input_data=input , dependent_col= col_y)\n",
    "    print(\"--------------\")"
   ]
  },
  {
   "cell_type": "markdown",
   "metadata": {},
   "source": [
    "#### 12.2 Calcul du Biais"
   ]
  },
  {
   "cell_type": "code",
   "execution_count": null,
   "metadata": {
    "scrolled": false
   },
   "outputs": [],
   "source": [
    "resid5=pd.DataFrame(resid5, index = cols, columns = ['Biais'])\n",
    "resid5 /= len(y)\n",
    "resid5"
   ]
  },
  {
   "cell_type": "markdown",
   "metadata": {},
   "source": [
    "#### 12.3 Autocorrelation"
   ]
  },
  {
   "cell_type": "code",
   "execution_count": null,
   "metadata": {},
   "outputs": [],
   "source": [
    "# Test d'autocolération \n",
    "name = ['Lagrange multiplier statistic', 'p-value',\n",
    "        'f-value', 'f p-value']\n",
    "for ii,OlS in enumerate(Mco):\n",
    "    test=sms.acorr_breusch_godfrey(OlS,20)\n",
    "    \n",
    "    if test[1] < p_value:\n",
    "        print(f\"L'hypothèse nulle H0 peut être rejetée et l'actif {cols[ii]} est autocorrelé!\")\n",
    "        print(\"\")\n",
    "    else:\n",
    "        print(f\"L'hypothèse nulle H0 ne peut être rejetée et l'actif {cols[ii]} n'est pas autocorrelé!\")\n",
    "        print(\"\")"
   ]
  },
  {
   "cell_type": "markdown",
   "metadata": {},
   "source": [
    "#### 12.4 Homoscédasticité"
   ]
  },
  {
   "cell_type": "code",
   "execution_count": null,
   "metadata": {
    "scrolled": false
   },
   "outputs": [],
   "source": [
    "for i in cols:\n",
    "    mco = smf.ols(i+'~p_risque+SMB+HML+RMW+CMA',data = Z_5).fit()\n",
    "    print(f'== {i} Homoscedasticity Breusch-Pagan Test ==')\n",
    "    print('')\n",
    "    print('Breusch-Pagan LM Test Statistic:', np.round(sms.het_breuschpagan(mco.resid, mco.model.exog)[0]))\n",
    "    print('Breusch-Pagan LM Test P-Value:', np.round(sms.het_breuschpagan(mco.resid, mco.model.exog)[1]))\n",
    "    print('Breusch-Pagan LM Test F-value:', np.round(sms.het_breuschpagan(mco.resid, mco.model.exog)[2]))\n",
    "    print('Breusch-Pagan LM Test F P-Value:', np.round(sms.het_breuschpagan(mco.resid, mco.model.exog)[3]))\n",
    "    p = np.round(sms.het_breuschpagan(mco.resid, mco.model.exog)[1])\n",
    "    print('----------------')\n",
    "    if p > 0.05:\n",
    "        print(\"Hypothèse H0 retenue (p-value> 5%): Homoscedasticité présente \")\n",
    "    else:\n",
    "        print(\"Hypothèse H0 rejetée (p-value< 5%): pas d'Homoscedasticité présente \")\n",
    "    print('')"
   ]
  },
  {
   "cell_type": "markdown",
   "metadata": {},
   "source": [
    "### <span style=\"color:red\">13.  CAPM / Fama & French 3 / Fama & French 5 </span> "
   ]
  },
  {
   "cell_type": "code",
   "execution_count": null,
   "metadata": {},
   "outputs": [],
   "source": [
    "d = {'CAPM' : CAPM, 'FAMAFRENCH 3' : FF3, 'FAMAFRENCH 5' : FF5}\n",
    "final = pd.concat([CAPM,FF3,FF5], axis=1, keys=d.keys())"
   ]
  },
  {
   "cell_type": "code",
   "execution_count": null,
   "metadata": {
    "scrolled": true
   },
   "outputs": [],
   "source": [
    "pd.options.display.max_columns = 20\n",
    "pd.options.display.max_rows = 20\n",
    "final"
   ]
  },
  {
   "cell_type": "code",
   "execution_count": null,
   "metadata": {
    "scrolled": false
   },
   "outputs": [],
   "source": [
    "final.plot(y=[(        'CAPM',            'R²_adj'),('FAMAFRENCH 3',            'R²_adj'),('FAMAFRENCH 5',            'R²_adj')], kind=\"bar\", title='R²_adj');"
   ]
  },
  {
   "cell_type": "markdown",
   "metadata": {},
   "source": [
    "- Les **R² ajustés** varient légèrement du CAPM vers le F&F 5 facteurs"
   ]
  },
  {
   "cell_type": "code",
   "execution_count": null,
   "metadata": {
    "scrolled": false
   },
   "outputs": [],
   "source": [
    "final.plot(y=[(        'CAPM',            'p-value'),('FAMAFRENCH 3',            'p-value'),('FAMAFRENCH 5',            'p-value')], kind=\"bar\",color=['darkred', 'gold', 'mediumblue'],title = 'p-value');"
   ]
  },
  {
   "cell_type": "markdown",
   "metadata": {},
   "source": [
    "- Les actifs V (VISA) & MCD (Mc Donald's) ont la plus grande significativité statistique avec une **p-value < 0.05** "
   ]
  },
  {
   "cell_type": "code",
   "execution_count": null,
   "metadata": {
    "scrolled": false
   },
   "outputs": [],
   "source": [
    "final.plot(y=[(        'CAPM',            'Alpha-Jensen(β0)'),('FAMAFRENCH 3',            'Alpha-Jensen(β0)'),('FAMAFRENCH 5', 'Alpha-Jensen (β0)')], kind=\"bar\",color=['green', 'black', 'red'], title = 'Alpha-Jensen (β0)');"
   ]
  },
  {
   "cell_type": "markdown",
   "metadata": {},
   "source": [
    "- L'**Alpha de Jensen** pour un actif donné augumente du CAPM vers le FF5"
   ]
  }
 ],
 "metadata": {
  "kernelspec": {
   "display_name": "Python 3",
   "language": "python",
   "name": "python3"
  },
  "language_info": {
   "codemirror_mode": {
    "name": "ipython",
    "version": 3
   },
   "file_extension": ".py",
   "mimetype": "text/x-python",
   "name": "python",
   "nbconvert_exporter": "python",
   "pygments_lexer": "ipython3",
   "version": "3.8.5"
  }
 },
 "nbformat": 4,
 "nbformat_minor": 4
}
